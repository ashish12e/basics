{
 "cells": [
  {
   "cell_type": "markdown",
   "metadata": {},
   "source": [
    "## classes"
   ]
  },
  {
   "cell_type": "code",
   "execution_count": 18,
   "metadata": {},
   "outputs": [
    {
     "name": "stdout",
     "output_type": "stream",
     "text": [
      "Welcome : Ashish\n",
      "piyush lives in  noida\n",
      "Welcome : piyush\n",
      "______________________________\n",
      "Ashish lives in  Mumbai\n",
      "Welcome : Ashish\n"
     ]
    }
   ],
   "source": [
    "class Person:\n",
    "  name = \"Ashish\"\n",
    "  city = \"Mumbai\"\n",
    "  \n",
    "  # by default if not args are needed the self must be there if function \n",
    "  # is inside class \n",
    "  # self means values are coming from object \n",
    "  def greet(self):\n",
    "    print('Welcome :', self.name)\n",
    "\n",
    "# we can changes variables values\n",
    "p1=Person()\n",
    "p1.greet()\n",
    "p1.name = 'piyush'\n",
    "p1.city = 'noida'\n",
    "print(p1.name,'lives in ', p1.city)\n",
    "p1.greet()\n",
    "\n",
    "print('_' * 30)\n",
    "p2=Person()\n",
    "print(p2.name,'lives in ', p2.city)\n",
    "p2.greet()"
   ]
  },
  {
   "cell_type": "code",
   "execution_count": 46,
   "metadata": {},
   "outputs": [
    {
     "name": "stdout",
     "output_type": "stream",
     "text": [
      "______________________________\n",
      "hi there .....\n",
      "Ashish\n",
      "1001\n",
      "20383810\n",
      "______________________________\n",
      "Agent id: 20383810\n",
      "Name is : prisha\n",
      "Age is  : 10\n"
     ]
    }
   ],
   "source": [
    "class agent:\n",
    "    agent_id = 1\n",
    "    def __init__(self,aid):\n",
    "        name = 'Ashish'\n",
    "        print('hi there .....')\n",
    "        print(name)\n",
    "        print(self.agent_id)\n",
    "        self.agent_id = aid\n",
    "        print(self.agent_id)\n",
    "    agent_id = 1001\n",
    "    print('_'*30)\n",
    "    def detais(self, age, ag_name):\n",
    "        print('_'*30)\n",
    "        print('Agent id:', self.agent_id)\n",
    "        print('Name is :', ag_name)\n",
    "        print('Age is  :', age)\n",
    "        \n",
    "ag = agent(20383810)\n",
    "ag.detais(10, 'prisha')\n"
   ]
  },
  {
   "cell_type": "code",
   "execution_count": 73,
   "metadata": {},
   "outputs": [],
   "source": [
    "class basicops:\n",
    "    # num1 = 0\n",
    "    # num2 = 1\n",
    "    # oprtion = 'N'\n",
    "    def __init__(self, a,b,c):\n",
    "        self.num1 = a\n",
    "        self.num2 = b\n",
    "        self.oprtion = c\n",
    "        # self.add(self.num1, self.num2)\n",
    "        # self.mul(self.num1, self.num2)\n",
    "        \n",
    "    def add(self, n1,n2):\n",
    "        print(\"inside add func\")\n",
    "        print(self.num1, self.num2)\n",
    "        return n1 + n2\n",
    "    def mul(self, n1,n2):\n",
    "        print(\"inside mul func\")\n",
    "        return n1 * n2\n",
    "\n",
    "bs =  basicops(2,3,'A')"
   ]
  },
  {
   "cell_type": "code",
   "execution_count": 74,
   "metadata": {},
   "outputs": [
    {
     "name": "stdout",
     "output_type": "stream",
     "text": [
      "inside mul func\n",
      "12\n",
      "inside add func\n",
      "2 3\n",
      "15\n",
      "None\n"
     ]
    }
   ],
   "source": [
    "print(bs.mul(3,4))\n",
    "\n",
    "print(bs.add(7,8))\n",
    "\n",
    "print(bs.__init__(5,6,'y'))"
   ]
  },
  {
   "cell_type": "code",
   "execution_count": 6,
   "metadata": {},
   "outputs": [],
   "source": [
    "class dataSet:\n",
    "    def __init__(self, data):\n",
    "        self.data = data\n",
    "        # input_print(self)\n",
    "    \n",
    "    def input_print(self):\n",
    "        print(self.data)\n",
    "    def multiplier(self, factor):\n",
    "        return [i *  factor for i in self.data]\n",
    "    def sorter(self):\n",
    "        return sorted(self.data, reverse= True)\n"
   ]
  },
  {
   "cell_type": "code",
   "execution_count": 9,
   "metadata": {},
   "outputs": [
    {
     "name": "stdout",
     "output_type": "stream",
     "text": [
      "[1, 2, 3, 4, 5]\n",
      "[3, 6, 9, 12, 15]\n",
      "[5, 4, 3, 2, 1]\n"
     ]
    }
   ],
   "source": [
    "d1 = dataSet([1,2,3,4,5])\n",
    "d1.input_print()\n",
    "print(d1.multiplier(3))\n",
    "print(d1.sorter())"
   ]
  },
  {
   "cell_type": "code",
   "execution_count": 26,
   "metadata": {},
   "outputs": [],
   "source": [
    "# inheritance here i am inheriting dataSet class in datasetOps\n",
    "# it contains props of old as well\n",
    "class datasetOps(dataSet):\n",
    "    def __init__(self, data, tup):\n",
    "        super().__init__(data)\n",
    "        self.tup = tup\n",
    "    def even_filter(self):\n",
    "        return [i for i in self.data if i % 2 == 0]\n",
    "    def tup_counter(self, a):\n",
    "        print('count of no', a , 'is', self.tup.count(a))\n"
   ]
  },
  {
   "cell_type": "code",
   "execution_count": 28,
   "metadata": {},
   "outputs": [
    {
     "name": "stdout",
     "output_type": "stream",
     "text": [
      "count of no 2 is 3\n",
      "[1, 2, 3, 4, 5, 6, 7, 8, 9, 0]\n",
      "[5, 10, 15, 20, 25, 30, 35, 40, 45, 0]\n",
      "[9, 8, 7, 6, 5, 4, 3, 2, 1, 0]\n",
      "[2, 4, 6, 8, 0]\n"
     ]
    }
   ],
   "source": [
    "do = datasetOps([1,2,3,4,5,6,7,8,9,0], (1,2,3,2,2,4,4))\n",
    "do.even_filter()\n",
    "do.tup_counter(2)\n",
    "#methods from dataSet class\n",
    "do.input_print()\n",
    "print(do.multiplier(5))\n",
    "print(do.sorter())\n",
    "print(do.even_filter())"
   ]
  },
  {
   "cell_type": "markdown",
   "metadata": {},
   "source": [
    "#shuffle the cards and distribute amoung two players"
   ]
  },
  {
   "cell_type": "code",
   "execution_count": 85,
   "metadata": {},
   "outputs": [],
   "source": [
    "class cards():\n",
    "    def __init__(self):\n",
    "        # self.suites = ['Hearts', 'Diamonds', 'Clubs', 'Spades']\n",
    "        self.suites = ['Hearts']\n",
    "        self.values = ['A','K','Q',2,3,4,5,6,7,8,9,10]"
   ]
  },
  {
   "cell_type": "code",
   "execution_count": 116,
   "metadata": {},
   "outputs": [],
   "source": [
    "class myDeck(cards):\n",
    "    def __init__(self):\n",
    "        super().__init__()\n",
    "        self.cardlist = []\n",
    "    def all_Cards(self):   \n",
    "        for i in self.suites:\n",
    "            for j in self.values:\n",
    "                self.cardlist.append(('{} -{}'.format(i,j)))\n",
    "        print(self.cardlist)\n",
    "        #return self.cardlist"
   ]
  },
  {
   "cell_type": "code",
   "execution_count": 130,
   "metadata": {},
   "outputs": [],
   "source": [
    "import random\n",
    "class suffle(myDeck):\n",
    "    def __init__(self):\n",
    "        myDeck.__init__(self)\n",
    "        \n",
    "    def shuffleCards(self):\n",
    "\n",
    "        # using super we can call methods inherited class\n",
    "        super().all_Cards()\n",
    "        # use self. keyword to access any variable from inherited class\n",
    "        a = self.cardlist\n",
    "        random.shuffle(a)\n",
    "        print(a)\n",
    "        \n"
   ]
  },
  {
   "cell_type": "code",
   "execution_count": 131,
   "metadata": {},
   "outputs": [
    {
     "name": "stdout",
     "output_type": "stream",
     "text": [
      "['Hearts -A', 'Hearts -K', 'Hearts -Q', 'Hearts -2', 'Hearts -3', 'Hearts -4', 'Hearts -5', 'Hearts -6', 'Hearts -7', 'Hearts -8', 'Hearts -9', 'Hearts -10']\n",
      "['Hearts -4', 'Hearts -10', 'Hearts -8', 'Hearts -3', 'Hearts -7', 'Hearts -9', 'Hearts -5', 'Hearts -Q', 'Hearts -K', 'Hearts -A', 'Hearts -6', 'Hearts -2']\n",
      "None\n",
      "['b', 'a', 'c']\n"
     ]
    }
   ],
   "source": [
    "play = suffle()\n",
    "play.shuffleCards()\n",
    "a = ['a', 'b', 'c']\n",
    "print(random.shuffle(a))\n",
    "print(a)"
   ]
  },
  {
   "cell_type": "markdown",
   "metadata": {},
   "source": [
    "## word meaning game using class"
   ]
  },
  {
   "cell_type": "code",
   "execution_count": 21,
   "metadata": {},
   "outputs": [],
   "source": [
    "class flashcard:\n",
    "    # any variable defined here will have access without self\n",
    "    # to every instance of the class, it is a class global attribute\n",
    "    def __init__(self, word, meaning):\n",
    "        self.word = word\n",
    "        self.meaning = meaning\n",
    "    def __str__(self):\n",
    "        return self.word+' ( '+self.meaning+' )'\n",
    "\n",
    "flash = []\n",
    "\n",
    "## below set of lines will create object for flash while calling class flashcard\n",
    "# flash.append(flashcard('apple', 'sev'))\n",
    "# flash.append(flashcard('banana', 'kela'))\n",
    "# flash.append(flashcard('mango', 'aam'))\n",
    "\n",
    "while(True):\n",
    "    word = input(\"Enter word to add:\")\n",
    "    meaning = input(\"Enter word meaning:\")\n",
    "    #calling class flashcard which will add object at flash\n",
    "    flash.append(flashcard(word, meaning))\n",
    "    option = int(input(\"0 to add more\"))\n",
    "\n",
    "    if option:\n",
    "        break\n"
   ]
  },
  {
   "cell_type": "code",
   "execution_count": 24,
   "metadata": {},
   "outputs": [
    {
     "name": "stdout",
     "output_type": "stream",
     "text": [
      "billi\n",
      "cat\n",
      "______________________________\n",
      "[<__main__.flashcard object at 0x000001980882F640>, <__main__.flashcard object at 0x0000019808745E80>, <__main__.flashcard object at 0x0000019807605C40>]\n",
      "______________________________\n",
      "book ( kitab )\n",
      "book meaning is kitab\n",
      "pen ( kalam )\n",
      "pen meaning is kalam\n",
      "bird ( chidiya )\n",
      "bird meaning is chidiya\n"
     ]
    }
   ],
   "source": [
    "fc = flashcard('cat', 'billi')\n",
    "print(fc.meaning)\n",
    "print(fc.word)\n",
    "print('_' * 30)\n",
    "print(flash)\n",
    "print('_' * 30)\n",
    "# iterating through ojects of class in list\n",
    "for i in flash:\n",
    "    print(i)\n",
    "    print(i.word, 'meaning is', i.meaning)"
   ]
  },
  {
   "cell_type": "code",
   "execution_count": 25,
   "metadata": {},
   "outputs": [
    {
     "name": "stdout",
     "output_type": "stream",
     "text": [
      "book\n",
      "kitab\n"
     ]
    }
   ],
   "source": [
    "print(flash[0].word)\n",
    "print(flash[0].meaning)"
   ]
  },
  {
   "cell_type": "markdown",
   "metadata": {},
   "source": [
    "# some basic sample of oops"
   ]
  },
  {
   "cell_type": "code",
   "execution_count": 26,
   "metadata": {},
   "outputs": [],
   "source": [
    "class Dog:\n",
    "    ## class object attribute\n",
    "    ## same for all instance of the class\n",
    "    living = True\n",
    "    species = 'mammal'\n",
    "    def __init__(self, name, breed):\n",
    "        # self key words binds the function to the class\n",
    "        self.name = name\n",
    "        self.breed = breed"
   ]
  },
  {
   "cell_type": "code",
   "execution_count": 39,
   "metadata": {},
   "outputs": [],
   "source": [
    "class Circle:\n",
    "    pi = 3.14\n",
    "    def __init__(self, radius = 1):\n",
    "        self.radius = radius\n",
    "\n",
    "    def Circumference(self):\n",
    "        return 2 * self.pi * self.radius\n",
    "    \n",
    "    def info(self, time):\n",
    "        print(\"Circumference is {} for radius {} at {}\".format(self.Circumference(), self.radius, time))\n",
    "    "
   ]
  },
  {
   "cell_type": "code",
   "execution_count": 41,
   "metadata": {},
   "outputs": [
    {
     "name": "stdout",
     "output_type": "stream",
     "text": [
      "<__main__.Circle object at 0x00000198074A46A0>\n",
      "3.14\n",
      "6.28\n",
      "Circumference is 6.28 for radius 1 at first\n"
     ]
    }
   ],
   "source": [
    "my_circle = Circle()\n",
    "\n",
    "print(my_circle)\n",
    "print(my_circle.pi)\n",
    "print(my_circle.Circumference())\n",
    "(my_circle.info('first'))"
   ]
  },
  {
   "cell_type": "markdown",
   "metadata": {},
   "source": [
    "#problem to create account class with deposite and with drawals"
   ]
  },
  {
   "cell_type": "code",
   "execution_count": 57,
   "metadata": {},
   "outputs": [],
   "source": [
    "class Account:\n",
    "    def __init__(self, name, balance):\n",
    "        self.name = name\n",
    "        self.balance = balance\n",
    "    def deposite(self, amount, uname):\n",
    "        if self.name == uname:\n",
    "            self.balance += amount\n",
    "            print(f'amount of {amount} deposited for {self.name}')\n",
    "        else:\n",
    "            print(\"incorrect user name \")\n",
    "\n",
    "    def withdrwal(self, amount, uname):\n",
    "        if self.name == uname:\n",
    "            if amount <= self.balance:\n",
    "                self.balance -= amount\n",
    "            print(f'amount of {amount} withdrawn for {self.name}')\n",
    "        else:\n",
    "            print(\"Sorry Not enough balance!\")\n",
    "\n",
    "    def __str__(self):\n",
    "        return f'account name {self.name} \\n balance is {self.balance}'\n",
    "    \n",
    "    \n",
    "\n",
    "    "
   ]
  },
  {
   "cell_type": "code",
   "execution_count": 58,
   "metadata": {},
   "outputs": [
    {
     "data": {
      "text/plain": [
       "'account name Ashish \\n balance is 10'"
      ]
     },
     "execution_count": 58,
     "metadata": {},
     "output_type": "execute_result"
    }
   ],
   "source": [
    "acct1 = Account('Ashish', 10)\n",
    "str(acct1)"
   ]
  },
  {
   "cell_type": "code",
   "execution_count": 61,
   "metadata": {},
   "outputs": [
    {
     "name": "stdout",
     "output_type": "stream",
     "text": [
      "amount of 100 deposited for Ashish\n",
      "260\n",
      "amount of 50 withdrawn for Ashish\n",
      "210\n"
     ]
    }
   ],
   "source": [
    "acct1.deposite(100, 'Ashish')\n",
    "print(acct1.balance)\n",
    "acct1.withdrwal(50, 'Ashish')\n",
    "print(acct1.balance)"
   ]
  },
  {
   "cell_type": "code",
   "execution_count": null,
   "metadata": {},
   "outputs": [],
   "source": []
  },
  {
   "cell_type": "code",
   "execution_count": null,
   "metadata": {},
   "outputs": [],
   "source": []
  }
 ],
 "metadata": {
  "kernelspec": {
   "display_name": "pr-venv",
   "language": "python",
   "name": "python3"
  },
  "language_info": {
   "codemirror_mode": {
    "name": "ipython",
    "version": 3
   },
   "file_extension": ".py",
   "mimetype": "text/x-python",
   "name": "python",
   "nbconvert_exporter": "python",
   "pygments_lexer": "ipython3",
   "version": "3.9.11"
  }
 },
 "nbformat": 4,
 "nbformat_minor": 2
}
