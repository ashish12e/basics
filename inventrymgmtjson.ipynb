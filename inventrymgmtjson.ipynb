{
 "cells": [
  {
   "cell_type": "code",
   "execution_count": 1,
   "metadata": {},
   "outputs": [],
   "source": [
    "grocery = {'100': {'name': 'Milky bar ', 'price': 10,  'qn': 30,  'exp': 2023},\n",
    "           '101': {'name': 'Biscuit   ', 'price':  5,  'qn': 100, 'exp': 2022},\n",
    "           '102': {'name': 'Haldiram  ', 'price': 20,  'qn': 50,  'exp': 2024},\n",
    "           '103': {'name': 'Cake      ', 'price': 300, 'qn': 10,  'exp': 2025},\n",
    "           '104': {'name': 'Cold drink', 'price': 50,  'qn': 40,  'exp': 2024}\n",
    "           }"
   ]
  },
  {
   "cell_type": "code",
   "execution_count": 2,
   "metadata": {},
   "outputs": [
    {
     "data": {
      "text/plain": [
       "dict"
      ]
     },
     "execution_count": 2,
     "metadata": {},
     "output_type": "execute_result"
    }
   ],
   "source": [
    "type(grocery)"
   ]
  },
  {
   "cell_type": "code",
   "execution_count": 3,
   "metadata": {},
   "outputs": [],
   "source": [
    "class displayitem():\n",
    "    def __init__(self):\n",
    "        ## do not print here since anytime you create object of this class\n",
    "        ## print will run by default unnecessay \n",
    "\n",
    "        # print('Code' + '        ' + 'Items' + '           ' + 'Price' + '          ' + 'Qunt')\n",
    "        # print('___________________________________________________________')\n",
    "        # for i in grocery.keys():\n",
    "        #     print('{}        {}           {}          {}'.format(i, grocery[i]['name'],grocery[i]['price'],grocery[i]['qn']))\n",
    "        self.stockconfirm = 'N'\n",
    "        self.maxitems = 0\n",
    "    def dispgrocery(self):\n",
    "        print('Code' + '        ' + 'Items' + '           ' + 'Price' + '          ' + 'Qunt')\n",
    "        print('___________________________________________________________')\n",
    "        for i in grocery.keys():\n",
    "            print('{}        {}           {}          {}'.format(i, grocery[i]['name'],grocery[i]['price'],grocery[i]['qn']))\n",
    "    \n",
    "\n",
    "    #check stock\n",
    "    def checkStock(self, item, qn):\n",
    "        try:\n",
    "            if grocery[item]['qn'] >= int(qn):\n",
    "                self.stockconfirm == 'Y'\n",
    "            else:\n",
    "                print('Sorry We have only {} items left for {}'.format(grocery[item]['qn'], grocery[item]['name']))\n",
    "                self.stockconfirm = input('do you wish to continue to give max stock Y/N')\n",
    "                if self.stockconfirm == 'Y' and (grocery[item]['qn'])  > 0:\n",
    "                    self.maxitems = grocery[item]['qn']\n",
    "                else:\n",
    "                    self.stockconfirm == 'N'\n",
    "                    self.maxitems = 0\n",
    "        except:\n",
    "            print('Error while checking stock availability')\n"
   ]
  },
  {
   "cell_type": "code",
   "execution_count": 7,
   "metadata": {},
   "outputs": [],
   "source": [
    "class getuserdet:\n",
    "    def __init__(self):\n",
    "        self.usrdet = {}\n",
    "        self.orddeta ={}\n",
    "\n",
    "    def get_user(self):\n",
    "        self.usrdet['uname'] = input('enter your name')\n",
    "        self.usrdet['uemail'] = input('enter registered email')\n",
    "        self.usrdet['ucell'] = input('enter your mobile no')\n",
    "    def get_orders(self):\n",
    "        n = input('enter item no you want')\n",
    "        q = input('enter quantity you want to buy')\n",
    "        di = displayitem()\n",
    "        di.checkStock(n,q)\n",
    "        if di.stockconfirm == 'Y' and di.maxitems != 0:\n",
    "            q = di.maxitems\n",
    "            self.orddeta['o'+ n] = ({'item': n, 'qn': q})\n",
    "        elif di.stockconfirm == 'Y' and di.maxitems == 0:\n",
    "            print('stock confirm', di.stockconfirm)\n",
    "            print('max items ', di.maxitems)\n",
    "        else:\n",
    "            print('order cancelled inside  get order !!')\n",
    "            self.orddeta['o'+ n] = ({'item': n, 'qn': q})\n",
    "\n"
   ]
  },
  {
   "cell_type": "code",
   "execution_count": 8,
   "metadata": {},
   "outputs": [],
   "source": [
    "class orders:\n",
    "    def __init__(self, ud):\n",
    "        self.udetails = ud.usrdet\n",
    "        self.items = ud.orddeta\n",
    "        self.updatedGroceryItems = grocery\n",
    "        self.total_Amount = 0\n",
    "        self.iserror = False\n",
    "        # print(self.udetails)\n",
    "        # print(self.items)\n",
    "    def updateGrocary(self):\n",
    "        for i in self.items.keys():\n",
    "            try:\n",
    "                # print(grocery[i[1:]])\n",
    "                self.items[i]['name'] = grocery[i[1:]]['name']\n",
    "                self.items[i]['price'] = grocery[i[1:]]['price']\n",
    "                self.updatedGroceryItems[i[1:]]['qn'] = int(self.updatedGroceryItems[i[1:]]['qn']) - int(self.items[i]['qn'])\n",
    "                # print('______________________________________________')\n",
    "                # print(self.items)\n",
    "                # print(self.updatedGroceryItems)\n",
    "            except KeyError as e:\n",
    "                self.iserror = True\n",
    "                print('Item code not found. !! Billing ABORTED !!')\n",
    "            except:\n",
    "                self.iserror = True\n",
    "                print('Some error occured')\n",
    "        #only call billing when no error encountered\n",
    "        if not self.iserror:\n",
    "            self.billings()\n",
    "            self.sells()\n",
    "        \n",
    "                \n",
    "    def billings(self):\n",
    "        print('--------------------INVOICE-----------------')\n",
    "        print('Item' + '             ' + 'Quanity' + '              ' + 'Price')\n",
    "        print('--------------------------------------------')\n",
    "        for i in self.items:\n",
    "            # print(self.items)    \n",
    "            print('{}              {}                   {}'.\n",
    "            format(self.items[i]['name'], self.items[i]['qn'], self.items[i]['price'] * int(self.items[i]['qn'])))\n",
    "            self.total_Amount += self.items[i]['price'] * int(self.items[i]['qn'])\n",
    "        print('________________________________________________')\n",
    "        print('                               Total: {}'.format(self.total_Amount))\n",
    "        print('_________________________________________________')\n",
    "\n",
    "    def sells(self):\n",
    "        for item in self.items:\n",
    "            with open('sell.jason', 'a') as sell:\n",
    "                sell.write(\"{}'|'{}|'{}| {} '\\n\".\n",
    "                format(self.udetails['uname'],self.udetails['uemail'],self.udetails['ucell'],self.items[item]))\n",
    "            sell.close()\n"
   ]
  },
  {
   "cell_type": "code",
   "execution_count": 11,
   "metadata": {},
   "outputs": [
    {
     "name": "stdout",
     "output_type": "stream",
     "text": [
      "welcome to ecart shopping\n",
      "Code        Items           Price          Qunt\n",
      "___________________________________________________________\n",
      "100        Milky bar            10          0\n",
      "101        Biscuit              5          100\n",
      "102        Haldiram             20          50\n",
      "103        Cake                 300          10\n",
      "104        Cold drink           50          40\n",
      "Sorry We have only 0 items left for Milky bar \n",
      "order cancelled inside  get order !!\n",
      "order cancelled inside  get order !!\n",
      "--------------------INVOICE-----------------\n",
      "Item             Quanity              Price\n",
      "--------------------------------------------\n",
      "Milky bar               2                   20\n",
      "Biscuit                 1                   5\n",
      "________________________________________________\n",
      "                               Total: 25\n",
      "_________________________________________________\n"
     ]
    }
   ],
   "source": [
    "#Driver Code to work on above classes\n",
    "def user_invoke():\n",
    "    \n",
    "    print('welcome to ecart shopping')\n",
    "    #call getuserdet class to create an instance for user and order details\n",
    "    ud = getuserdet()\n",
    "    #call display class to display product lists\n",
    "    dg = displayitem()\n",
    "    dg.dispgrocery()\n",
    "    #looping thru user inputs\n",
    "    confirm = input('do you want some buy Y/N')\n",
    "    if confirm == 'y' or confirm == 'Y':\n",
    "        ud.get_user()\n",
    "        moreitems = 'Y'\n",
    "        while moreitems == 'y' or moreitems == 'Y':\n",
    "            ud.get_orders()\n",
    "            moreitems = input('do you want more items')\n",
    "            if moreitems == 'n' or moreitems == 'N':\n",
    "                break\n",
    "        #passing object directly to another class orders\n",
    "        od = orders(ud)\n",
    "        od.updateGrocary()\n",
    "    else:\n",
    "        print('Thank you!! Please visit agin later')\n",
    "\n",
    "#calling above function to invoke the shopping app    \n",
    "user_invoke()"
   ]
  },
  {
   "cell_type": "code",
   "execution_count": null,
   "metadata": {},
   "outputs": [],
   "source": []
  }
 ],
 "metadata": {
  "kernelspec": {
   "display_name": "pr-venv",
   "language": "python",
   "name": "python3"
  },
  "language_info": {
   "codemirror_mode": {
    "name": "ipython",
    "version": 3
   },
   "file_extension": ".py",
   "mimetype": "text/x-python",
   "name": "python",
   "nbconvert_exporter": "python",
   "pygments_lexer": "ipython3",
   "version": "3.9.11"
  }
 },
 "nbformat": 4,
 "nbformat_minor": 2
}
