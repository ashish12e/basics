{
 "cells": [
  {
   "cell_type": "markdown",
   "metadata": {},
   "source": [
    "Break statement used i while to comeout of the loop , once\n",
    "certain condition is met\n",
    "\n",
    "## Below loop prints each no but comes out when counter is 5"
   ]
  },
  {
   "cell_type": "code",
   "execution_count": 1,
   "metadata": {},
   "outputs": [
    {
     "name": "stdout",
     "output_type": "stream",
     "text": [
      "1 2 3 4 5 "
     ]
    }
   ],
   "source": [
    "counter = 1\n",
    "while counter <= 10:\n",
    "    print(counter,end=' ')\n",
    "    if counter == 5:\n",
    "        break\n",
    "    counter += 1"
   ]
  },
  {
   "cell_type": "markdown",
   "metadata": {},
   "source": [
    "## Enumerate (to get index , item value from list or set or string) "
   ]
  },
  {
   "cell_type": "code",
   "execution_count": 4,
   "metadata": {},
   "outputs": [
    {
     "name": "stdout",
     "output_type": "stream",
     "text": [
      "Index is : 1 for  item geeks. Index is : 2 for  item for. Index is : 3 for  item geeks 1. "
     ]
    }
   ],
   "source": [
    "for index, item in enumerate(['geeks', 'for', 'geeks 1'], start=1):\n",
    "    print( f'Index is : {index} for  item {item}.' , end=\" \")"
   ]
  },
  {
   "cell_type": "code",
   "execution_count": 21,
   "metadata": {},
   "outputs": [
    {
     "name": "stdout",
     "output_type": "stream",
     "text": [
      "['123', '124', '125', '126']\n",
      "{(1, '124'), (3, '126'), (0, '123'), (2, '125')}\n"
     ]
    }
   ],
   "source": [
    "print(list('123, 124, 125, 126'.split(', ')))\n",
    "print(set(enumerate(list('123, 124, 125, 126'.split(', ')))))"
   ]
  },
  {
   "cell_type": "code",
   "execution_count": 23,
   "metadata": {},
   "outputs": [
    {
     "name": "stdout",
     "output_type": "stream",
     "text": [
      "0\n",
      "1\n",
      "2\n",
      "3\n"
     ]
    }
   ],
   "source": [
    "for idx, item in enumerate(list('123, 124, 125, 126'.split(', '))):\n",
    "    print(idx)"
   ]
  },
  {
   "cell_type": "markdown",
   "metadata": {},
   "source": [
    "## filter and map differences\n",
    "both does iteration over a itrator , filter gives results on certain condition TRUE or FALSE\n",
    "while  map  runs a function on each iteration"
   ]
  },
  {
   "cell_type": "code",
   "execution_count": null,
   "metadata": {},
   "outputs": [],
   "source": []
  },
  {
   "cell_type": "markdown",
   "metadata": {},
   "source": [
    "## Dict mapping can be done on Keys only\n",
    " if same key is given in dict, the last updated values will appear\n",
    " popular func dict.keys() dict.items() dict[keys] = values\n"
   ]
  },
  {
   "cell_type": "code",
   "execution_count": 3,
   "metadata": {},
   "outputs": [],
   "source": [
    "my_dict = {'name':'Rose','age':24, 'gender':'Female'}"
   ]
  },
  {
   "cell_type": "code",
   "execution_count": 10,
   "metadata": {},
   "outputs": [
    {
     "data": {
      "text/plain": [
       "dict_values(['Rose', 24, 'Female'])"
      ]
     },
     "execution_count": 10,
     "metadata": {},
     "output_type": "execute_result"
    }
   ],
   "source": [
    "my_dict.keys()\n",
    "my_dict.values()"
   ]
  },
  {
   "cell_type": "code",
   "execution_count": 15,
   "metadata": {},
   "outputs": [],
   "source": [
    "my_dict.update({1: 'Ashish', 2: 'Anurag', 'Addrs': 'Kandhapkar'})"
   ]
  },
  {
   "cell_type": "code",
   "execution_count": 18,
   "metadata": {},
   "outputs": [
    {
     "data": {
      "text/plain": [
       "{'name': 'Rose',\n",
       " 'age': 24,\n",
       " 'gender': 'Female',\n",
       " 1: 'Ashish',\n",
       " 2: 'Anurag',\n",
       " 'Addrs': 'Kandhapkar'}"
      ]
     },
     "execution_count": 18,
     "metadata": {},
     "output_type": "execute_result"
    }
   ],
   "source": [
    "my_dict"
   ]
  },
  {
   "cell_type": "code",
   "execution_count": 21,
   "metadata": {},
   "outputs": [
    {
     "data": {
      "text/plain": [
       "'Anurag'"
      ]
     },
     "execution_count": 21,
     "metadata": {},
     "output_type": "execute_result"
    }
   ],
   "source": [
    "my_dict.get(2)"
   ]
  },
  {
   "cell_type": "code",
   "execution_count": 24,
   "metadata": {},
   "outputs": [],
   "source": [
    "x =my_dict.values()"
   ]
  },
  {
   "cell_type": "code",
   "execution_count": 28,
   "metadata": {},
   "outputs": [
    {
     "data": {
      "text/plain": [
       "dict_values(['Rose', 24, 'Female', 'Ashish', 'Anurag', 'Kandhapkar'])"
      ]
     },
     "execution_count": 28,
     "metadata": {},
     "output_type": "execute_result"
    }
   ],
   "source": [
    "x"
   ]
  },
  {
   "cell_type": "markdown",
   "metadata": {},
   "source": [
    "# DICT to handle error when a key not available is tried to get \n",
    "can be handled by using default value, otherwise it will key not found error"
   ]
  },
  {
   "cell_type": "code",
   "execution_count": 4,
   "metadata": {},
   "outputs": [
    {
     "data": {
      "text/plain": [
       "'Country code not available'"
      ]
     },
     "execution_count": 4,
     "metadata": {},
     "output_type": "execute_result"
    }
   ],
   "source": [
    "country_code = {'India' : '0091',\n",
    "                'Australia' : '0025',\n",
    "                'Nepal' : '00977'}\n",
    "country_code.get('Pak', \"Country code not available\")"
   ]
  },
  {
   "cell_type": "code",
   "execution_count": 16,
   "metadata": {},
   "outputs": [],
   "source": [
    "#set default creates another entry in  dict with default value\n",
    "country_code = {'India' : '0091',\n",
    "                'Australia' : '0025',\n",
    "                'Nepal' : '00977'}\n",
    "country_code.setdefault('Pak', 'Country code not available')\n",
    "country_code.setdefault('Japan')"
   ]
  },
  {
   "cell_type": "code",
   "execution_count": 24,
   "metadata": {},
   "outputs": [],
   "source": [
    "country_code.update({'Korea': 12})"
   ]
  },
  {
   "cell_type": "code",
   "execution_count": 25,
   "metadata": {},
   "outputs": [
    {
     "data": {
      "text/plain": [
       "{'India': '0091',\n",
       " 'Australia': '0025',\n",
       " 'Nepal': '00977',\n",
       " 'Pak': 'Country code not available',\n",
       " 'Japan': None,\n",
       " 'Korea': 12}"
      ]
     },
     "execution_count": 25,
     "metadata": {},
     "output_type": "execute_result"
    }
   ],
   "source": [
    "country_code"
   ]
  },
  {
   "cell_type": "markdown",
   "metadata": {},
   "source": [
    "# using defaultdict from collection package to create dict\n",
    "it handles defult assignment if value is not present\n"
   ]
  },
  {
   "cell_type": "code",
   "execution_count": 30,
   "metadata": {},
   "outputs": [
    {
     "name": "stdout",
     "output_type": "stream",
     "text": [
      "The value associated with 'a' is : 1\n",
      "The value associated with 'c' is : Key Not found\n",
      "Ashish\n"
     ]
    }
   ],
   "source": [
    "# Python code to demonstrate defaultdict\n",
    "import collections\n",
    "\n",
    "# declaring defaultdict\n",
    "# sets default value 'Key Not found' to absent keys\n",
    "defd = collections.defaultdict(lambda : 'Key Not found')\n",
    "\n",
    "# initializing values \n",
    "defd['a'] = 1\n",
    "\n",
    "# initializing values \n",
    "defd['b'] = 2\n",
    "\n",
    "defd.update({'d': 'Ashish'})\n",
    "\n",
    "# printing value \n",
    "print (\"The value associated with 'a' is : \",end=\"\")\n",
    "print (defd['a'])\n",
    "\n",
    "# printing value associated with 'c'\n",
    "print (\"The value associated with 'c' is : \",end=\"\")\n",
    "print (defd['c'])\n",
    "print(defd['d'])\n"
   ]
  },
  {
   "cell_type": "code",
   "execution_count": 2,
   "metadata": {},
   "outputs": [
    {
     "name": "stdout",
     "output_type": "stream",
     "text": [
      "(\"19.07'53.2\", \"72.54'51.0\")\n",
      "Mumbai\n",
      "(\"28.33'34.1\", \"77.06'16.6\")\n",
      "Delhi\n",
      "Mumbai\n",
      "Delhi\n",
      "lattitue is : 19.07'53.2 longitue  is : 72.54'51.0 for place  is : Mumbai\n",
      "lattitue is : 28.33'34.1 longitue  is : 77.06'16.6 for place  is : Delhi\n"
     ]
    }
   ],
   "source": [
    "places = {(\"19.07'53.2\", \"72.54'51.0\"):\"Mumbai\", \\\n",
    "          (\"28.33'34.1\", \"77.06'16.6\"):\"Delhi\"}\n",
    "\n",
    "for i in places.keys():\n",
    "    print(i)\n",
    "    print(places[i])\n",
    "for i in places.values():\n",
    "    print(i)\n",
    "def to_get_place(a):\n",
    "    for i in places:\n",
    "        print(f'lattitue is : {i[0]}', end =\" \")\n",
    "        print(f'longitue  is : {i[1]}', end =\" \")\n",
    "        print(f'for place  is : {a[i]}')\n",
    "\n",
    "to_get_place(places)"
   ]
  },
  {
   "cell_type": "code",
   "execution_count": 13,
   "metadata": {},
   "outputs": [
    {
     "name": "stdout",
     "output_type": "stream",
     "text": [
      "{'a': 'geeks', 'b': 'software', 'c': 75000}\n",
      "software engineer\n",
      "(1, 'John', 'Doe') {'a': 'geeks', 'b': 'software engineer', 'c': 75000}\n",
      "geeks\n",
      "software engineer\n",
      "75000\n",
      "(2, 'Jane', 'Smith') {'e': 30, 'f': 'for', 'g': 90000}\n",
      "30\n",
      "for\n",
      "90000\n",
      "(3, 'Bob', 'Johnson') {'h': 35, 'i': 'project', 'j': 'geeks'}\n",
      "35\n",
      "project\n",
      "geeks\n",
      "(4, 'Alice', 'Lee') {'k': 40, 'l': 'marketing', 'm': 100000}\n",
      "40\n",
      "marketing\n",
      "100000\n"
     ]
    }
   ],
   "source": [
    "data = {\n",
    "    (1, \"John\", \"Doe\"): {\"a\": \"geeks\", \"b\": \"software\", \"c\": 75000},\n",
    "    (2, \"Jane\", \"Smith\"): {\"e\": 30, \"f\": \"for\", \"g\": 90000},\n",
    "    (3, \"Bob\", \"Johnson\"): {\"h\": 35, \"i\": \"project\", \"j\": \"geeks\"},\n",
    "    (4, \"Alice\", \"Lee\"): {\"k\": 40, \"l\": \"marketing\", \"m\": 100000}\n",
    "}\n",
    "\n",
    "print(data[(1, \"John\", \"Doe\")])\n",
    "data[(1, \"John\", \"Doe\")]['b'] = 'software engineer'\n",
    "print(data[(1, \"John\", \"Doe\")]['b']) \n",
    "\n",
    "for i in data:\n",
    "    print(i, data[i])\n",
    "    for j in data[i]:\n",
    "        print(data[i][j])"
   ]
  },
  {
   "cell_type": "code",
   "execution_count": 14,
   "metadata": {},
   "outputs": [
    {
     "name": "stdout",
     "output_type": "stream",
     "text": [
      "-----------my dict examples ----------------\n",
      "dict_keys(['name', 'age', 'gender'])\n",
      "dict_values(['Rose', 24, 'Female'])\n",
      "dict_items([('name', 'Rose'), ('age', 24), ('gender', 'Female')])\n",
      "('name', 'Rose')\n",
      "keys is name and value is Rose\n",
      "('age', 24)\n",
      "keys is age and value is 24\n",
      "('gender', 'Female')\n",
      "keys is gender and value is Female\n",
      "------------multidimentional dictionary-------------\n",
      "first_level {'second_level_1': {'third_level_1': 1, 'third_level_2': 2}, 'second_level_2': {'third_level_3': 3, 'third_level_4': 4}}\n",
      "------------------------------\n",
      "second_level_1 {'third_level_1': 1, 'third_level_2': 2}\n",
      "second_level_2 {'third_level_3': 3, 'third_level_4': 4}\n",
      "another_first_level {'second_level_3': {'third_level_5': 5, 'third_level_6': 6}, 'second_level_4': {'third_level_7': 7, 'third_level_8': 8}}\n",
      "------------------------------\n",
      "second_level_3 {'third_level_5': 5, 'third_level_6': 6}\n",
      "second_level_4 {'third_level_7': 7, 'third_level_8': 8}\n"
     ]
    }
   ],
   "source": [
    "my_dict = {'name':'Rose','age':24, 'gender':'Female'}\n",
    "\n",
    "print('-----------my dict examples ----------------')\n",
    "print(my_dict.keys())\n",
    "print(my_dict.values())\n",
    "print(my_dict.items())\n",
    "\n",
    "for i in my_dict.items():\n",
    "    print(i)\n",
    "    print(f'keys is {i[0]} and value is {i[1]}')\n",
    "\n",
    "multidimensional_dict = {\n",
    "        'first_level': {\n",
    "             'second_level_1': {\n",
    "                     'third_level_1': 1,\n",
    "                     'third_level_2': 2\n",
    "               },\n",
    "        'second_level_2': {\n",
    "                    'third_level_3': 3,\n",
    "                    'third_level_4': 4\n",
    "                   }\n",
    "              },\n",
    " 'another_first_level': {\n",
    "                'second_level_3': {\n",
    "                             'third_level_5': 5,\n",
    "                             'third_level_6': 6\n",
    "                             },\n",
    "              'second_level_4': {\n",
    "                            'third_level_7': 7,\n",
    "                            'third_level_8': 8\n",
    "                    }\n",
    "             }\n",
    "        }\n",
    "\n",
    "print('------------multidimentional dictionary-------------')\n",
    "# for i in multidimensional_dict:\n",
    "#     print(i, multidimensional_dict[i])\n",
    "\n",
    "## first get first level keys and dict_values(second) as values \n",
    "## from dict_values get items and iterate over it\n",
    "## do it untill you get the desired values\n",
    "for first_level, first_level_values in multidimensional_dict.items():\n",
    "    print(first_level, first_level_values)\n",
    "    print('-'*30)\n",
    "    for seocnd_level, seocnd_level_values in first_level_values.items():\n",
    "        print(seocnd_level, first_level_values[seocnd_level])\n",
    "\n",
    "\n",
    "\n"
   ]
  },
  {
   "cell_type": "markdown",
   "metadata": {},
   "source": [
    "## DICT comprehension \n",
    "similar to list comprehension instead of [] use {}\n",
    "and specify key: value format\n"
   ]
  },
  {
   "cell_type": "code",
   "execution_count": 14,
   "metadata": {},
   "outputs": [
    {
     "data": {
      "text/plain": [
       "{0: 0, 1: 1, 2: 4, 3: 9, 4: 16, 5: 25}"
      ]
     },
     "execution_count": 14,
     "metadata": {},
     "output_type": "execute_result"
    }
   ],
   "source": [
    "{ i : i ** 2 for i in range(6)}"
   ]
  },
  {
   "cell_type": "markdown",
   "metadata": {},
   "source": [
    "creating multidimention dict using fstring and range function"
   ]
  },
  {
   "cell_type": "code",
   "execution_count": 21,
   "metadata": {},
   "outputs": [],
   "source": [
    "mlt_dict ={f'A{i}': {j for j in range(3)} for i in range(6)}"
   ]
  },
  {
   "cell_type": "code",
   "execution_count": 29,
   "metadata": {},
   "outputs": [
    {
     "name": "stdout",
     "output_type": "stream",
     "text": [
      "A0 {0, 1, 2} A1 {0, 1, 2} A2 {0, 1, 2} A3 {0, 1, 2} A4 {0, 1, 2} A5 {0, 1, 2} "
     ]
    }
   ],
   "source": [
    "for i in mlt_dict:\n",
    "    print(i, mlt_dict[i], end =\" \")"
   ]
  },
  {
   "cell_type": "code",
   "execution_count": 6,
   "metadata": {},
   "outputs": [
    {
     "name": "stdout",
     "output_type": "stream",
     "text": [
      "{'num-1': 1, 'num-2': 2, 'num-3': 3, 'num-4': 4, 'num-5': 5, 'num-6': 6, 'num-7': 7, 'num-8': 8, 'num-9': 9, 'num-10': 10}\n",
      "{'num-3': 3, 'num-6': 6, 'num-9': 9}\n"
     ]
    }
   ],
   "source": [
    "dict1 = {f'num-{i}': i for i in range(1,11)}\n",
    "#filtering another dict from given dict\n",
    "print(dict1)\n",
    "dict1_filter3 = {key : value for key, value in dict1.items() if value % 3 == 0}\n",
    "print(dict1_filter3)"
   ]
  },
  {
   "cell_type": "code",
   "execution_count": 14,
   "metadata": {},
   "outputs": [],
   "source": [
    "#finding sum of values from dict\n",
    "def dict_sum(dct):\n",
    "    list1 = [i for i in dct.values()]\n",
    "    return sum(list1)"
   ]
  },
  {
   "cell_type": "code",
   "execution_count": 16,
   "metadata": {},
   "outputs": [
    {
     "data": {
      "text/plain": [
       "1000"
      ]
     },
     "execution_count": 16,
     "metadata": {},
     "output_type": "execute_result"
    }
   ],
   "source": [
    "dict_sum({'a': 100, 'b': 200, 'c': 300, 'd': 400})"
   ]
  },
  {
   "cell_type": "code",
   "execution_count": 25,
   "metadata": {},
   "outputs": [
    {
     "name": "stdout",
     "output_type": "stream",
     "text": [
      "344\n",
      "216\n",
      "55\n",
      "104\n"
     ]
    }
   ],
   "source": [
    "#finding size of a dict  in bytes\n",
    "print(dict1.__sizeof__())\n",
    "print(dict1_filter3.__sizeof__())\n",
    "print('Ashish'.__sizeof__())\n",
    "print([1,2,3].__sizeof__())"
   ]
  },
  {
   "cell_type": "markdown",
   "metadata": {},
   "source": [
    "#Union operation on sets to combine unique values from sets/list\n",
    "for list first convert list into set then combine using set the convert back to the list"
   ]
  },
  {
   "cell_type": "code",
   "execution_count": 8,
   "metadata": {},
   "outputs": [
    {
     "name": "stdout",
     "output_type": "stream",
     "text": [
      "<class 'list'> [1, 2, 3, 4, 5, 4, 4, 5, 6, 7]\n",
      "{1, 2, 3, 4, 5}\n",
      "[1, 2, 3, 4, 5, 6, 7] <class 'list'>\n",
      "[1, 2, 3, 6, 7] <class 'set'>\n"
     ]
    }
   ],
   "source": [
    "list1= [1,2,3,4,5,4]\n",
    "list2 = [4,5,6,7]\n",
    "combined_list = list1 + list2\n",
    "print(type(combined_list), combined_list)\n",
    "print(set(list1))\n",
    "unq_list = list(set(list1) | set(list2))\n",
    "print(unq_list, type(unq_list))\n",
    "\n",
    "#intersection :- elemenst which are not in other list\n",
    "commn_list = list(set(list1) ^ set(list2))\n",
    "\n",
    "#below is used to check values from another list\n",
    "print(commn_list, type(set(list1) ^ set(list2)))"
   ]
  },
  {
   "cell_type": "markdown",
   "metadata": {},
   "source": [
    "# to find values from list which are not in other list of a given list\n",
    "check above set(list1) ^ set(list2)"
   ]
  },
  {
   "cell_type": "code",
   "execution_count": 12,
   "metadata": {},
   "outputs": [
    {
     "name": "stdout",
     "output_type": "stream",
     "text": [
      "another syntax : {1, 2, 3, 4, 5, 6, 7, 9}\n",
      "union set : {1, 2, 3, 4, 5, 6, 7, 9}\n",
      "intersection set : {4, 5}\n",
      "difference of sets : {1, 9, 7}\n",
      "symmetric difference : {1, 2, 3, 6, 7, 9}\n",
      "{2, 3, 4, 5, 6}\n",
      "[1, 2, 3, 4, 5, 4]\n"
     ]
    }
   ],
   "source": [
    "set1 = {2, 3, 4, 5, 6}\n",
    "set2 = {4, 5, 7, 9, 1}\n",
    "union_set = set1.union(set2)\n",
    "# or syntax can be set1 | set2\n",
    "print(\"another syntax :\", set1 | set2)\n",
    "intersection_set = set1.intersection(set2)\n",
    "difference_set = set2-set1\n",
    "symmeteric_diff = set1 ^ set2\n",
    "print(f\"union set : {union_set}\")\n",
    "print(f\"intersection set : {intersection_set}\")\n",
    "print(f\"difference of sets : {difference_set}\")\n",
    "print(f\"symmetric difference : {symmeteric_diff}\")\n",
    "\n",
    "set1_copy = set1.copy()\n",
    "print(set1_copy)\n",
    "list1_copy = list1.copy()\n",
    "print(list1_copy)"
   ]
  },
  {
   "cell_type": "markdown",
   "metadata": {},
   "source": [
    "#tuple does not support assignment like list and set\n",
    "example below\n",
    "to do asignment convert to list --> do assignment --> back to tuple"
   ]
  },
  {
   "cell_type": "code",
   "execution_count": null,
   "metadata": {},
   "outputs": [
    {
     "name": "stdout",
     "output_type": "stream",
     "text": [
      "5\n"
     ]
    },
    {
     "ename": "TypeError",
     "evalue": "'tuple' object does not support item assignment",
     "output_type": "error",
     "traceback": [
      "\u001b[1;31m---------------------------------------------------------------------------\u001b[0m",
      "\u001b[1;31mTypeError\u001b[0m                                 Traceback (most recent call last)",
      "Cell \u001b[1;32mIn[16], line 6\u001b[0m\n\u001b[0;32m      3\u001b[0m \u001b[38;5;28mprint\u001b[39m(lst[\u001b[38;5;241m0\u001b[39m])\n\u001b[0;32m      5\u001b[0m tup \u001b[38;5;241m=\u001b[39m (\u001b[38;5;241m1\u001b[39m,\u001b[38;5;241m2\u001b[39m,\u001b[38;5;241m3\u001b[39m,\u001b[38;5;241m3\u001b[39m,\u001b[38;5;241m4\u001b[39m)\n\u001b[1;32m----> 6\u001b[0m \u001b[43mtup\u001b[49m\u001b[43m[\u001b[49m\u001b[38;5;241;43m0\u001b[39;49m\u001b[43m]\u001b[49m \u001b[38;5;241m=\u001b[39m \u001b[38;5;241m5\u001b[39m\n\u001b[0;32m      7\u001b[0m \u001b[38;5;28mprint\u001b[39m(tup[\u001b[38;5;241m0\u001b[39m])\n",
      "\u001b[1;31mTypeError\u001b[0m: 'tuple' object does not support item assignment"
     ]
    }
   ],
   "source": [
    "lst = [1,2,3,4]\n",
    "lst[0] = 5\n",
    "print(lst[0])\n",
    "\n",
    "tup = (1,2,3,3,4)\n",
    "tup[0] = 5\n",
    "print(tup[0])"
   ]
  },
  {
   "cell_type": "code",
   "execution_count": 18,
   "metadata": {},
   "outputs": [
    {
     "name": "stdout",
     "output_type": "stream",
     "text": [
      "('Ashish', 2, 3, 3, 4)\n"
     ]
    }
   ],
   "source": [
    "list_from_tup = list(tup)\n",
    "list_from_tup[0] = 'Ashish'\n",
    "print(tuple(list_from_tup))"
   ]
  },
  {
   "cell_type": "code",
   "execution_count": 19,
   "metadata": {},
   "outputs": [],
   "source": [
    "# insert into dictionary and print \"Inserted\"\n",
    "def insert_dict(key, value, dict):\n",
    "    #code here\n",
    "    dict['key'] = value\n",
    "    print('Inserted')\n",
    "    \n",
    "\n",
    "# deleting from dictionary and print \"Deleted\" if key present else \"-1\"\n",
    "def del_dict(key, dict):\n",
    "    #code here\n",
    "    del dict['key']\n",
    "    \n",
    "    print('Deleted')\n",
    "\n",
    "# print marks of student whos name is key if student name is present in Dict else \"-1\"\n",
    "def print_dict(key, dict):\n",
    "    \n",
    "    # Your code here\n",
    "    if key in dict.keys():\n",
    "        print(dict)\n",
    "        print('Marks of',key, 'is', dict['key'])\n",
    "    else:\n",
    "        print('-1')"
   ]
  },
  {
   "cell_type": "code",
   "execution_count": 26,
   "metadata": {},
   "outputs": [
    {
     "name": "stdout",
     "output_type": "stream",
     "text": [
      "{1, 2, 3}\n",
      "{2, 3}\n"
     ]
    }
   ],
   "source": [
    "s ={1,2}\n",
    "s.add(3)\n",
    "print(s)\n",
    "s.discard(1)\n",
    "print(s)"
   ]
  },
  {
   "cell_type": "code",
   "execution_count": 69,
   "metadata": {},
   "outputs": [
    {
     "name": "stdout",
     "output_type": "stream",
     "text": [
      "(3, 1, -1, -3, -5, -7, -9, -11, -13)\n"
     ]
    }
   ],
   "source": [
    "tup = ( 1, 5, 9, 13, 17)\n",
    "tup = (3, 1 , -1, -3, -5 , -7)\n",
    "diff = tup[1] - tup[0]\n",
    "for i in range(3):\n",
    "    tup = tup + (tup[len(tup)-1] + diff,)\n",
    "\n",
    "print(tup)"
   ]
  },
  {
   "cell_type": "code",
   "execution_count": 74,
   "metadata": {},
   "outputs": [
    {
     "name": "stdout",
     "output_type": "stream",
     "text": [
      "[8, 1, 2, 3, 4, 5, 4, 9]\n",
      "[8, 8, 1, 2, 3, 4, 5, 4, 9, 10]\n"
     ]
    }
   ],
   "source": [
    "print(list1)\n",
    "list1.insert(0,8)  # inserts at any specific position\n",
    "list1.append(10)   # adds at last add()  <-- this works only in set\n",
    "print(list1)"
   ]
  },
  {
   "cell_type": "code",
   "execution_count": 85,
   "metadata": {},
   "outputs": [
    {
     "data": {
      "text/plain": [
       "'Siwan'"
      ]
     },
     "execution_count": 85,
     "metadata": {},
     "output_type": "execute_result"
    }
   ],
   "source": [
    "dict1 = {1:'Ashish', 2:'Kumar', 3:'Dwivedi', 'a':'Siwan'}\n",
    "dict1.get('a')"
   ]
  },
  {
   "cell_type": "markdown",
   "metadata": {},
   "source": [
    "## OOPs & Functions"
   ]
  },
  {
   "cell_type": "markdown",
   "metadata": {},
   "source": [
    "#args and kwargs in function to receive n no of inputs from caller\n",
    "#nested function , we can return a function (main func --> sub func() returns sub func ())\n",
    "#default value should be assigned for func arguments when it does not comes from user default will work"
   ]
  },
  {
   "cell_type": "code",
   "execution_count": 7,
   "metadata": {},
   "outputs": [
    {
     "name": "stdout",
     "output_type": "stream",
     "text": [
      "args  : (1, 'Ashish', 200)\n",
      "kwargs: {'Sub': 'python', 'stream': 'data science'}\n",
      "-------looping kwargs------\n",
      "Sub\n",
      "stream\n",
      "-------looping args--------\n",
      "1\n",
      "Ashish\n",
      "200\n",
      "args  : (1, 2)\n",
      "kwargs: {}\n",
      "-------looping kwargs------\n",
      "-------looping args--------\n",
      "1\n",
      "2\n",
      "args  : ()\n",
      "kwargs: {'name': 'Ashish', 'address': ['addrs1', 'addrs2', 'addrs3']}\n",
      "-------looping kwargs------\n",
      "name\n",
      "address\n",
      "-------looping args--------\n"
     ]
    }
   ],
   "source": [
    "def print_values(*args, **kwargs):\n",
    "    print(\"args  :\", args)\n",
    "    print(\"kwargs:\", kwargs)\n",
    "    print('-------looping kwargs------')\n",
    "    for i in kwargs:\n",
    "        print(i)\n",
    "    print('-------looping args--------')\n",
    "    for i in range(len(args)):\n",
    "        print(args[i])\n",
    "print_values(1,'Ashish', 200, Sub='python', stream = 'data science')\n",
    "\n",
    "print_values(1,2)\n",
    "\n",
    "print_values(name='Ashish', address = ['addrs1', 'addrs2', 'addrs3'])"
   ]
  },
  {
   "cell_type": "code",
   "execution_count": 14,
   "metadata": {},
   "outputs": [
    {
     "name": "stdout",
     "output_type": "stream",
     "text": [
      "15\n",
      "8\n",
      "no action passed\n"
     ]
    }
   ],
   "source": [
    "def calci(num1, num2,action = 'NO'):\n",
    "    def fadd(val1, val2):\n",
    "        return val2 + val1\n",
    "    def fsub(val1, val2):\n",
    "        return val2  - val1\n",
    "    def fmul(val1, val2):\n",
    "        return val2 * val1\n",
    "    def fdiv(val1, val2):\n",
    "        return val2 % val1\n",
    "    if action == 'A':\n",
    "        return fadd(val1=num1, val2=num2)\n",
    "    elif action == 'M':\n",
    "        return fmul(val1=num1, val2=num2)\n",
    "    else:\n",
    "        return ('no action passed')\n",
    "\n",
    "print(calci(10,5,'A'))\n",
    "print(calci(2,4,'M'))\n",
    "print(calci(1,2))\n"
   ]
  },
  {
   "cell_type": "code",
   "execution_count": 1,
   "metadata": {},
   "outputs": [
    {
     "data": {
      "text/plain": [
       "[2, 2, 4, 6, 8]"
      ]
     },
     "execution_count": 1,
     "metadata": {},
     "output_type": "execute_result"
    }
   ],
   "source": [
    "import utilities as utils\n",
    "# above utilities i have defined in same folder with .py extension\n",
    "# then we are using methods from utils\n",
    "utils.even_filter([1,2,2,3,4,5,5,6,7,8])"
   ]
  },
  {
   "cell_type": "markdown",
   "metadata": {},
   "source": [
    "## import random "
   ]
  },
  {
   "cell_type": "code",
   "execution_count": 71,
   "metadata": {},
   "outputs": [
    {
     "name": "stdout",
     "output_type": "stream",
     "text": [
      "any random number in range 0 to 1 0.4586067093870614\n",
      "random integer 5\n",
      "1.1592324020449127\n",
      "suffling value [2, 1, 4, 3]\n",
      "7\n",
      "h\n",
      "6\n",
      "['date', 'banana', 'apple']\n",
      "['cherry', 'apple', 'banana']\n",
      "['banana', 'banana', 'cherry']\n",
      "['e', 'p', 'c', 'z', 'd']\n"
     ]
    }
   ],
   "source": [
    "import random as ra\n",
    "\n",
    "ra.seed(40)\n",
    "print('any random number in range 0 to 1', ra.random())\n",
    "print('random integer', ra.randint(1,5))\n",
    "\n",
    "#give fload value\n",
    "print(ra.uniform(1,6))\n",
    "\n",
    "#suffle from given list\n",
    "print('suffling value', end=\" \")\n",
    "suffle_list = [1,2,3,4]\n",
    "ra.shuffle(suffle_list)\n",
    "print(suffle_list)\n",
    "\n",
    "\n",
    "# to generate random from non empty sequence\n",
    "print(ra.choice('6789'))\n",
    "print(ra.choice('Ashish'))\n",
    "print(ra.choice([4,5,6,7]))\n",
    "\n",
    "\n",
    "\n",
    "'''The choices() method returns multiple random elements from the list with replacement. Unlike random.choice(), \n",
    "which selects a single item, random.choices() allows us to select multiple items making it particularly useful \n",
    "for tasks like sampling from a population or generating random data.'''\n",
    "\n",
    "# Example 1: Simple Random Selection\n",
    "# a = iterable, k = length of selected item to be returned\n",
    "a = ['apple', 'banana', 'cherry', 'date']\n",
    "res = ra.choices(a, k=3)\n",
    "print(res)  \n",
    "\n",
    "\n",
    "\n",
    "# Example 2: Random Selection with Weights\n",
    "\n",
    "w = [10, 20, 5, 1]\n",
    "res = ra.choices(a, weights=w, k=3)\n",
    "print(res)  \n",
    "\n",
    "# Example 3: Random Selection with Cumulative Weights\n",
    "\n",
    "cw = [10, 30, 35, 36]  # Cumulative sum of weights\n",
    "res = ra.choices(a, cum_weights=cw, k=3)\n",
    "print(res)  \n",
    "\n",
    "# Example 4: Selecting Random Characters from a String\n",
    "\n",
    "ch = \"abcdefghijklmnopqrstuvwxyz\"\n",
    "res = ra.choices(ch, k=5)\n",
    "print(res)\n",
    "\n",
    "\n",
    "ra.seed(42)"
   ]
  },
  {
   "cell_type": "markdown",
   "metadata": {},
   "source": [
    "## import math"
   ]
  },
  {
   "cell_type": "code",
   "execution_count": 11,
   "metadata": {},
   "outputs": [
    {
     "name": "stdout",
     "output_type": "stream",
     "text": [
      "3.141592653589793\n",
      "120\n"
     ]
    }
   ],
   "source": [
    "import math\n",
    "\n",
    "print(math.pi)\n",
    "print(math.factorial(5))"
   ]
  },
  {
   "cell_type": "markdown",
   "metadata": {},
   "source": [
    "## import string\n",
    "to generate ascii values, small and capital alphabets\n",
    "all nos like 1234567890"
   ]
  },
  {
   "cell_type": "code",
   "execution_count": 47,
   "metadata": {},
   "outputs": [
    {
     "name": "stdout",
     "output_type": "stream",
     "text": [
      "1\n",
      "0123456789\n",
      "[0, 1, 2, 3, 4, 5, 6, 7, 8, 9]\n",
      "abcdefghijklmnopqrstuvwxyz\n",
      "['a', 'b', 'c', 'd', 'e', 'f', 'g', 'h', 'i', 'j', 'k', 'l', 'm', 'n', 'o', 'p', 'q', 'r', 's', 't', 'u', 'v', 'w', 'x', 'y', 'z']\n",
      "Ashish Is Software Engineer\n",
      "!\"#$%&'()*+,-./:;<=>?@[\\]^_`{|}~\n",
      "['\\t', '\\n']\n",
      "['H', 'e', 'l', 'l', 'o', '\\t', ' ', 'W', 'o', 'r', 'l', 'd', '\\n']\n",
      "['H', 'e', 'l', 'l', 'o', 'W', 'o', 'r', 'l', 'd']\n",
      "HelloWorld\n",
      "Hello World\n",
      "'Hello World'\n"
     ]
    }
   ],
   "source": [
    "import string as st\n",
    "\n",
    "print('aashish'.count('i'))\n",
    "#generating nos for using string function can be used as ref\n",
    "print(st.digits)\n",
    "print([int(i) for i in st.digits])\n",
    "print(st.ascii_lowercase)\n",
    "print([i for i in st.ascii_lowercase])\n",
    "\n",
    "print(st.capwords('Ashish is software engineer'))\n",
    "\n",
    "print(st.punctuation)\n",
    "\n",
    "# white spaces function in string\n",
    "# Whitespace characters include spaces, tabs, newlines and other characters that create empty space in text\n",
    "s = \"Hello\\tWorld\\n\"\n",
    "whitespace = [i for i in s if i in st.whitespace]\n",
    "print(whitespace)\n",
    "\n",
    "# to remove whitespaces from s string\n",
    "s1 = \"Hello\\t World\\n\"\n",
    "\n",
    "print([i for i in s1])\n",
    "s2 = [i for i in s1 if i not in  st.whitespace]\n",
    "print(s2)\n",
    "\n",
    "s3 = ''.join(s2)\n",
    "print(s3)\n",
    "\n",
    "s1 = \"\\t  Hello World  \\n\"\n",
    "print(s1.strip())\n",
    "s2 = s1.strip(st.whitespace)\n",
    "print(f\"'{s2}'\")"
   ]
  },
  {
   "cell_type": "markdown",
   "metadata": {},
   "source": [
    "## Exception handling \n",
    "# syntax is \n",
    "    try:\n",
    "       code \n",
    "    except: TypeError\n",
    "           print('Type Error')\n",
    "    except: IOError\n",
    "           print('IO Error )\n",
    "    finally:\n",
    "        #this block always executes \n",
    "        #in error and success case as well"
   ]
  },
  {
   "cell_type": "code",
   "execution_count": 1,
   "metadata": {},
   "outputs": [
    {
     "ename": "TypeError",
     "evalue": "unsupported operand type(s) for ** or pow(): 'str' and 'int'",
     "output_type": "error",
     "traceback": [
      "\u001b[1;31m---------------------------------------------------------------------------\u001b[0m",
      "\u001b[1;31mTypeError\u001b[0m                                 Traceback (most recent call last)",
      "Cell \u001b[1;32mIn[1], line 2\u001b[0m\n\u001b[0;32m      1\u001b[0m \u001b[38;5;28;01mfor\u001b[39;00m i \u001b[38;5;129;01min\u001b[39;00m [\u001b[38;5;124m'\u001b[39m\u001b[38;5;124ma\u001b[39m\u001b[38;5;124m'\u001b[39m, \u001b[38;5;124m'\u001b[39m\u001b[38;5;124mb\u001b[39m\u001b[38;5;124m'\u001b[39m, \u001b[38;5;124m'\u001b[39m\u001b[38;5;124mc\u001b[39m\u001b[38;5;124m'\u001b[39m]:\n\u001b[1;32m----> 2\u001b[0m     \u001b[38;5;28mprint\u001b[39m(\u001b[43mi\u001b[49m\u001b[43m \u001b[49m\u001b[38;5;241;43m*\u001b[39;49m\u001b[38;5;241;43m*\u001b[39;49m\u001b[43m \u001b[49m\u001b[38;5;241;43m2\u001b[39;49m)\n",
      "\u001b[1;31mTypeError\u001b[0m: unsupported operand type(s) for ** or pow(): 'str' and 'int'"
     ]
    }
   ],
   "source": [
    "for i in ['a', 'b', 'c']:\n",
    "    print(i ** 2)"
   ]
  },
  {
   "cell_type": "code",
   "execution_count": 2,
   "metadata": {},
   "outputs": [
    {
     "name": "stdout",
     "output_type": "stream",
     "text": [
      "String values can not be squared\n"
     ]
    }
   ],
   "source": [
    "try:\n",
    "    for i in ['a', 'b', 'c']:\n",
    "         print(i ** 2)\n",
    "except TypeError:\n",
    "        print('String values can not be squared')"
   ]
  },
  {
   "cell_type": "code",
   "execution_count": 6,
   "metadata": {},
   "outputs": [
    {
     "ename": "ZeroDivisionError",
     "evalue": "division by zero",
     "output_type": "error",
     "traceback": [
      "\u001b[1;31m---------------------------------------------------------------------------\u001b[0m",
      "\u001b[1;31mZeroDivisionError\u001b[0m                         Traceback (most recent call last)",
      "Cell \u001b[1;32mIn[6], line 4\u001b[0m\n\u001b[0;32m      1\u001b[0m x \u001b[38;5;241m=\u001b[39m \u001b[38;5;241m3\u001b[39m\n\u001b[0;32m      2\u001b[0m y \u001b[38;5;241m=\u001b[39m \u001b[38;5;241m0\u001b[39m\n\u001b[1;32m----> 4\u001b[0m \u001b[38;5;28mprint\u001b[39m(\u001b[43mx\u001b[49m\u001b[38;5;241;43m/\u001b[39;49m\u001b[43my\u001b[49m)\n",
      "\u001b[1;31mZeroDivisionError\u001b[0m: division by zero"
     ]
    }
   ],
   "source": [
    "x = 3\n",
    "y = 0\n",
    "\n",
    "print(x/y)"
   ]
  },
  {
   "cell_type": "code",
   "execution_count": 13,
   "metadata": {},
   "outputs": [
    {
     "name": "stdout",
     "output_type": "stream",
     "text": [
      "any of numbers are not numeric\n"
     ]
    }
   ],
   "source": [
    "try:\n",
    "    x = int(input('Enter first no'))\n",
    "    y = int(input('Enter second no'))\n",
    "    print(x/y)\n",
    "except TypeError:\n",
    "    print('numbers are not numeric')\n",
    "except ZeroDivisionError:\n",
    "    print('you can not divide by zero')\n",
    "except ValueError:\n",
    "    print('any of numbers are not numeric')\n",
    "# except:\n",
    "#     print('any other error')"
   ]
  },
  {
   "cell_type": "code",
   "execution_count": 14,
   "metadata": {},
   "outputs": [
    {
     "name": "stdout",
     "output_type": "stream",
     "text": [
      "Error invalid literal for int() with base 10: 'twenty'\n"
     ]
    }
   ],
   "source": [
    "# CATCHTING MULTIPLE ERROR IN ONE BLOCK\n",
    "a = [\"10\", \"twenty\", 30]  # Mixed list of integers and strings\n",
    "try:\n",
    "    total = int(a[0]) + int(a[1])  # 'twenty' cannot be converted to int\n",
    "    \n",
    "except (ValueError, TypeError) as e:\n",
    "    print(\"Error\", e)\n",
    "    \n",
    "except IndexError:\n",
    "    print(\"Index out of range.\")"
   ]
  },
  {
   "cell_type": "markdown",
   "metadata": {},
   "source": [
    "#raise statement to define custom message to any exception handling "
   ]
  },
  {
   "cell_type": "code",
   "execution_count": 24,
   "metadata": {},
   "outputs": [
    {
     "name": "stdout",
     "output_type": "stream",
     "text": [
      "An error occurred: unsupported operand type(s) for /: 'int' and 'str'\n",
      "Caught a ValueError: Custom error message\n"
     ]
    }
   ],
   "source": [
    "def divide_numbers(a, b):\n",
    "    try:\n",
    "        if b == 0:\n",
    "            raise ZeroDivisionError(\"Cannot divide by zero.\")\n",
    "        result = a / b\n",
    "        return result\n",
    "    except Exception as e:\n",
    "        print(f\"An error occurred: {e}\")\n",
    "        # You can choose to re-raise the caught exception or raise a different one.\n",
    "        raise ValueError(\"Custom error message\") from e\n",
    "\n",
    "# Example usage:\n",
    "try:\n",
    "    result = divide_numbers(10, 'b')\n",
    "    print(f\"Result: {result}\")\n",
    "except ValueError as ve:\n",
    "    print(f\"Caught a ValueError: {ve}\")\n",
    "except ZeroDivisionError as zde:\n",
    "    print(f\"Caught a ZeroDivisionError: {zde}\")\n",
    "except NameError as ne:\n",
    "    print('name error ocurred Ashish:', ne )"
   ]
  },
  {
   "cell_type": "code",
   "execution_count": 27,
   "metadata": {},
   "outputs": [
    {
     "name": "stdout",
     "output_type": "stream",
     "text": [
      "<class 'int'>\n",
      "3.0\n"
     ]
    }
   ],
   "source": [
    "numbers = [1,2,3,4,5]\n",
    "average = sum(numbers) / len(numbers)\n",
    "print(type(sum(numbers)))\n",
    "print(average)"
   ]
  },
  {
   "cell_type": "markdown",
   "metadata": {},
   "source": [
    "##ZIP Function"
   ]
  },
  {
   "cell_type": "code",
   "execution_count": 36,
   "metadata": {},
   "outputs": [
    {
     "name": "stdout",
     "output_type": "stream",
     "text": [
      "[(1, 'Ashish'), (2, 'Anurag'), (3, 'Kumar'), (4, 'Satyam')]\n",
      "{1: 'Ashish', 2: 'Anurag', 3: 'Kumar', 4: 'Satyam'}\n",
      "{1: 'Ashish', 2: 'Anurag', 3: 'Kumar', 4: 'Satyam'}\n"
     ]
    }
   ],
   "source": [
    "key1 = [1,2,3,4]\n",
    "value1 = ['Ashish', 'Anurag', 'Kumar', 'Satyam']\n",
    "print(list(zip(key1, value1)))\n",
    "\n",
    "#convertting two list in dictionary \n",
    "#1. zip them to get tuple\n",
    "#2. iterate tuple and assign to key value of the dict\n",
    "\n",
    "dict_from_list = {}\n",
    "for i in list(zip(key1, value1)):\n",
    "    dict_from_list[i[0]] = i[1]\n",
    "\n",
    "print(dict_from_list)\n",
    "\n",
    "#using dict comprehension\n",
    "print({list1: list2 for list1, list2 in zip(key1, value1)})"
   ]
  },
  {
   "cell_type": "code",
   "execution_count": 38,
   "metadata": {},
   "outputs": [
    {
     "name": "stdout",
     "output_type": "stream",
     "text": [
      "Fruits: ('Apple', 'Banana', 'Orange')\n",
      "Quantities: (10, 20, 30)\n"
     ]
    }
   ],
   "source": [
    "# unzipping \n",
    "# Using the * operator, we can separates (unzip) \n",
    "# the paired fruit names and their quantities back into their respective sequences\n",
    "a = [('Apple', 10), ('Banana', 20), ('Orange', 30)]\n",
    "\n",
    "fruits, quantities = zip(*a)\n",
    "\n",
    "print(f\"Fruits: {fruits}\")\n",
    "print(f\"Quantities: {quantities}\")"
   ]
  },
  {
   "cell_type": "markdown",
   "metadata": {},
   "source": [
    "#encripting using ascii values"
   ]
  },
  {
   "cell_type": "code",
   "execution_count": 39,
   "metadata": {},
   "outputs": [
    {
     "name": "stdout",
     "output_type": "stream",
     "text": [
      "Encrypted Message : Mj~%Ljjp&%\\mfy,x%~tzw%uwtlwjxxD\n",
      "Decrypted Message : Hey Geek! What's your progress?\n"
     ]
    }
   ],
   "source": [
    "def encrypt(message, shift):\n",
    "    encrypted_text = ''.join([chr(ord(char) + shift) for char in message])\n",
    "    return encrypted_text\n",
    "\n",
    "def decrypt(encrypted_message, shift):\n",
    "    decrypted_text = ''.join([chr(ord(char) - shift) for char in encrypted_message])\n",
    "    return decrypted_text\n",
    "  \n",
    "encrypted_message= encrypt(\"Hey Geek! What's your progress?\", 5)\n",
    "print(\"Encrypted Message :\", encrypted_message)\n",
    "decrypted_message = decrypt(encrypted_message, 5)\n",
    "print(\"Decrypted Message :\", decrypted_message)"
   ]
  },
  {
   "cell_type": "markdown",
   "metadata": {},
   "source": [
    "## file processing"
   ]
  },
  {
   "cell_type": "code",
   "execution_count": 21,
   "metadata": {},
   "outputs": [
    {
     "name": "stdout",
     "output_type": "stream",
     "text": [
      "________________________________________\n",
      "this is my first file \n",
      "Ashish is here \n",
      "lets go out \n",
      "end of my data file \n",
      "\n"
     ]
    }
   ],
   "source": [
    "#creating a file\n",
    "fd = open('myfile.txt', 'w')\n",
    "\n",
    "#to write use file object.write('this is my first file')\n",
    "fd.write('this is my first file \\n')\n",
    "#writeline takes only one argument so uses list/tuple etc\n",
    "fd.writelines([\"Ashish is here \\n\", \"lets go out \\n\", \"end of my data file \\n\"])\n",
    "fd.close()\n",
    "\n",
    "# see what is inside file\n",
    "f1 = open('myfile.txt', 'r')\n",
    "# print(f1.read())\n",
    "\n",
    "# writing content of file to another file \n",
    "out_file = open('myoutfile.txt', 'w')\n",
    "# for line in f1.read():\n",
    "#     print(line)\n",
    "#     out_file.write(line)\n",
    "out_file.write(f1.read())\n",
    "out_file.close()\n",
    "print('_' * 40)\n",
    "\n",
    "#reading output file\n",
    "of = open('myoutfile.txt','r')\n",
    "print(of.read())"
   ]
  },
  {
   "cell_type": "code",
   "execution_count": 31,
   "metadata": {},
   "outputs": [
    {
     "name": "stdout",
     "output_type": "stream",
     "text": [
      "this is my first file \n",
      "\n",
      "______________________________\n",
      "['Ashish is here \\n', 'lets go out \\n', 'end of my data file \\n', '\\n', 'What is Python language?                                                \\n', 'Python is a widely used high-level, general-purpose, interpreted, \\n', 'dynamic programming language. Its design philosophy emphasizes code readability, \\n', 'and its syntax allows programmers to express concepts in fewer lines of code than possible in \\n', 'languages such as C++ or Java.                                         \\n', 'Python supports multiple programming paradigms, including object-oriented, \\n', 'imperative and functional programming or procedural styles.It features a dynamic type \\n', 'system and automatic memory management and has a large and comprehensive standard library. \\n', 'The best way we learn anything is by practice and exercise questions. \\n', 'We  have started this section for those (beginner to intermediate) who are familiar with Python.']\n",
      "______________________________\n",
      "this is my first file \n",
      "Ashish is here \n",
      "lets go out \n",
      "end of my data file \n",
      "\n",
      "What is Python language?                                                \n",
      "Python is a widely used high-level, general-purpose, interpreted, \n",
      "dynamic programming language. Its design philosophy emphasizes code readability, \n",
      "and its syntax allows programmers to express concepts in fewer lines of code than possible in \n",
      "languages such as C++ or Java.                                         \n",
      "Python supports multiple programming paradigms, including object-oriented, \n",
      "imperative and functional programming or procedural styles.It features a dynamic type \n",
      "system and automatic memory management and has a large and comprehensive standard library. \n",
      "The best way we learn anything is by practice and exercise questions. \n",
      "We  have started this section for those (beginner to intermediate) who are familiar with Python.\n",
      "______________________________\n",
      "Counter({'and': 6, 'is': 5, 'Python': 3, 'a': 3, 'programming': 3, 'this': 2, 'my': 2, 'file': 2, 'of': 2, 'dynamic': 2, 'code': 2, 'to': 2, 'in': 2, 'or': 2, 'first': 1, 'Ashish': 1, 'here': 1, 'lets': 1, 'go': 1, 'out': 1, 'end': 1, 'data': 1, 'What': 1, 'language?': 1, 'widely': 1, 'used': 1, 'high-level,': 1, 'general-purpose,': 1, 'interpreted,': 1, 'language.': 1, 'Its': 1, 'design': 1, 'philosophy': 1, 'emphasizes': 1, 'readability,': 1, 'its': 1, 'syntax': 1, 'allows': 1, 'programmers': 1, 'express': 1, 'concepts': 1, 'fewer': 1, 'lines': 1, 'than': 1, 'possible': 1, 'languages': 1, 'such': 1, 'as': 1, 'C++': 1, 'Java.': 1, 'supports': 1, 'multiple': 1, 'paradigms,': 1, 'including': 1, 'object-oriented,': 1, 'imperative': 1, 'functional': 1, 'procedural': 1, 'styles.It': 1, 'features': 1, 'type': 1, 'system': 1, 'automatic': 1, 'memory': 1, 'management': 1, 'has': 1, 'large': 1, 'comprehensive': 1, 'standard': 1, 'library.': 1, 'The': 1, 'best': 1, 'way': 1, 'we': 1, 'learn': 1, 'anything': 1, 'by': 1, 'practice': 1, 'exercise': 1, 'questions.': 1, 'We': 1, 'have': 1, 'started': 1, 'section': 1, 'for': 1, 'those': 1, '(beginner': 1, 'intermediate)': 1, 'who': 1, 'are': 1, 'familiar': 1, 'with': 1, 'Python.': 1})\n"
     ]
    }
   ],
   "source": [
    "fd = open('myfile.txt', 'r')\n",
    "\n",
    "print(fd.readline()) # this will read first line from text and pointer will be on 2nd line\n",
    "print('_' * 30)\n",
    "print(fd.readlines()) # this will read from 2nd line\n",
    "print('_' * 30)\n",
    "fd.seek(0)\n",
    "print(fd.read())\n",
    "print('_' * 30)\n",
    "from collections import Counter\n",
    "fd.seek(0) # this re-assign pointers at  top\n",
    "print(Counter(fd.read().split()))"
   ]
  },
  {
   "cell_type": "code",
   "execution_count": 39,
   "metadata": {},
   "outputs": [
    {
     "data": {
      "text/plain": [
       "'Line 1 \\nLine 2\\nLine 3\\nEnd of Line'"
      ]
     },
     "execution_count": 39,
     "metadata": {},
     "output_type": "execute_result"
    }
   ],
   "source": [
    "#to open  a file from any location \n",
    "op = open(r\"C:\\Users\\ashpi\\OneDrive\\Desktop\\text.txt\", 'r')\n",
    "op.read()"
   ]
  },
  {
   "cell_type": "code",
   "execution_count": 43,
   "metadata": {},
   "outputs": [
    {
     "name": "stdout",
     "output_type": "stream",
     "text": [
      "file is having data\n",
      "data size : 36\n"
     ]
    }
   ],
   "source": [
    "# to check if a file is empty or not\n",
    "import os\n",
    "\n",
    "try:\n",
    "    fsize = os.path.getsize(r\"C:\\Users\\ashpi\\OneDrive\\Desktop\\text.txt\")\n",
    "    if fsize == 0:\n",
    "        print('empty file')\n",
    "        \n",
    "    else:\n",
    "        print('file is having data')   \n",
    "        print('data size :', fsize)     \n",
    "except:\n",
    "    print('file not found')"
   ]
  },
  {
   "cell_type": "code",
   "execution_count": 4,
   "metadata": {},
   "outputs": [
    {
     "name": "stdout",
     "output_type": "stream",
     "text": [
      "['this is my first file \\nAshish is here \\nlets go out \\nend of my data file \\nAshish is on leave\\ngood boy Ashish\\n']\n"
     ]
    }
   ],
   "source": [
    "out1 = open('myoutfile.txt', 'r')\n",
    "lst1 = out1.read().split('/n')\n",
    "print(lst1)\n",
    "for i in out1:\n",
    "    print(i[0])\n",
    "# print(Counter(out1.read().split()))\n",
    "# print(((Counter('ashish')).keys()))"
   ]
  },
  {
   "cell_type": "markdown",
   "metadata": {},
   "source": [
    "## generators\n",
    "used to generate sequence , range is also an generator but using yeild function we can get only result when asked"
   ]
  },
  {
   "cell_type": "code",
   "execution_count": 9,
   "metadata": {},
   "outputs": [],
   "source": [
    "def square(n):\n",
    "    for i in range(n):\n",
    "        yield( i ** 2)\n"
   ]
  },
  {
   "cell_type": "code",
   "execution_count": 28,
   "metadata": {},
   "outputs": [
    {
     "name": "stdout",
     "output_type": "stream",
     "text": [
      "<generator object square at 0x000002522E139580>\n",
      "0\n",
      "1\n",
      "4\n",
      "9\n",
      "16\n",
      "25\n"
     ]
    }
   ],
   "source": [
    "y = square(6)\n",
    "print(y)\n",
    "# due to yeild in function square instead of return \n",
    "# there is generator object created at location of y\n",
    "for i in y:\n",
    "    print(i)\n"
   ]
  },
  {
   "cell_type": "markdown",
   "metadata": {},
   "source": [
    "## '!' <-- this mark tells that it command is CLI command"
   ]
  },
  {
   "cell_type": "code",
   "execution_count": 2,
   "metadata": {},
   "outputs": [
    {
     "name": "stdout",
     "output_type": "stream",
     "text": [
      " Volume in drive C is Acer\n",
      " Volume Serial Number is 98D4-DF3F\n",
      "\n",
      " Directory of c:\\Users\\ashpi\\DataEngMain\\projects\\basics\n",
      "\n",
      "16-01-2025  15:38    <DIR>          .\n",
      "06-12-2024  11:11    <DIR>          ..\n",
      "04-01-2025  20:59               239 app.py\n",
      "04-01-2025  20:59             1,876 dataStructure.py\n",
      "28-12-2024  09:21             4,959 datatype.ipynb\n",
      "30-12-2024  19:30             3,671 geeksBasic.py\n",
      "04-01-2025  20:59             3,954 getting started.ipynb\n",
      "16-01-2025  18:52            10,609 inventryMgmt.ipynb\n",
      "16-01-2025  21:16             9,956 inventrymgmtjson.ipynb\n",
      "12-01-2025  09:35               899 myfile.txt\n",
      "12-01-2025  20:00               114 myoutfile.txt\n",
      "09-01-2025  17:02            14,859 oops.ipynb\n",
      "17-12-2024  08:36    <DIR>          pr-venv\n",
      "13-01-2025  16:51                81 prodlist.txt\n",
      "11-12-2024  08:28    <DIR>          rawdata\n",
      "16-01-2025  21:25                 0 sell.jason\n",
      "14-01-2025  19:20            50,176 topUsedFunct.ipynb\n",
      "09-01-2025  10:10               346 utilities.py\n",
      "04-01-2025  19:21    <DIR>          __pycache__\n",
      "              14 File(s)        101,739 bytes\n",
      "               5 Dir(s)  56,898,658,304 bytes free\n"
     ]
    }
   ],
   "source": [
    "!dir"
   ]
  },
  {
   "cell_type": "markdown",
   "metadata": {},
   "source": [
    "## OS library to work with file system from python"
   ]
  },
  {
   "cell_type": "code",
   "execution_count": 3,
   "metadata": {},
   "outputs": [
    {
     "data": {
      "text/plain": [
       "['3D Objects - Shortcut.lnk',\n",
       " 'ALL ITR',\n",
       " 'Ankita',\n",
       " 'Ankita.txt',\n",
       " 'APIs',\n",
       " 'Ashish_Dwivedi_6 year exp_MainframeDeveloper-converted.pdf',\n",
       " 'Ashlok.py',\n",
       " 'Carrier',\n",
       " 'COVISHEILD',\n",
       " 'desktop.ini',\n",
       " 'Devotional',\n",
       " 'Django.txt',\n",
       " 'Hanuman __ bajarangi Desktop Hd Image Download.jpg',\n",
       " 'Infy PF Settled.png',\n",
       " 'ITC FORM13.pdf',\n",
       " 'LIC',\n",
       " 'MF Docs New',\n",
       " 'Microsoft office 2007',\n",
       " 'Microsoft Office Pro Plus 2013 RTM',\n",
       " 'Microsoft Teams.lnk',\n",
       " 'name.py',\n",
       " 'NPS',\n",
       " 'OFFICE 2010.rar',\n",
       " 'rahul',\n",
       " 'Resume',\n",
       " 'RESUME.docx',\n",
       " 'Salary Slips',\n",
       " 'text.txt',\n",
       " 'VINDA NEFT FORM.pdf',\n",
       " 'Visual Studio Code.lnk',\n",
       " 'YouTube.lnk',\n",
       " '~$2 -Lex.docx',\n",
       " '~$Azure.docx',\n",
       " '~$BM Idz.docx',\n",
       " '~$enkins.docx',\n",
       " '~$l In One Mainframe.docx',\n",
       " '~$thon & All.docx',\n",
       " '~WRL0005.tmp',\n",
       " '~WRL0096.tmp',\n",
       " '~WRL1816.tmp',\n",
       " '~WRL3602.tmp']"
      ]
     },
     "execution_count": 3,
     "metadata": {},
     "output_type": "execute_result"
    }
   ],
   "source": [
    "import os\n",
    "\n",
    "# below is equivalent to pwd -- gives current wokring directory\n",
    "os.getcwd()\n",
    "\n",
    "# changing the current wokring directory\n",
    "os.chdir(r\"C:\\Users\\ashpi\\OneDrive\\Desktop\")\n",
    "os.getcwd()\n",
    "\n",
    "#gives list of all directory present inside current directory\n",
    "os.listdir()"
   ]
  },
  {
   "cell_type": "code",
   "execution_count": 10,
   "metadata": {},
   "outputs": [
    {
     "ename": "OSError",
     "evalue": "[WinError 1314] A required privilege is not held by the client: 'www.google.com' -> 'google'",
     "output_type": "error",
     "traceback": [
      "\u001b[1;31m---------------------------------------------------------------------------\u001b[0m",
      "\u001b[1;31mOSError\u001b[0m                                   Traceback (most recent call last)",
      "Cell \u001b[1;32mIn[10], line 2\u001b[0m\n\u001b[0;32m      1\u001b[0m \u001b[38;5;66;03m# ?????read sometime what this deos ?????\u001b[39;00m\n\u001b[1;32m----> 2\u001b[0m \u001b[43mos\u001b[49m\u001b[38;5;241;43m.\u001b[39;49m\u001b[43msymlink\u001b[49m\u001b[43m(\u001b[49m\u001b[38;5;124;43m'\u001b[39;49m\u001b[38;5;124;43mwww.google.com\u001b[39;49m\u001b[38;5;124;43m'\u001b[39;49m\u001b[43m,\u001b[49m\u001b[43m \u001b[49m\u001b[38;5;124;43m'\u001b[39;49m\u001b[38;5;124;43mgoogle\u001b[39;49m\u001b[38;5;124;43m'\u001b[39;49m\u001b[43m)\u001b[49m\n",
      "\u001b[1;31mOSError\u001b[0m: [WinError 1314] A required privilege is not held by the client: 'www.google.com' -> 'google'"
     ]
    }
   ],
   "source": [
    "# ?????read sometime what this deos ?????\n",
    "os.symlink('www.google.com', 'google')"
   ]
  },
  {
   "cell_type": "code",
   "execution_count": 36,
   "metadata": {},
   "outputs": [
    {
     "name": "stdout",
     "output_type": "stream",
     "text": [
      "3\n",
      "52\n",
      "<class 'int'>\n",
      "True\n",
      "True\n",
      "True\n"
     ]
    }
   ],
   "source": [
    "print(len('abc'))\n",
    "\n",
    "print(os.sys.getsizeof('abc'))\n",
    "print(type(os.sys.getsizeof('Ashish')))\n",
    "\n",
    "## os.remove removed file from given folder, but can not delete folder(DIR)\n",
    "## to delete a folder use rmdir\n",
    "#os.remove(r\"C:\\Users\\ashpi\\OneDrive\\Desktop\\ak.txt.txt\")\n",
    "#os.rmdir(r\"C:\\Users\\ashpi\\OneDrive\\Desktop\\New folder\")\n",
    "#check if folder/path given actaully exists or not \n",
    "print(os.path.exists(r\"C:\\Users\\ashpi\\OneDrive\\Desktop\\New folder\"))\n",
    "\n",
    "print(os.path.isdir(r\"C:\\Users\\ashpi\\OneDrive\\Desktop\\New folder\"))\n",
    "\n",
    "print(os.path.isfile('prodlist.txt'))"
   ]
  },
  {
   "cell_type": "code",
   "execution_count": 33,
   "metadata": {},
   "outputs": [
    {
     "data": {
      "text/plain": [
       "'c:\\\\Users\\\\ashpi\\\\DataEngMain\\\\projects\\\\basics'"
      ]
     },
     "execution_count": 33,
     "metadata": {},
     "output_type": "execute_result"
    }
   ],
   "source": [
    "pwd"
   ]
  },
  {
   "cell_type": "code",
   "execution_count": null,
   "metadata": {},
   "outputs": [],
   "source": []
  }
 ],
 "metadata": {
  "kernelspec": {
   "display_name": "pr-venv",
   "language": "python",
   "name": "python3"
  },
  "language_info": {
   "codemirror_mode": {
    "name": "ipython",
    "version": 3
   },
   "file_extension": ".py",
   "mimetype": "text/x-python",
   "name": "python",
   "nbconvert_exporter": "python",
   "pygments_lexer": "ipython3",
   "version": "3.9.11"
  }
 },
 "nbformat": 4,
 "nbformat_minor": 2
}
