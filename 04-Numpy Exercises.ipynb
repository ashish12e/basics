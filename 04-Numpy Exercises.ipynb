{
 "cells": [
  {
   "cell_type": "markdown",
   "metadata": {},
   "source": [
    "___\n",
    "\n",
    "<a href='http://www.pieriandata.com'> <img src='../Pierian_Data_Logo.png' /></a>\n",
    "___"
   ]
  },
  {
   "cell_type": "markdown",
   "metadata": {},
   "source": [
    "# NumPy Exercises \n",
    "\n",
    "Now that we've learned about NumPy let's test your knowledge. We'll start off with a few simple tasks, and then you'll be asked some more complicated questions."
   ]
  },
  {
   "cell_type": "markdown",
   "metadata": {},
   "source": [
    "#### Import NumPy as np"
   ]
  },
  {
   "cell_type": "code",
   "execution_count": 1,
   "metadata": {
    "collapsed": true
   },
   "outputs": [],
   "source": [
    "import numpy as np"
   ]
  },
  {
   "cell_type": "markdown",
   "metadata": {},
   "source": [
    "#### Create an array of 10 zeros "
   ]
  },
  {
   "cell_type": "code",
   "execution_count": 2,
   "metadata": {
    "collapsed": false
   },
   "outputs": [
    {
     "data": {
      "text/plain": [
       "array([0., 0., 0., 0., 0., 0., 0., 0., 0., 0.])"
      ]
     },
     "execution_count": 2,
     "metadata": {},
     "output_type": "execute_result"
    }
   ],
   "source": [
    "np.zeros(10)"
   ]
  },
  {
   "cell_type": "markdown",
   "metadata": {},
   "source": [
    "#### Create an array of 10 ones"
   ]
  },
  {
   "cell_type": "code",
   "execution_count": 3,
   "metadata": {
    "collapsed": false
   },
   "outputs": [
    {
     "data": {
      "text/plain": [
       "array([1., 1., 1., 1., 1., 1., 1., 1., 1., 1.])"
      ]
     },
     "execution_count": 3,
     "metadata": {},
     "output_type": "execute_result"
    }
   ],
   "source": [
    "np.ones(10)"
   ]
  },
  {
   "cell_type": "markdown",
   "metadata": {},
   "source": [
    "#### Create an array of 10 fives"
   ]
  },
  {
   "cell_type": "code",
   "execution_count": 4,
   "metadata": {
    "collapsed": false
   },
   "outputs": [
    {
     "data": {
      "text/plain": [
       "array([5., 5., 5., 5., 5., 5., 5., 5., 5., 5.])"
      ]
     },
     "execution_count": 4,
     "metadata": {},
     "output_type": "execute_result"
    }
   ],
   "source": [
    "np.ones(10) * 5"
   ]
  },
  {
   "cell_type": "markdown",
   "metadata": {},
   "source": [
    "#### Create an array of the integers from 10 to 50"
   ]
  },
  {
   "cell_type": "code",
   "execution_count": 5,
   "metadata": {
    "collapsed": false
   },
   "outputs": [
    {
     "data": {
      "text/plain": [
       "array([10, 11, 12, 13, 14, 15, 16, 17, 18, 19, 20, 21, 22, 23, 24, 25, 26,\n",
       "       27, 28, 29, 30, 31, 32, 33, 34, 35, 36, 37, 38, 39, 40, 41, 42, 43,\n",
       "       44, 45, 46, 47, 48, 49, 50])"
      ]
     },
     "execution_count": 5,
     "metadata": {},
     "output_type": "execute_result"
    }
   ],
   "source": [
    "np.arange(10,51)"
   ]
  },
  {
   "cell_type": "markdown",
   "metadata": {},
   "source": [
    "#### Create an array of all the even integers from 10 to 50"
   ]
  },
  {
   "cell_type": "code",
   "execution_count": 6,
   "metadata": {
    "collapsed": false
   },
   "outputs": [
    {
     "data": {
      "text/plain": [
       "array([10, 12, 14, 16, 18, 20, 22, 24, 26, 28, 30, 32, 34, 36, 38, 40, 42,\n",
       "       44, 46, 48, 50])"
      ]
     },
     "execution_count": 6,
     "metadata": {},
     "output_type": "execute_result"
    }
   ],
   "source": [
    "np.arange(10,51,2)"
   ]
  },
  {
   "cell_type": "markdown",
   "metadata": {},
   "source": [
    "#### Create a 3x3 matrix with values ranging from 0 to 8"
   ]
  },
  {
   "cell_type": "code",
   "execution_count": 7,
   "metadata": {
    "collapsed": false
   },
   "outputs": [
    {
     "data": {
      "text/plain": [
       "array([[0, 1, 2],\n",
       "       [3, 4, 5],\n",
       "       [6, 7, 8]])"
      ]
     },
     "execution_count": 7,
     "metadata": {},
     "output_type": "execute_result"
    }
   ],
   "source": [
    "np.arange(0,9).reshape(3,3)"
   ]
  },
  {
   "cell_type": "markdown",
   "metadata": {},
   "source": [
    "#### Create a 3x3 identity matrix"
   ]
  },
  {
   "cell_type": "code",
   "execution_count": 8,
   "metadata": {
    "collapsed": false
   },
   "outputs": [
    {
     "name": "stdout",
     "output_type": "stream",
     "text": [
      "[[1. 0. 0. 0.]\n",
      " [0. 1. 0. 0.]\n",
      " [0. 0. 1. 0.]\n",
      " [0. 0. 0. 1.]]\n"
     ]
    }
   ],
   "source": [
    "np.identity(3) \n",
    "# all values except diagonal elements are zeros\n",
    "print(np.identity(4))"
   ]
  },
  {
   "cell_type": "markdown",
   "metadata": {},
   "source": [
    "#### Use NumPy to generate a random number between 0 and 1"
   ]
  },
  {
   "cell_type": "code",
   "execution_count": 9,
   "metadata": {
    "collapsed": false
   },
   "outputs": [
    {
     "data": {
      "text/plain": [
       "array([0.1153948])"
      ]
     },
     "execution_count": 9,
     "metadata": {},
     "output_type": "execute_result"
    }
   ],
   "source": [
    "np.random.rand(1)\n",
    "\n",
    "# argument is to give no of elements of array \n",
    "# always it gives between  0 to 1"
   ]
  },
  {
   "cell_type": "markdown",
   "metadata": {},
   "source": [
    "#### Use NumPy to generate an array of 25 random numbers sampled from a standard normal distribution"
   ]
  },
  {
   "cell_type": "code",
   "execution_count": 10,
   "metadata": {
    "collapsed": false
   },
   "outputs": [
    {
     "name": "stdout",
     "output_type": "stream",
     "text": [
      "[ 1.29230459 -1.92822816 -0.63122802 -0.02200597  1.09276933  0.89403581\n",
      " -1.20121308  0.35620668  3.48957122  0.55242253  1.66953584 -1.31318462\n",
      " -0.3053776  -0.1851945  -0.97525001  0.69692301  0.90281944 -0.7575564\n",
      " -0.98593383 -0.21219342 -1.24111195 -0.81256334  0.02412866 -0.01504609\n",
      "  1.23857113]\n"
     ]
    }
   ],
   "source": [
    "\n",
    "# np.random.seed(45)\n",
    "\n",
    "print(np.random.randn(25))"
   ]
  },
  {
   "cell_type": "markdown",
   "metadata": {},
   "source": [
    "#### Create the following matrix:"
   ]
  },
  {
   "cell_type": "code",
   "execution_count": 11,
   "metadata": {
    "collapsed": false
   },
   "outputs": [
    {
     "data": {
      "text/plain": [
       "array([[0.01, 0.02, 0.03, 0.04, 0.05, 0.06, 0.07, 0.08, 0.09, 0.1 ],\n",
       "       [0.11, 0.12, 0.13, 0.14, 0.15, 0.16, 0.17, 0.18, 0.19, 0.2 ],\n",
       "       [0.21, 0.22, 0.23, 0.24, 0.25, 0.26, 0.27, 0.28, 0.29, 0.3 ],\n",
       "       [0.31, 0.32, 0.33, 0.34, 0.35, 0.36, 0.37, 0.38, 0.39, 0.4 ],\n",
       "       [0.41, 0.42, 0.43, 0.44, 0.45, 0.46, 0.47, 0.48, 0.49, 0.5 ],\n",
       "       [0.51, 0.52, 0.53, 0.54, 0.55, 0.56, 0.57, 0.58, 0.59, 0.6 ],\n",
       "       [0.61, 0.62, 0.63, 0.64, 0.65, 0.66, 0.67, 0.68, 0.69, 0.7 ],\n",
       "       [0.71, 0.72, 0.73, 0.74, 0.75, 0.76, 0.77, 0.78, 0.79, 0.8 ],\n",
       "       [0.81, 0.82, 0.83, 0.84, 0.85, 0.86, 0.87, 0.88, 0.89, 0.9 ],\n",
       "       [0.91, 0.92, 0.93, 0.94, 0.95, 0.96, 0.97, 0.98, 0.99, 1.  ]])"
      ]
     },
     "execution_count": 11,
     "metadata": {},
     "output_type": "execute_result"
    }
   ],
   "source": [
    "np.linspace(0.01,1,100).reshape(10,10)\n",
    "\n",
    "# or\n",
    "\n",
    "(np.arange(1,101,1)/100).reshape(10,10)"
   ]
  },
  {
   "cell_type": "markdown",
   "metadata": {},
   "source": [
    "#### Create an array of 20 linearly spaced points between 0 and 1:"
   ]
  },
  {
   "cell_type": "code",
   "execution_count": 12,
   "metadata": {
    "collapsed": false
   },
   "outputs": [
    {
     "data": {
      "text/plain": [
       "array([0.        , 0.05263158, 0.10526316, 0.15789474, 0.21052632,\n",
       "       0.26315789, 0.31578947, 0.36842105, 0.42105263, 0.47368421,\n",
       "       0.52631579, 0.57894737, 0.63157895, 0.68421053, 0.73684211,\n",
       "       0.78947368, 0.84210526, 0.89473684, 0.94736842, 1.        ])"
      ]
     },
     "execution_count": 12,
     "metadata": {},
     "output_type": "execute_result"
    }
   ],
   "source": [
    "#  np.linspace(0,1,20)[1] - np.linspace(0,1,20)[0]\n",
    "# linearly space means difference between elements are same\n",
    "\n",
    "np.linspace(0,1,20)"
   ]
  },
  {
   "cell_type": "markdown",
   "metadata": {},
   "source": [
    "## Numpy Indexing and Selection\n",
    "\n",
    "Now you will be given a few matrices, and be asked to replicate the resulting matrix outputs:"
   ]
  },
  {
   "cell_type": "code",
   "execution_count": 13,
   "metadata": {
    "collapsed": false
   },
   "outputs": [
    {
     "data": {
      "text/plain": [
       "array([[ 1,  2,  3,  4,  5],\n",
       "       [ 6,  7,  8,  9, 10],\n",
       "       [11, 12, 13, 14, 15],\n",
       "       [16, 17, 18, 19, 20],\n",
       "       [21, 22, 23, 24, 25]])"
      ]
     },
     "execution_count": 13,
     "metadata": {},
     "output_type": "execute_result"
    }
   ],
   "source": [
    "mat = np.arange(1,26).reshape(5,5)\n",
    "mat"
   ]
  },
  {
   "cell_type": "code",
   "execution_count": 14,
   "metadata": {
    "collapsed": true
   },
   "outputs": [
    {
     "data": {
      "text/plain": [
       "array([[12, 13, 14, 15],\n",
       "       [17, 18, 19, 20],\n",
       "       [22, 23, 24, 25]])"
      ]
     },
     "execution_count": 14,
     "metadata": {},
     "output_type": "execute_result"
    }
   ],
   "source": [
    "mat[2:,1:]"
   ]
  },
  {
   "cell_type": "code",
   "execution_count": null,
   "metadata": {
    "collapsed": false
   },
   "outputs": [],
   "source": []
  },
  {
   "cell_type": "code",
   "execution_count": 15,
   "metadata": {
    "collapsed": true
   },
   "outputs": [
    {
     "name": "stdout",
     "output_type": "stream",
     "text": [
      "20\n"
     ]
    }
   ],
   "source": [
    "print(mat[(3,4)])"
   ]
  },
  {
   "cell_type": "code",
   "execution_count": null,
   "metadata": {
    "collapsed": false
   },
   "outputs": [],
   "source": []
  },
  {
   "cell_type": "code",
   "execution_count": 16,
   "metadata": {
    "collapsed": true
   },
   "outputs": [
    {
     "data": {
      "text/plain": [
       "array([[ 2],\n",
       "       [ 7],\n",
       "       [12]])"
      ]
     },
     "execution_count": 16,
     "metadata": {},
     "output_type": "execute_result"
    }
   ],
   "source": [
    "mat[:3,1:2]"
   ]
  },
  {
   "cell_type": "code",
   "execution_count": null,
   "metadata": {
    "collapsed": false
   },
   "outputs": [],
   "source": []
  },
  {
   "cell_type": "code",
   "execution_count": 17,
   "metadata": {
    "collapsed": true
   },
   "outputs": [
    {
     "data": {
      "text/plain": [
       "array([[21, 22, 23, 24, 25]])"
      ]
     },
     "execution_count": 17,
     "metadata": {},
     "output_type": "execute_result"
    }
   ],
   "source": [
    "mat[4:,:]"
   ]
  },
  {
   "cell_type": "code",
   "execution_count": null,
   "metadata": {
    "collapsed": false
   },
   "outputs": [],
   "source": []
  },
  {
   "cell_type": "code",
   "execution_count": 18,
   "metadata": {
    "collapsed": true
   },
   "outputs": [
    {
     "data": {
      "text/plain": [
       "array([[16, 17, 18, 19, 20],\n",
       "       [21, 22, 23, 24, 25]])"
      ]
     },
     "execution_count": 18,
     "metadata": {},
     "output_type": "execute_result"
    }
   ],
   "source": [
    "mat[3:,:]"
   ]
  },
  {
   "cell_type": "code",
   "execution_count": null,
   "metadata": {
    "collapsed": false
   },
   "outputs": [],
   "source": []
  },
  {
   "cell_type": "markdown",
   "metadata": {},
   "source": [
    "### Now do the following"
   ]
  },
  {
   "cell_type": "markdown",
   "metadata": {},
   "source": [
    "#### Get the sum of all the values in mat"
   ]
  },
  {
   "cell_type": "code",
   "execution_count": 19,
   "metadata": {
    "collapsed": false
   },
   "outputs": [
    {
     "name": "stdout",
     "output_type": "stream",
     "text": [
      "325\n"
     ]
    }
   ],
   "source": [
    "print(np.sum(mat))"
   ]
  },
  {
   "cell_type": "markdown",
   "metadata": {},
   "source": [
    "#### Get the standard deviation of the values in mat"
   ]
  },
  {
   "cell_type": "code",
   "execution_count": 20,
   "metadata": {
    "collapsed": false
   },
   "outputs": [
    {
     "data": {
      "text/plain": [
       "np.float64(7.211102550927978)"
      ]
     },
     "execution_count": 20,
     "metadata": {},
     "output_type": "execute_result"
    }
   ],
   "source": [
    "np.std(mat)"
   ]
  },
  {
   "cell_type": "markdown",
   "metadata": {},
   "source": [
    "#### Get the sum of all the columns in mat"
   ]
  },
  {
   "cell_type": "code",
   "execution_count": 21,
   "metadata": {
    "collapsed": false
   },
   "outputs": [
    {
     "name": "stdout",
     "output_type": "stream",
     "text": [
      "[[ 1  2  3  4  5]\n",
      " [ 6  7  8  9 10]\n",
      " [11 12 13 14 15]\n",
      " [16 17 18 19 20]\n",
      " [21 22 23 24 25]]\n",
      "_______vertical sum__________________\n",
      "[55 60 65 70 75]\n",
      "_______row wise sum__________________\n",
      "[ 15  40  65  90 115]\n"
     ]
    }
   ],
   "source": [
    "print(mat)\n",
    "\n",
    "# vertical sum of elements\n",
    "print('_______vertical sum__________________')\n",
    "print(np.sum(mat, axis=0))\n",
    "print('_______row wise sum__________________')\n",
    "print(np.sum(mat, axis=1))\n"
   ]
  },
  {
   "cell_type": "code",
   "execution_count": 22,
   "metadata": {},
   "outputs": [
    {
     "name": "stdout",
     "output_type": "stream",
     "text": [
      "[ 0  1  2  3  4  5  6  7  8  9 10]\n",
      "[-1  1 -1  3 -1  5 -1  7 -1  9 -1]\n"
     ]
    }
   ],
   "source": [
    "# How to replace items that satisfy a condition with another value in numpy array?\n",
    "arr_1d = np.arange(0,11,1)\n",
    "print(arr_1d)\n",
    "arr_1d[arr_1d % 2 == 0 ] = -1        # we can not assign array to a str value since it is a int array\n",
    "print(arr_1d)"
   ]
  },
  {
   "cell_type": "code",
   "execution_count": 23,
   "metadata": {},
   "outputs": [
    {
     "name": "stdout",
     "output_type": "stream",
     "text": [
      "[0 1 2 3 4 5 6 7 8 9]\n",
      "\n",
      "\n",
      "[ 0 -2  2 -2  4 -2  6 -2  8 -2]\n"
     ]
    },
    {
     "data": {
      "text/plain": [
       "array([[0, 1, 2, 3, 4],\n",
       "       [5, 6, 7, 8, 9]])"
      ]
     },
     "execution_count": 23,
     "metadata": {},
     "output_type": "execute_result"
    }
   ],
   "source": [
    "# above scenario the original arrays gets modified\n",
    "arr_1d = np.arange(0,10,1)\n",
    "arr_1d_copy = arr_1d.copy()\n",
    "arr_1d_copy[arr_1d_copy % 2 == 1 ] = -2\n",
    "print(arr_1d)\n",
    "print('\\n')\n",
    "print(arr_1d_copy)\n",
    "\n",
    "# reshaping -1 gives automatically no of cols\n",
    "arr_1d.reshape(2, -1)"
   ]
  },
  {
   "cell_type": "code",
   "execution_count": 24,
   "metadata": {},
   "outputs": [
    {
     "name": "stdout",
     "output_type": "stream",
     "text": [
      "[[0 1 2 3 4]\n",
      " [5 6 7 8 9]]\n",
      "\n",
      "\n",
      "[[1 1 1 1 1]\n",
      " [1 1 1 1 1]]\n",
      "\n",
      "\n",
      "[0 1 2 3 4 5 6 7 8 9]\n",
      "\n",
      "\n",
      "[[0 1 2 3 4]\n",
      " [5 6 7 8 9]\n",
      " [1 1 1 1 1]\n",
      " [1 1 1 1 1]]\n",
      "\n",
      "\n",
      "[[0 1 2 3 4 1 1 1 1 1]\n",
      " [5 6 7 8 9 1 1 1 1 1]]\n"
     ]
    }
   ],
   "source": [
    "a = arr_1d.reshape(2,-1)\n",
    "b = np.repeat(1,10).reshape(2,-1)\n",
    "print(a)\n",
    "print('\\n')\n",
    "print(b)\n",
    "\n",
    "# vstack to add concatenate arrays vertically\n",
    "print('\\n')\n",
    "\n",
    "#converts 2d array into 1d array\n",
    "print(a.flatten())\n",
    "print('\\n')\n",
    "print(np.vstack([a,b]))\n",
    "print('\\n')\n",
    "print(np.hstack([a,b]))\n"
   ]
  },
  {
   "cell_type": "code",
   "execution_count": 25,
   "metadata": {},
   "outputs": [
    {
     "data": {
      "text/plain": [
       "array([0, 0, 0, 1, 1, 1, 2, 2, 2, 3, 3, 3, 4, 4, 4, 5, 5, 5, 6, 6, 6, 7,\n",
       "       7, 7, 8, 8, 8, 9, 9, 9])"
      ]
     },
     "execution_count": 25,
     "metadata": {},
     "output_type": "execute_result"
    }
   ],
   "source": [
    "# How to generate custom sequences in numpy without hardcoding?\n",
    "np.repeat(a, 3)\n"
   ]
  },
  {
   "cell_type": "code",
   "execution_count": 26,
   "metadata": {},
   "outputs": [
    {
     "name": "stdout",
     "output_type": "stream",
     "text": [
      "[2 4]\n",
      "[np.int64(2), np.int64(4)]\n",
      "['b' 'c']\n",
      "\n",
      "\n",
      "['1' 'a']\n",
      "['d' 'e']\n"
     ]
    }
   ],
   "source": [
    "# How to get the common items between two python numpy arrays?\n",
    "a = np.array([1,2,3,2,3,4,3,4,5,6])\n",
    "b = np.array([7,2,10,2,7,4,9,4,9,8])\n",
    "print(np.intersect1d(a,b))\n",
    "\n",
    "# can be done without using np using sets\n",
    "print(list(set(a).intersection(set(b))))\n",
    "\n",
    "a = np.array(['a','b','c', 1])\n",
    "b = np.array(['b', 'c', 'd', 'e'])\n",
    "print(np.intersect1d(a,b))\n",
    "\n",
    "# to remove elemenst from a which are present in b\n",
    "# elements are removed from first argument array\n",
    "print('\\n')\n",
    "print(np.setdiff1d(a,b))\n",
    "print(np.setdiff1d(b, a))"
   ]
  },
  {
   "cell_type": "code",
   "execution_count": 27,
   "metadata": {},
   "outputs": [
    {
     "name": "stdout",
     "output_type": "stream",
     "text": [
      "[ 6  9 10]\n",
      "(array([1, 3, 4]),)\n"
     ]
    }
   ],
   "source": [
    "\n",
    "a = np.array([2, 6, 1, 9, 10, 3, 27])\n",
    "# print([i for i in a if i in range(5,11)])\n",
    "\n",
    "print(a[(a >= 5) & (a <= 10)])\n",
    "\n",
    "# also we can use np.where clause\n",
    "print(np.where((a >= 5) & (a <= 10)))"
   ]
  },
  {
   "cell_type": "code",
   "execution_count": 28,
   "metadata": {},
   "outputs": [
    {
     "name": "stdout",
     "output_type": "stream",
     "text": [
      "[6 7 9 8 9 7 5 3]\n",
      "\n",
      "\n",
      "[5 3 4 8 6 4 1 1]\n",
      "\n",
      "\n",
      "[[5 7 9 8 6 4 5 1]\n",
      " [6 3 4 8 9 7 1 3]]\n",
      "__________________ 2d array compare __________________\n",
      "[[6 7 9 8]\n",
      " [9 7 5 3]]\n",
      "\n",
      "\n",
      "[[5 3 4 8]\n",
      " [6 4 1 1]]\n",
      "\n",
      "\n",
      "[[5 7 9 8]\n",
      " [6 4 5 1]]\n",
      "[[6 3 4 8]\n",
      " [9 7 1 3]]\n"
     ]
    }
   ],
   "source": [
    "# comparing elements wise maximum or minimum\n",
    "a = np.array([5, 7, 9, 8, 6, 4, 5,1])\n",
    "b = np.array([6, 3, 4, 8, 9, 7, 1,3])\n",
    "\n",
    "print(np.maximum(a,b))\n",
    "print('\\n')\n",
    "print(np.minimum(a,b))\n",
    "print('\\n')\n",
    "print(np.vstack([a,b]))\n",
    "\n",
    "# compare can happen when arrays are of same length\n",
    "print('__________________ 2d array compare __________________')\n",
    "print(np.maximum(a.reshape(2,-1),b.reshape(2,-1)))\n",
    "print('\\n')\n",
    "print(np.minimum(a.reshape(2,-1),b.reshape(2,-1)))\n",
    "print('\\n')\n",
    "print(a.reshape(2,-1))\n",
    "print(b.reshape(2,-1))"
   ]
  },
  {
   "cell_type": "code",
   "execution_count": 29,
   "metadata": {},
   "outputs": [
    {
     "name": "stdout",
     "output_type": "stream",
     "text": [
      "[[0 1 2]\n",
      " [3 4 5]\n",
      " [6 7 8]]\n",
      "[[1 0 0]\n",
      " [4 3 3]\n",
      " [7 6 6]]\n",
      "[[0 1]\n",
      " [3 4]\n",
      " [6 7]]\n",
      "___________________________________\n",
      "[[0 2 1]\n",
      " [3 5 4]\n",
      " [6 8 7]]\n"
     ]
    }
   ],
   "source": [
    "## swapping of two columns , put the postions that you want to swipe\n",
    "a = np.arange(9).reshape(3,3)\n",
    "print(a)\n",
    "print(a[:,[1,0,0]])                            # a[:[indexofcolposition]]\n",
    "print(a[:,[0,1]])\n",
    "print('___________________________________')\n",
    "a[:,[1,2]] = a[:,[2,1]]\n",
    "print(a)\n",
    "\n"
   ]
  },
  {
   "cell_type": "code",
   "execution_count": 30,
   "metadata": {},
   "outputs": [
    {
     "name": "stdout",
     "output_type": "stream",
     "text": [
      "[[ 0  2  1]\n",
      " [ 3  5  4]\n",
      " [ 6  8  7]\n",
      " [12 13 14]]\n",
      "__________reversing a row__________\n",
      "[[12 13 14]\n",
      " [ 6  8  7]\n",
      " [ 3  5  4]\n",
      " [ 0  2  1]]\n",
      "___________reversinig columns_________\n",
      "[[ 1  2  0]\n",
      " [ 4  5  3]\n",
      " [ 7  8  6]\n",
      " [14 13 12]]\n"
     ]
    }
   ],
   "source": [
    "# reversing rows or array same as used to be in string array\n",
    "a = np.append(a, [12,13,14]).reshape(4,-1)                             # appending new elements at end of array\n",
    "print(a)\n",
    "print('__________reversing a row__________')\n",
    "print(a[::-1,])\n",
    "print('___________reversinig columns_________')\n",
    "print(a[:,::-1])\n"
   ]
  },
  {
   "cell_type": "code",
   "execution_count": 31,
   "metadata": {},
   "outputs": [
    {
     "name": "stdout",
     "output_type": "stream",
     "text": [
      "[[6.02361942 9.02941867 5.21345697]\n",
      " [8.01720791 6.04831258 8.49163953]\n",
      " [7.16193894 6.41010817 6.68494516]\n",
      " [5.92402681 7.44473211 6.49153949]\n",
      " [8.22524027 5.7137889  7.54592054]]\n",
      "_______________________rounding off to decimal place _______________________\n",
      "[[6.024 9.029 5.213]\n",
      " [8.017 6.048 8.492]\n",
      " [7.162 6.41  6.685]\n",
      " [5.924 7.445 6.492]\n",
      " [8.225 5.714 7.546]]\n"
     ]
    }
   ],
   "source": [
    "# Question: Create a 2D array of shape 5x3 to contain random decimal numbers between 5 and 10.\n",
    "\n",
    "# Solution:\n",
    "\n",
    "rand_arr = np.random.uniform(5,10, size=(5,3))\n",
    "print(rand_arr)\n",
    "print('_______________________rounding off to decimal place _______________________')\n",
    "print(np.round(rand_arr,decimals=3))\n",
    "\n"
   ]
  },
  {
   "cell_type": "code",
   "execution_count": 32,
   "metadata": {},
   "outputs": [
    {
     "data": {
      "text/plain": [
       "array([[    nan, 4.4e+01, 7.2e+04,     nan],\n",
       "       [    nan, 2.7e+01, 4.8e+04,     nan],\n",
       "       [    nan, 3.0e+01, 5.4e+04,     nan],\n",
       "       [    nan, 3.8e+01, 6.1e+04,     nan],\n",
       "       [    nan, 4.0e+01,     nan,     nan],\n",
       "       [    nan, 3.5e+01, 5.8e+04,     nan],\n",
       "       [    nan,     nan, 5.2e+04,     nan],\n",
       "       [    nan, 4.8e+01, 7.9e+04,     nan],\n",
       "       [    nan, 5.0e+01, 8.3e+04,     nan],\n",
       "       [    nan, 3.7e+01, 6.7e+04,     nan]])"
      ]
     },
     "execution_count": 32,
     "metadata": {},
     "output_type": "execute_result"
    }
   ],
   "source": [
    "country_data = np.genfromtxt('rawdata\\csv\\country.csv', skip_header=1,delimiter=',',usecols = [0,1,2,3], dtype=float)\n",
    "country_data"
   ]
  },
  {
   "cell_type": "code",
   "execution_count": 36,
   "metadata": {},
   "outputs": [
    {
     "data": {
      "text/plain": [
       "np.float64(38.9)"
      ]
     },
     "execution_count": 36,
     "metadata": {},
     "output_type": "execute_result"
    }
   ],
   "source": [
    "np.mean(country_data[:,1:2])"
   ]
  },
  {
   "cell_type": "code",
   "execution_count": 41,
   "metadata": {},
   "outputs": [
    {
     "name": "stdout",
     "output_type": "stream",
     "text": [
      "Mean age col2 :  38.9\n",
      "Median age of col2 :  39.0\n",
      "Standard Deviation of col2 : 6.89129886160802\n",
      "[[44.]\n",
      " [27.]\n",
      " [30.]\n",
      " [38.]\n",
      " [40.]\n",
      " [35.]\n",
      " [40.]\n",
      " [48.]\n",
      " [50.]\n",
      " [37.]]\n"
     ]
    }
   ],
   "source": [
    "#mean does not works when there is any 'nan' or missing value in data\n",
    "# so first i have removed nan to some value\n",
    "country_data[6:7,1:2] = 40 \n",
    "print('Mean age col2 : ', np.mean(country_data[:,1:2]))\n",
    "\n",
    "print('Median age of col2 : ', np.median(country_data[:,1:2]))\n",
    "\n",
    "print('Standard Deviation of col2 :', np.std(country_data[:,1:2]))\n",
    "\n",
    "print(country_data[:,1:2])\n",
    "\n",
    "# read maths for meadian and standard deviation ????????????????"
   ]
  },
  {
   "cell_type": "markdown",
   "metadata": {},
   "source": [
    "numpy.set_printoptions\n",
    "numpy.set_printoptions(precision=None, threshold=None, edgeitems=None, linewidth=None, suppress=None, nanstr=None, infstr=None, formatter=None, sign=None, floatmode=None, *, legacy=None, override_repr=None)[source]\n",
    "Set printing options.\n",
    "\n",
    "These options determine the way floating point numbers, arrays and other NumPy objects are displayed.\n",
    "\n",
    "Parameters:\n",
    "precisionint or None, optional\n",
    "Number of digits of precision for floating point output (default 8). May be None if floatmode is not fixed, to print as many digits as necessary to uniquely specify the value.\n",
    "\n",
    "thresholdint, optional\n",
    "Total number of array elements which trigger summarization rather than full repr (default 1000). To always use the full repr without summarization, pass sys.maxsize.\n",
    "\n",
    "edgeitemsint, optional\n",
    "Number of array items in summary at beginning and end of each dimension (default 3).\n",
    "\n",
    "linewidthint, optional\n",
    "The number of characters per line for the purpose of inserting line breaks (default 75).\n",
    "\n",
    "suppressbool, optional\n",
    "If True, always print floating point numbers using fixed point notation, in which case numbers equal to zero in the current precision will print as zero. If False, then scientific notation is used when absolute value of the smallest number is < 1e-4 or the ratio of the maximum absolute value to the minimum is > 1e3. The default is False.\n",
    "\n",
    "nanstrstr, optional\n",
    "String representation of floating point not-a-number (default nan).\n",
    "\n",
    "infstrstr, optional\n",
    "String representation of floating point infinity (default inf).\n",
    "\n",
    "signstring, either ‘-’, ‘+’, or ‘ ‘, optional\n",
    "Controls printing of the sign of floating-point types. If ‘+’, always print the sign of positive values. If ‘ ‘, always prints a space (whitespace character) in the sign position of positive values. If ‘-’, omit the sign character of positive values. (default ‘-‘)"
   ]
  },
  {
   "cell_type": "code",
   "execution_count": 42,
   "metadata": {},
   "outputs": [],
   "source": [
    "# percentile \n"
   ]
  },
  {
   "cell_type": "code",
   "execution_count": 52,
   "metadata": {},
   "outputs": [
    {
     "name": "stdout",
     "output_type": "stream",
     "text": [
      "[[b'France' b'44' b'72000' b'Yes']\n",
      " [b'Spain' b'27' b'48000' b'Yes']\n",
      " [b'' b'30' b'54000' b'']\n",
      " [b'Spain' b'38' b'61000' b'No']\n",
      " [b'Germany' b'40' b'' b'Yes']\n",
      " [b'France' b'35' b'58000' b'Yes']\n",
      " [b'Spain' b'' b'52000' b'No']\n",
      " [b'France' b'48' b'79000' b'Yes']\n",
      " [b'Germany' b'50' b'83000' b'No']\n",
      " [b'France' b'37' b'67000' b'Yes']]\n",
      "\n",
      "\n",
      "[[b'France' b'44' b'72000' b'Yes']\n",
      " [b'Spain' b'27' b'48000' b'Yes']\n",
      " [b'' b'30' b'54000' b'']\n",
      " ['nval' 'nval' 'nval' 'nval']\n",
      " [b'Germany' b'40' b'' b'Yes']\n",
      " ['nval' 'nval' 'nval' 'nval']\n",
      " ['nval' 'nval' 'nval' 'nval']\n",
      " ['nval' 'nval' 'nval' 'nval']\n",
      " ['nval' 'nval' 'nval' 'nval']\n",
      " [b'France' b'37' b'67000' b'Yes']]\n"
     ]
    },
    {
     "ename": "TypeError",
     "evalue": "ufunc 'isnan' not supported for the input types, and the inputs could not be safely coerced to any supported types according to the casting rule ''safe''",
     "output_type": "error",
     "traceback": [
      "\u001b[1;31m---------------------------------------------------------------------------\u001b[0m",
      "\u001b[1;31mTypeError\u001b[0m                                 Traceback (most recent call last)",
      "Cell \u001b[1;32mIn[52], line 13\u001b[0m\n\u001b[0;32m      9\u001b[0m \u001b[38;5;28mprint\u001b[39m(country_data)\n\u001b[0;32m     11\u001b[0m \u001b[38;5;66;03m# find positions where nan is there\u001b[39;00m\n\u001b[1;32m---> 13\u001b[0m \u001b[43mnp\u001b[49m\u001b[38;5;241;43m.\u001b[39;49m\u001b[43misnan\u001b[49m\u001b[43m(\u001b[49m\u001b[43mcountry_data\u001b[49m\u001b[43m)\u001b[49m\u001b[38;5;241m.\u001b[39msum()\n",
      "\u001b[1;31mTypeError\u001b[0m: ufunc 'isnan' not supported for the input types, and the inputs could not be safely coerced to any supported types according to the casting rule ''safe''"
     ]
    }
   ],
   "source": [
    "# inserting random values at random positions of array\n",
    "country_data = np.genfromtxt('rawdata\\csv\\country.csv', skip_header=1,delimiter=',',usecols = [0,1,2,3], dtype=object)\n",
    "\n",
    "print(country_data)\n",
    "print('\\n')\n",
    "\n",
    "for i in (np.random.randint(0, len(country_data), 5)):\n",
    "    country_data[i] = 'nval'\n",
    "print(country_data)\n",
    "\n",
    "# find positions where nan is there\n",
    "\n",
    "np.isnan(country_data).sum()"
   ]
  },
  {
   "cell_type": "code",
   "execution_count": 53,
   "metadata": {},
   "outputs": [],
   "source": [
    "# start from question 34 of kaggle numpy exercise"
   ]
  },
  {
   "cell_type": "code",
   "execution_count": null,
   "metadata": {},
   "outputs": [],
   "source": []
  }
 ],
 "metadata": {
  "kernelspec": {
   "display_name": "pr-venv",
   "language": "python",
   "name": "python3"
  },
  "language_info": {
   "codemirror_mode": {
    "name": "ipython",
    "version": 3
   },
   "file_extension": ".py",
   "mimetype": "text/x-python",
   "name": "python",
   "nbconvert_exporter": "python",
   "pygments_lexer": "ipython3",
   "version": "3.9.11"
  }
 },
 "nbformat": 4,
 "nbformat_minor": 0
}
