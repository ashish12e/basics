{
 "cells": [
  {
   "cell_type": "markdown",
   "metadata": {},
   "source": [
    "##writing to file"
   ]
  },
  {
   "cell_type": "code",
   "execution_count": 27,
   "metadata": {},
   "outputs": [],
   "source": [
    "class products:\n",
    "    def __init__(self,pid, pname, price, quantity):\n",
    "        self.pid = pid\n",
    "        self.pname = pname\n",
    "        self.price = price\n",
    "        self.quantity = quantity\n",
    "        with open('prodlist.txt', 'a') as p:\n",
    "            p.write('{};{};{};{}\\n'.format(self.pid, self.pname, self.price, self.quantity))\n",
    "        p.close()\n",
    "\n",
    "# adding product in prodlist.txt file\n",
    "p = products(1, 'biscuit', 10, 18)\n",
    "p = products(2, 'namkeen', 5, 100)\n",
    "p = products(3, 'milkybar', 12, 100)\n",
    "p = products(4, 'laptop', 599, 100)\n",
    "p = products(5, 'book', 30, 40)"
   ]
  },
  {
   "cell_type": "code",
   "execution_count": 28,
   "metadata": {},
   "outputs": [
    {
     "name": "stdout",
     "output_type": "stream",
     "text": [
      "[['1', 'biscuit', '10', '18'], ['2', 'namkeen', '5', '85'], ['3', 'milkybar', '12', '100'], ['4', 'laptop', '599', '99'], ['5', 'book', '30', '40']]\n",
      "Code    Items      Price       Qunt\n",
      "____________________________________\n",
      "1       biscuit       10       18\n",
      "2       namkeen       5       85\n",
      "3       milkybar       12       100\n",
      "4       laptop       599       99\n",
      "5       book       30       40\n"
     ]
    }
   ],
   "source": [
    "#reading the prodlist file and disply the product\n",
    "class displayProducts:\n",
    "    # prodcut_list = []\n",
    "    def __init__(self):\n",
    "        with open('prodlist.txt', 'r') as pread:\n",
    "            # self.product_list.append(pread.read().split())\n",
    "            self.prduct_list = [i.split(';') for i in pread.read().split()]\n",
    "    def all_items(self):\n",
    "        # print('_____Available Items____')\n",
    "        print('Code' + '    ' + 'Items' + '      ' + 'Price' + '       ' + 'Qunt')\n",
    "        print('____________________________________')\n",
    "        #used str typecasting so that string concatenation works\n",
    "        for i in self.prduct_list:  \n",
    "            print(str(i[0])+ '       '+str(i[1]) + '       '+str(i[2]) + '       '+str(i[3]))\n",
    "\n",
    "#calling class to get list of products\n",
    "prd = displayProducts()\n",
    "print(prd.prduct_list)\n",
    "prd.all_items()"
   ]
  },
  {
   "cell_type": "markdown",
   "metadata": {},
   "source": [
    "#opens file in write mode and updates from updated list then closes file"
   ]
  },
  {
   "cell_type": "code",
   "execution_count": 29,
   "metadata": {},
   "outputs": [],
   "source": [
    "class updateinventory:\n",
    "    def __init__(self,upd_list):\n",
    "        self.upd_list = upd_list\n",
    "        \n",
    "        # print('Update', upd_list)\n",
    "        \n",
    "        with open('prodlist.txt', 'w') as writem:\n",
    "            for k in upd_list:\n",
    "                # print(','.join(k))\n",
    "                writem.write(';'.join(k)+'\\n')\n",
    "        writem.close()\n",
    "            "
   ]
  },
  {
   "cell_type": "code",
   "execution_count": 69,
   "metadata": {},
   "outputs": [
    {
     "name": "stdout",
     "output_type": "stream",
     "text": [
      "--------------------INVOICE-----------------\n",
      "Item             Quanity              Price\n",
      "--------------------------------------------\n",
      "namkeen              5                   25\n",
      "--------------------------------------------\n",
      "                                Total: 25\n",
      "--------------------------------------------\n"
     ]
    }
   ],
   "source": [
    "class  orders(displayProducts):\n",
    "    def __init__(self):\n",
    "        super().__init__()\n",
    "        self.first_time = True\n",
    "        self.total_Amount = 0\n",
    "        # super().all_items()\n",
    "    def tobuyitem(self, tobuyitem):\n",
    "        self.tobuyitem = tobuyitem\n",
    "        for itm in self.tobuyitem.keys():\n",
    "            self.getprice(itm)\n",
    "            self.billing(self.tobuyitem[itm])\n",
    "\n",
    "    def sellUpdate(self, ud):\n",
    "        self.user_details = ud\n",
    "        print(self.user_details)\n",
    "\n",
    "    def getprice(self, code):\n",
    "        i = 0\n",
    "        self.code = code\n",
    "        while i <= len(self.prduct_list):\n",
    "            if self.code == self.prduct_list[i][0]:\n",
    "                self.price = int(self.prduct_list[i][2])\n",
    "                self.item  = self.prduct_list[i][1]\n",
    "                break\n",
    "            else:\n",
    "                i += 1\n",
    "    def billing(self, qunatity):\n",
    "        try:\n",
    "            if self.first_time:\n",
    "                print('--------------------INVOICE-----------------')\n",
    "                print('Item' + '             ' + 'Quanity' + '              ' + 'Price')\n",
    "                print('--------------------------------------------')\n",
    "                print('{}              {}                   {}'.format(self.item, qunatity, self.price * int(qunatity)))\n",
    "                self.total_Amount += self.price * int(qunatity)\n",
    "                for j in self.prduct_list:\n",
    "                    if self.code == j[0]:\n",
    "                        #updating item which has been purchased \n",
    "                        j[3] = str(int(j[3]) - int(qunatity))\n",
    "\n",
    "                self.first_time = False\n",
    "            else:\n",
    "                print('{}              {}                   {}'.format(self.item, qunatity, self.price * int(qunatity)))\n",
    "                for j in self.prduct_list:\n",
    "                    if self.code == j[0]:\n",
    "                        #updating item which has been purchased \n",
    "                        j[3] = str(int(j[3]) - int(qunatity))\n",
    "                #calling class to update the product list text\n",
    "                updateinventory(self.prduct_list)\n",
    "                # updating total amount \n",
    "                self.total_Amount += self.price * int(qunatity)\n",
    "                \n",
    "        except:\n",
    "            print('oops ! Some error while request processing')\n",
    "        finally:\n",
    "            print('--------------------------------------------')\n",
    "            print('                                '+ 'Total: '+ str(self.total_Amount))\n",
    "            print('--------------------------------------------')\n",
    "        \n",
    "\n",
    "\n",
    "ord = orders()\n",
    "ord.getprice('2')\n",
    "\n",
    "ord.billing(5)"
   ]
  },
  {
   "cell_type": "code",
   "execution_count": 35,
   "metadata": {},
   "outputs": [],
   "source": [
    "#Code Driver"
   ]
  },
  {
   "cell_type": "code",
   "execution_count": null,
   "metadata": {},
   "outputs": [],
   "source": [
    "class sell:\n",
    "    def __init__(self, sold_product):\n",
    "        with open('sellFile.txt', 'a') as sf:\n",
    "            sf.write(sold_product)"
   ]
  },
  {
   "cell_type": "code",
   "execution_count": 70,
   "metadata": {},
   "outputs": [
    {
     "name": "stdout",
     "output_type": "stream",
     "text": [
      "Welcome to Ecart\n",
      "Code    Items      Price       Qunt\n",
      "____________________________________\n",
      "1       biscuit       10       8\n",
      "2       namkeen       5       50\n",
      "3       milkybar       12       93\n",
      "4       laptop       599       90\n",
      "5       book       30       30\n",
      "{'2': '5', '1': '1'}\n",
      "--------------------INVOICE-----------------\n",
      "Item             Quanity              Price\n",
      "--------------------------------------------\n",
      "namkeen              5                   25\n",
      "--------------------------------------------\n",
      "                                Total: 25\n",
      "--------------------------------------------\n",
      "biscuit              1                   10\n",
      "--------------------------------------------\n",
      "                                Total: 35\n",
      "--------------------------------------------\n"
     ]
    }
   ],
   "source": [
    "\n",
    "def userDetails():\n",
    "    name = input('Enter your name')\n",
    "    email = input('Enter your email')\n",
    "    mobile = input('Enter your mobile')\n",
    "    return {'name': name, 'email':email, 'mobile':mobile}\n",
    "def userinput():\n",
    "    print('Welcome to Ecart')\n",
    "    yes = input('Do you want shopping')\n",
    "\n",
    "    #takes all the items that user want to purchase\n",
    "    order_item = {}\n",
    "    if yes == 'y' or 'Y':\n",
    "        # ud = userDetails()\n",
    "        ord1 = orders()\n",
    "        ord1.all_items()\n",
    "        more_items = 'Y'\n",
    "        while more_items == 'y' or more_items == 'Y' :\n",
    "            code = input('Enter product code to buy')\n",
    "            quantity = input('Enter no of items to buy')\n",
    "            order_item[code] = quantity\n",
    "            more_items = input('Do you want more products')\n",
    "            if more_items == 'n' or more_items == 'N':\n",
    "                break\n",
    "        print(order_item)\n",
    "        # ord1.getprice(code)\n",
    "        # ord1.getprice(order_item)\n",
    "        # ord1.billing(quantity)\n",
    "        ord1.tobuyitem(order_item)\n",
    "        ord1.sellUpdate(ud)\n",
    "    else:\n",
    "        print('visit again later')\n",
    "\n",
    "userinput()"
   ]
  },
  {
   "cell_type": "code",
   "execution_count": null,
   "metadata": {},
   "outputs": [],
   "source": []
  },
  {
   "cell_type": "code",
   "execution_count": null,
   "metadata": {},
   "outputs": [],
   "source": []
  }
 ],
 "metadata": {
  "kernelspec": {
   "display_name": "pr-venv",
   "language": "python",
   "name": "python3"
  },
  "language_info": {
   "codemirror_mode": {
    "name": "ipython",
    "version": 3
   },
   "file_extension": ".py",
   "mimetype": "text/x-python",
   "name": "python",
   "nbconvert_exporter": "python",
   "pygments_lexer": "ipython3",
   "version": "3.9.11"
  }
 },
 "nbformat": 4,
 "nbformat_minor": 2
}
