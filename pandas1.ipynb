{
 "cells": [
  {
   "cell_type": "code",
   "execution_count": 1,
   "metadata": {},
   "outputs": [],
   "source": [
    "import pandas"
   ]
  },
  {
   "cell_type": "code",
   "execution_count": 2,
   "metadata": {},
   "outputs": [
    {
     "name": "stdout",
     "output_type": "stream",
     "text": [
      "Requirement already satisfied: pandas in c:\\users\\ashpi\\dataengmain\\projects\\basics\\pr-venv\\lib\\site-packages (2.2.3)\n",
      "Requirement already satisfied: pytz>=2020.1 in c:\\users\\ashpi\\dataengmain\\projects\\basics\\pr-venv\\lib\\site-packages (from pandas) (2024.2)\n",
      "Requirement already satisfied: python-dateutil>=2.8.2 in c:\\users\\ashpi\\dataengmain\\projects\\basics\\pr-venv\\lib\\site-packages (from pandas) (2.9.0.post0)\n",
      "Requirement already satisfied: tzdata>=2022.7 in c:\\users\\ashpi\\dataengmain\\projects\\basics\\pr-venv\\lib\\site-packages (from pandas) (2024.2)\n",
      "Requirement already satisfied: numpy>=1.22.4 in c:\\users\\ashpi\\dataengmain\\projects\\basics\\pr-venv\\lib\\site-packages (from pandas) (2.0.2)\n",
      "Requirement already satisfied: six>=1.5 in c:\\users\\ashpi\\dataengmain\\projects\\basics\\pr-venv\\lib\\site-packages (from python-dateutil>=2.8.2->pandas) (1.17.0)\n"
     ]
    },
    {
     "name": "stderr",
     "output_type": "stream",
     "text": [
      "WARNING: You are using pip version 22.0.4; however, version 24.3.1 is available.\n",
      "You should consider upgrading via the 'C:\\Users\\ashpi\\DataEngMain\\projects\\basics\\pr-venv\\Scripts\\python.exe -m pip install --upgrade pip' command.\n"
     ]
    }
   ],
   "source": [
    "! pip install pandas"
   ]
  },
  {
   "cell_type": "code",
   "execution_count": 3,
   "metadata": {},
   "outputs": [
    {
     "name": "stdout",
     "output_type": "stream",
     "text": [
      "Requirement already satisfied: scikit-learn in c:\\users\\ashpi\\dataengmain\\projects\\basics\\pr-venv\\lib\\site-packages (1.6.1)\n",
      "Requirement already satisfied: scipy>=1.6.0 in c:\\users\\ashpi\\dataengmain\\projects\\basics\\pr-venv\\lib\\site-packages (from scikit-learn) (1.13.1)\n",
      "Requirement already satisfied: threadpoolctl>=3.1.0 in c:\\users\\ashpi\\dataengmain\\projects\\basics\\pr-venv\\lib\\site-packages (from scikit-learn) (3.5.0)\n",
      "Requirement already satisfied: joblib>=1.2.0 in c:\\users\\ashpi\\dataengmain\\projects\\basics\\pr-venv\\lib\\site-packages (from scikit-learn) (1.4.2)\n",
      "Requirement already satisfied: numpy>=1.19.5 in c:\\users\\ashpi\\dataengmain\\projects\\basics\\pr-venv\\lib\\site-packages (from scikit-learn) (2.0.2)\n"
     ]
    },
    {
     "name": "stderr",
     "output_type": "stream",
     "text": [
      "WARNING: You are using pip version 22.0.4; however, version 24.3.1 is available.\n",
      "You should consider upgrading via the 'C:\\Users\\ashpi\\DataEngMain\\projects\\basics\\pr-venv\\Scripts\\python.exe -m pip install --upgrade pip' command.\n"
     ]
    }
   ],
   "source": [
    "! pip install scikit-learn"
   ]
  },
  {
   "cell_type": "markdown",
   "metadata": {},
   "source": [
    "## imports"
   ]
  },
  {
   "cell_type": "code",
   "execution_count": 4,
   "metadata": {},
   "outputs": [],
   "source": [
    "import numpy as np\n",
    "import pandas as pd\n",
    "from sklearn.impute import SimpleImputer"
   ]
  },
  {
   "cell_type": "markdown",
   "metadata": {},
   "source": [
    "## numpy udemy"
   ]
  },
  {
   "cell_type": "code",
   "execution_count": 61,
   "metadata": {},
   "outputs": [
    {
     "name": "stdout",
     "output_type": "stream",
     "text": [
      "[1 3 5 7 9]\n",
      "[['a' 's' 'h' 'i' 's' 'h' 'k' 'u' 'm' 'a' 'r']\n",
      " ['a' 's' 'h' 'i' 's' 'h' 'k' 'u' 'm' 'a' 'r']\n",
      " ['d' 'w' 'i' 'v' 'e' 'd' 'i' 'a' 'k' 'd' '1']]\n",
      "________________________CREATE SAMPLE NP ARRAYS_______________________________________________\n",
      "[1. 1. 1. 1. 1.]\n",
      "[[1. 1. 1.]\n",
      " [1. 1. 1.]]\n"
     ]
    },
    {
     "data": {
      "text/plain": [
       "array([2, 9, 1, 3, 7], dtype=int32)"
      ]
     },
     "execution_count": 61,
     "metadata": {},
     "output_type": "execute_result"
    }
   ],
   "source": [
    "# similar to range function in normal python\n",
    "print(np.arange(1,11,2))                         #<-- one dimensional array\n",
    "lst = [i for i in 'ashishkumar']\n",
    "lst2= [i for i in 'dwivediakd1']\n",
    "\n",
    "data = np.array([lst, lst, lst2])                #<-- passing list of list in array , will give 2-d array\n",
    "print(data)                                      # two brackets\n",
    "\n",
    "print('________________________CREATE SAMPLE NP ARRAYS_______________________________________________')\n",
    "ones = np.ones((2,3))                              # takes no of rows and cols i tuple, put one argument will give \n",
    "ones_1d = np.ones(5)                               # 1d array\n",
    "print(ones_1d)\n",
    "print(ones)\n",
    "\n",
    "np.random.randint(1,10,5)            # 5 is no of elements that i want to generate randomly"
   ]
  },
  {
   "cell_type": "markdown",
   "metadata": {},
   "source": [
    "The linspace() method of the NumPy library is a useful tool to generate sequences of data points. It is also used in data visualization.\n",
    "The NumPy.linspace() function returns an array of evenly spaced values within the specified interval [start, stop].\n",
    "\n",
    "It is similar to NumPy.arange() function but instead of a step, it uses a sample number. "
   ]
  },
  {
   "cell_type": "code",
   "execution_count": 50,
   "metadata": {},
   "outputs": [
    {
     "name": "stdout",
     "output_type": "stream",
     "text": [
      "[ 1.  2.  3.  4.  5.  6.  7.  8.  9. 10.]\n",
      "[  1.   4.   9.  16.  25.  36.  49.  64.  81. 100.]\n",
      "[[0.40936766 0.06634488 0.09841441 0.49615731 0.67380731]\n",
      " [0.54667847 0.04702988 0.42825126 0.21073398 0.43920617]\n",
      " [0.60941268 0.09528854 0.48176246 0.25350504 0.75510595]\n",
      " [0.15069064 0.18706767 0.60527249 0.90133133 0.67557529]\n",
      " [0.47990878 0.32431884 0.55432178 0.32374896 0.535456  ]]\n",
      "[[ 0.39385175 -2.21757793 -0.27195432 -1.47181095  1.24211197]\n",
      " [-0.52590516 -0.34147839 -0.35939881  1.04643442 -0.3259297 ]\n",
      " [-0.09097694 -0.45311188 -0.2907892   0.3704332   0.3756728 ]\n",
      " [-0.25830134  1.05857807  1.17907123 -0.01111536  0.04955758]\n",
      " [ 0.45350247 -0.38230868 -1.43535304 -0.32024538  0.81952028]]\n",
      "1\n",
      "[52 87 89 48 69 72 78 44 30  5]\n"
     ]
    },
    {
     "data": {
      "text/plain": [
       "np.int32(19)"
      ]
     },
     "execution_count": 50,
     "metadata": {},
     "output_type": "execute_result"
    }
   ],
   "source": [
    "# start , stop, no of elements\n",
    "print(np.linspace(1,10,10))\n",
    "# during analysis we can use generated np array to do some mathematical operation\n",
    "print(np.square(np.linspace(1,10,10)))\n",
    "\n",
    "#other ways to genarate random array\n",
    "print(np.random.rand(5,5))\n",
    "print(np.random.randn(5,5))\n",
    "#to get single random between low and high\n",
    "print(np.random.randint(1,5))\n",
    "\n",
    "# to get multiple nos between low and high\n",
    "rand_int_ary = np.random.randint(1,100,20)\n",
    "print(np.random.randint(1,100,10))\n",
    "# for i in rand_int_ary:\n",
    "#     print(i)\n",
    "rand_int_ary[2]"
   ]
  },
  {
   "cell_type": "code",
   "execution_count": 60,
   "metadata": {},
   "outputs": [
    {
     "name": "stdout",
     "output_type": "stream",
     "text": [
      "shape of rand_int_ary is : (20,)\n",
      "shape of data array is : (3, 11)\n",
      "max value of array is :  99 index of max value is :  11\n",
      "[63 36 19 74 86 54 34  4 39 42 39 99 25 74 26 65 35 10 18 55]\n",
      "[[63 36 19 74 86 54 34  4 39 42]\n",
      " [39 99 25 74 26 65 35 10 18 55]]\n",
      "[[63 36 19 74 86]\n",
      " [54 34  4 39 42]\n",
      " [39 99 25 74 26]\n",
      " [65 35 10 18 55]]\n"
     ]
    }
   ],
   "source": [
    "# to know the shape of an array use shape \n",
    "# shape is an attribute not function \n",
    "print('shape of rand_int_ary is :', rand_int_ary.shape)\n",
    "print('shape of data array is :', data.shape)\n",
    "print('max value of array is : ', rand_int_ary.max(), 'index of max value is : ',rand_int_ary.argmax())\n",
    "# reshaping of array\n",
    "# we can reshapre from 1d to 2d but rows * cols must be equal to no of all elements of array\n",
    "print(rand_int_ary)\n",
    "print(rand_int_ary.reshape(2,10))\n",
    "print(rand_int_ary.reshape(4,5))"
   ]
  },
  {
   "cell_type": "code",
   "execution_count": null,
   "metadata": {},
   "outputs": [],
   "source": []
  },
  {
   "cell_type": "code",
   "execution_count": 6,
   "metadata": {},
   "outputs": [
    {
     "name": "stdout",
     "output_type": "stream",
     "text": [
      "                       Name               Age                     Namee  \\\n",
      "0  [Tom, nick, krish, jack]  [20, 21, 19, 24]                       NaN   \n",
      "1  [Tom, nick, krish, jack]  [20, 21, 19, 24]                       NaN   \n",
      "2  [Ashish, Piyush, AD, PD]  [20, 21, 19, 24]                       NaN   \n",
      "3                       NaN               NaN  [Tom, nick, krish, jack]   \n",
      "\n",
      "              Ageee  \n",
      "0               NaN  \n",
      "1               NaN  \n",
      "2               NaN  \n",
      "3  [20, 21, 19, 24]  \n",
      "________________________________________________________________\n"
     ]
    },
    {
     "ename": "TypeError",
     "evalue": "unhashable type: 'dict'",
     "output_type": "error",
     "traceback": [
      "\u001b[1;31m---------------------------------------------------------------------------\u001b[0m",
      "\u001b[1;31mTypeError\u001b[0m                                 Traceback (most recent call last)",
      "Cell \u001b[1;32mIn[6], line 16\u001b[0m\n\u001b[0;32m     14\u001b[0m \u001b[38;5;28mprint\u001b[39m(df)\n\u001b[0;32m     15\u001b[0m \u001b[38;5;28mprint\u001b[39m(\u001b[38;5;124m'\u001b[39m\u001b[38;5;124m________________________________________________________________\u001b[39m\u001b[38;5;124m'\u001b[39m)\n\u001b[1;32m---> 16\u001b[0m data1 \u001b[38;5;241m=\u001b[39m {{\u001b[38;5;124m'\u001b[39m\u001b[38;5;124mName\u001b[39m\u001b[38;5;124m'\u001b[39m:[\u001b[38;5;124m'\u001b[39m\u001b[38;5;124mTom\u001b[39m\u001b[38;5;124m'\u001b[39m, \u001b[38;5;124m'\u001b[39m\u001b[38;5;124mnick\u001b[39m\u001b[38;5;124m'\u001b[39m, \u001b[38;5;124m'\u001b[39m\u001b[38;5;124mkrish\u001b[39m\u001b[38;5;124m'\u001b[39m, \u001b[38;5;124m'\u001b[39m\u001b[38;5;124mjack\u001b[39m\u001b[38;5;124m'\u001b[39m],\n\u001b[0;32m     17\u001b[0m         \u001b[38;5;124m'\u001b[39m\u001b[38;5;124mAge\u001b[39m\u001b[38;5;124m'\u001b[39m:[\u001b[38;5;241m20\u001b[39m, \u001b[38;5;241m21\u001b[39m, \u001b[38;5;241m19\u001b[39m,\u001b[38;5;241m24\u001b[39m]},\n\u001b[0;32m     18\u001b[0m         {\u001b[38;5;124m'\u001b[39m\u001b[38;5;124mName\u001b[39m\u001b[38;5;124m'\u001b[39m:[\u001b[38;5;124m'\u001b[39m\u001b[38;5;124mTom\u001b[39m\u001b[38;5;124m'\u001b[39m, \u001b[38;5;124m'\u001b[39m\u001b[38;5;124mnick\u001b[39m\u001b[38;5;124m'\u001b[39m, \u001b[38;5;124m'\u001b[39m\u001b[38;5;124mkrish\u001b[39m\u001b[38;5;124m'\u001b[39m, \u001b[38;5;124m'\u001b[39m\u001b[38;5;124mjack\u001b[39m\u001b[38;5;124m'\u001b[39m],\n\u001b[0;32m     19\u001b[0m         \u001b[38;5;124m'\u001b[39m\u001b[38;5;124mAge\u001b[39m\u001b[38;5;124m'\u001b[39m:[\u001b[38;5;241m20\u001b[39m, \u001b[38;5;241m21\u001b[39m, \u001b[38;5;241m19\u001b[39m,\u001b[38;5;241m24\u001b[39m]},\n\u001b[0;32m     20\u001b[0m         {\u001b[38;5;124m'\u001b[39m\u001b[38;5;124mName\u001b[39m\u001b[38;5;124m'\u001b[39m:[\u001b[38;5;124m'\u001b[39m\u001b[38;5;124mAshish\u001b[39m\u001b[38;5;124m'\u001b[39m, \u001b[38;5;124m'\u001b[39m\u001b[38;5;124mRamesh\u001b[39m\u001b[38;5;124m'\u001b[39m, \u001b[38;5;124m'\u001b[39m\u001b[38;5;124mRam\u001b[39m\u001b[38;5;124m'\u001b[39m, \u001b[38;5;124m'\u001b[39m\u001b[38;5;124mAD\u001b[39m\u001b[38;5;124m'\u001b[39m],\n\u001b[0;32m     21\u001b[0m         \u001b[38;5;124m'\u001b[39m\u001b[38;5;124mAge\u001b[39m\u001b[38;5;124m'\u001b[39m:[\u001b[38;5;241m20\u001b[39m, \u001b[38;5;241m21\u001b[39m, \u001b[38;5;241m19\u001b[39m,\u001b[38;5;241m24\u001b[39m]},\n\u001b[0;32m     22\u001b[0m         {\u001b[38;5;124m'\u001b[39m\u001b[38;5;124mName\u001b[39m\u001b[38;5;124m'\u001b[39m:[\u001b[38;5;124m'\u001b[39m\u001b[38;5;124mTom\u001b[39m\u001b[38;5;124m'\u001b[39m, \u001b[38;5;124m'\u001b[39m\u001b[38;5;124mnick\u001b[39m\u001b[38;5;124m'\u001b[39m, \u001b[38;5;124m'\u001b[39m\u001b[38;5;124mkrish\u001b[39m\u001b[38;5;124m'\u001b[39m, \u001b[38;5;124m'\u001b[39m\u001b[38;5;124mjack\u001b[39m\u001b[38;5;124m'\u001b[39m], \n\u001b[0;32m     23\u001b[0m         \u001b[38;5;124m'\u001b[39m\u001b[38;5;124mAge\u001b[39m\u001b[38;5;124m'\u001b[39m:[\u001b[38;5;241m20\u001b[39m, \u001b[38;5;241m21\u001b[39m, \u001b[38;5;241m19\u001b[39m,\u001b[38;5;241m24\u001b[39m]}}\n\u001b[0;32m     24\u001b[0m df \u001b[38;5;241m=\u001b[39m pd\u001b[38;5;241m.\u001b[39mDataFrame(data1)\n\u001b[0;32m     25\u001b[0m \u001b[38;5;28mprint\u001b[39m(df)\n",
      "\u001b[1;31mTypeError\u001b[0m: unhashable type: 'dict'"
     ]
    }
   ],
   "source": [
    "# data = {'Name':['Tom', 'nick', 'krish', 'jack'],\n",
    "#         'Age':[20, 21, 19]}\n",
    "# above dict data will throw error due to mismatch or array\n",
    "# --> ValueError: All arrays must be of the same length\n",
    "data = [{'Name':['Tom', 'nick', 'krish', 'jack'],\n",
    "        'Age':[20, 21, 19,24]},\n",
    "        {'Name':['Tom', 'nick', 'krish', 'jack'],\n",
    "        'Age':[20, 21, 19,24]},\n",
    "        {'Name':['Ashish', 'Piyush', 'AD', 'PD'],\n",
    "        'Age':[20, 21, 19,24]},\n",
    "        {'Namee':['Tom', 'nick', 'krish', 'jack'], #dataframe will insert NaN when any key is missing from dict of list\n",
    "        'Ageee':[20, 21, 19,24]}]\n",
    "df = pd.DataFrame(data)\n",
    "print(df)\n",
    "print('________________________________________________________________')\n",
    "data1 = {{'Name':['Tom', 'nick', 'krish', 'jack'],\n",
    "        'Age':[20, 21, 19,24]},\n",
    "        {'Name':['Tom', 'nick', 'krish', 'jack'],\n",
    "        'Age':[20, 21, 19,24]},\n",
    "        {'Name':['Ashish', 'Ramesh', 'Ram', 'AD'],\n",
    "        'Age':[20, 21, 19,24]},\n",
    "        {'Name':['Tom', 'nick', 'krish', 'jack'], \n",
    "        'Age':[20, 21, 19,24]}}\n",
    "df = pd.DataFrame(data1)\n",
    "print(df)"
   ]
  },
  {
   "cell_type": "markdown",
   "metadata": {},
   "source": [
    "## Reading a CSV File"
   ]
  },
  {
   "cell_type": "code",
   "execution_count": 7,
   "metadata": {},
   "outputs": [
    {
     "name": "stdout",
     "output_type": "stream",
     "text": [
      "Index(['App', 'Category', 'Rating', 'Reviews', 'Size', 'Installs', 'Type',\n",
      "       'Price', 'Content Rating', 'Genres', 'Last Updated', 'Current Ver',\n",
      "       'Android Ver'],\n",
      "      dtype='object')\n",
      "______________________________________________________________________________________________\n",
      "0       Photo Editor & Candy Camera & Grid & ScrapBook\n",
      "1                                  Coloring book moana\n",
      "2    U Launcher Lite – FREE Live Cool Themes, Hide ...\n",
      "3                                Sketch - Draw & Paint\n",
      "4                Pixel Draw - Number Art Coloring Book\n",
      "5                           Paper flowers instructions\n",
      "6              Smoke Effect Photo Maker - Smoke Editor\n",
      "7                                     Infinite Painter\n",
      "8                                 Garden Coloring Book\n",
      "9                        Kids Paint Free - Drawing Fun\n",
      "Name: App, dtype: object\n",
      "length of top 10 data frame --> 10\n",
      "______________________________________________________________________________________________\n",
      "10841\n"
     ]
    }
   ],
   "source": [
    "\n",
    "#csv_data = pd.read_csv(r'C:\\Users\\ashpi\\DataEngMain\\projects\\basics\\rawdata\\csv\\googleplaystore.csv')\n",
    "\n",
    "#above is full path read , below is relative path\n",
    "csv_data = pd.read_csv('rawdata\\csv\\googleplaystore.csv')\n",
    "## get top 5 data\n",
    "top_10 = csv_data.head(10)\n",
    "\n",
    "print(csv_data.columns)\n",
    "print('______________________________________________________________________________________________')\n",
    "\n",
    "# to get any column data specify the index name\n",
    "print(top_10['App'])\n",
    "print('length of top 10 data frame -->', len(top_10['App']))\n",
    "print('______________________________________________________________________________________________')\n",
    "print(len(csv_data['Rating']))"
   ]
  },
  {
   "cell_type": "code",
   "execution_count": 8,
   "metadata": {},
   "outputs": [
    {
     "name": "stdout",
     "output_type": "stream",
     "text": [
      "to check total field if having --> App                  0\n",
      "Category             0\n",
      "Rating            1474\n",
      "Reviews              0\n",
      "Size                 0\n",
      "Installs             0\n",
      "Type                 1\n",
      "Price                0\n",
      "Content Rating       1\n",
      "Genres               0\n",
      "Last Updated         0\n",
      "Current Ver          8\n",
      "Android Ver          3\n",
      "dtype: int64\n",
      "to check any particular column --> 8\n",
      "ART_AND_DESIGN\n",
      "AUTO_AND_VEHICLES\n",
      "BEAUTY\n",
      "BOOKS_AND_REFERENCE\n",
      "BUSINESS\n",
      "COMICS\n",
      "COMMUNICATION\n",
      "DATING\n",
      "EDUCATION\n",
      "ENTERTAINMENT\n",
      "EVENTS\n",
      "FINANCE\n",
      "FOOD_AND_DRINK\n",
      "HEALTH_AND_FITNESS\n",
      "HOUSE_AND_HOME\n",
      "LIBRARIES_AND_DEMO\n",
      "LIFESTYLE\n",
      "GAME\n",
      "FAMILY\n",
      "MEDICAL\n",
      "SOCIAL\n",
      "SHOPPING\n",
      "PHOTOGRAPHY\n",
      "SPORTS\n",
      "TRAVEL_AND_LOCAL\n",
      "TOOLS\n",
      "PERSONALIZATION\n",
      "PRODUCTIVITY\n",
      "PARENTING\n",
      "WEATHER\n",
      "VIDEO_PLAYERS\n",
      "NEWS_AND_MAGAZINES\n",
      "MAPS_AND_NAVIGATION\n",
      "1.9\n"
     ]
    }
   ],
   "source": [
    "print('to check total field if having -->', csv_data.isnull().sum())\n",
    "\n",
    "# to check if column 'current Ver' has any null values or not \n",
    "print('to check any particular column -->',csv_data['Current Ver'].isnull().sum())\n",
    "\n",
    "# to check if any duplicates is there in any column, multiple columns can also be given\n",
    "csv_data['App'].duplicated()\n",
    "\n",
    "# to get unique values from a column\n",
    "type(csv_data['Category'].unique())\n",
    "for i in csv_data['Category'].unique():\n",
    "    print(i)"
   ]
  },
  {
   "cell_type": "code",
   "execution_count": 9,
   "metadata": {},
   "outputs": [
    {
     "name": "stdout",
     "output_type": "stream",
     "text": [
      "App               0\n",
      "Category          0\n",
      "Rating            0\n",
      "Reviews           0\n",
      "Size              0\n",
      "Installs          0\n",
      "Type              1\n",
      "Price             0\n",
      "Content Rating    1\n",
      "Genres            0\n",
      "Last Updated      0\n",
      "Current Ver       8\n",
      "Android Ver       3\n",
      "dtype: int64\n",
      "_____________________________________________________________________________________________________\n",
      "count      10841\n",
      "unique        34\n",
      "top       FAMILY\n",
      "freq        1972\n",
      "Name: Category, dtype: object\n",
      "1972\n",
      "1972\n",
      "______________occurnace of each value in a column_______________\n",
      "ART_AND_DESIGN : 65\n",
      "AUTO_AND_VEHICLES : 85\n",
      "BEAUTY : 53\n",
      "BOOKS_AND_REFERENCE : 231\n",
      "BUSINESS : 460\n",
      "COMICS : 60\n",
      "COMMUNICATION : 387\n",
      "DATING : 234\n",
      "EDUCATION : 156\n",
      "ENTERTAINMENT : 149\n",
      "EVENTS : 64\n",
      "FINANCE : 366\n",
      "FOOD_AND_DRINK : 127\n",
      "HEALTH_AND_FITNESS : 341\n",
      "HOUSE_AND_HOME : 88\n",
      "LIBRARIES_AND_DEMO : 85\n",
      "LIFESTYLE : 382\n",
      "GAME : 1144\n",
      "FAMILY : 1972\n",
      "MEDICAL : 463\n",
      "SOCIAL : 295\n",
      "SHOPPING : 260\n",
      "PHOTOGRAPHY : 335\n",
      "SPORTS : 384\n",
      "TRAVEL_AND_LOCAL : 258\n",
      "TOOLS : 843\n",
      "PERSONALIZATION : 392\n",
      "PRODUCTIVITY : 424\n",
      "PARENTING : 60\n",
      "WEATHER : 82\n",
      "VIDEO_PLAYERS : 175\n",
      "NEWS_AND_MAGAZINES : 283\n",
      "MAPS_AND_NAVIGATION : 137\n",
      "1.9 : 1\n"
     ]
    }
   ],
   "source": [
    "# dropping rows from dataframe which having NaN\n",
    "csv_data.dropna()\n",
    "\n",
    "# to fill values having NaN with some default value , since we can not remove whole data if a single column\n",
    "# entry is null\n",
    "\n",
    "fillna_csv_data = csv_data.fillna(4.5)\n",
    "fillna_csv_data.isnull().sum()  #<-- sum of nan  values by each column\n",
    "# we should always fill data based on column names , since every column has some different value\n",
    "# so fill data based on column values\n",
    "fill_rating = csv_data.fillna({'Rating': 4.5})\n",
    "## above command only fills rating column , to add more columns we can add multiple dict column value pairs\n",
    "print(fill_rating.isnull().sum())\n",
    "\n",
    "## describe tells us about column details\n",
    "print('_____________________________________________________________________________________________________')\n",
    "print(csv_data['Category'].describe())\n",
    "\n",
    "#Counting occurance of a value in table\n",
    "print(csv_data['Category'].value_counts().get('FAMILY', 0))\n",
    "\n",
    "print((csv_data['Category'] == 'FAMILY').sum())\n",
    "\n",
    "print('______________occurnace of each value in a column_______________')\n",
    "for cat in csv_data['Category'].unique():\n",
    "    print(cat , \":\", csv_data['Category'].value_counts().get(cat, 0))"
   ]
  },
  {
   "cell_type": "code",
   "execution_count": 10,
   "metadata": {},
   "outputs": [
    {
     "data": {
      "text/html": [
       "<div>\n",
       "<style scoped>\n",
       "    .dataframe tbody tr th:only-of-type {\n",
       "        vertical-align: middle;\n",
       "    }\n",
       "\n",
       "    .dataframe tbody tr th {\n",
       "        vertical-align: top;\n",
       "    }\n",
       "\n",
       "    .dataframe thead th {\n",
       "        text-align: right;\n",
       "    }\n",
       "</style>\n",
       "<table border=\"1\" class=\"dataframe\">\n",
       "  <thead>\n",
       "    <tr style=\"text-align: right;\">\n",
       "      <th></th>\n",
       "      <th>App</th>\n",
       "      <th>Category</th>\n",
       "      <th>Rating</th>\n",
       "      <th>Reviews</th>\n",
       "      <th>Size</th>\n",
       "      <th>Installs</th>\n",
       "      <th>Type</th>\n",
       "      <th>Price</th>\n",
       "      <th>Content Rating</th>\n",
       "      <th>Genres</th>\n",
       "      <th>Last Updated</th>\n",
       "      <th>Current Ver</th>\n",
       "      <th>Android Ver</th>\n",
       "    </tr>\n",
       "  </thead>\n",
       "  <tbody>\n",
       "    <tr>\n",
       "      <th>10836</th>\n",
       "      <td>Sya9a Maroc - FR</td>\n",
       "      <td>FAMILY</td>\n",
       "      <td>4.5</td>\n",
       "      <td>38</td>\n",
       "      <td>53M</td>\n",
       "      <td>5,000+</td>\n",
       "      <td>Free</td>\n",
       "      <td>0</td>\n",
       "      <td>Everyone</td>\n",
       "      <td>Education</td>\n",
       "      <td>July 25, 2017</td>\n",
       "      <td>1.48</td>\n",
       "      <td>4.1 and up</td>\n",
       "    </tr>\n",
       "    <tr>\n",
       "      <th>10837</th>\n",
       "      <td>Fr. Mike Schmitz Audio Teachings</td>\n",
       "      <td>FAMILY</td>\n",
       "      <td>5.0</td>\n",
       "      <td>4</td>\n",
       "      <td>3.6M</td>\n",
       "      <td>100+</td>\n",
       "      <td>Free</td>\n",
       "      <td>0</td>\n",
       "      <td>Everyone</td>\n",
       "      <td>Education</td>\n",
       "      <td>July 6, 2018</td>\n",
       "      <td>1.0</td>\n",
       "      <td>4.1 and up</td>\n",
       "    </tr>\n",
       "    <tr>\n",
       "      <th>10838</th>\n",
       "      <td>Parkinson Exercices FR</td>\n",
       "      <td>MEDICAL</td>\n",
       "      <td>NaN</td>\n",
       "      <td>3</td>\n",
       "      <td>9.5M</td>\n",
       "      <td>1,000+</td>\n",
       "      <td>Free</td>\n",
       "      <td>0</td>\n",
       "      <td>Everyone</td>\n",
       "      <td>Medical</td>\n",
       "      <td>January 20, 2017</td>\n",
       "      <td>1.0</td>\n",
       "      <td>2.2 and up</td>\n",
       "    </tr>\n",
       "    <tr>\n",
       "      <th>10839</th>\n",
       "      <td>The SCP Foundation DB fr nn5n</td>\n",
       "      <td>BOOKS_AND_REFERENCE</td>\n",
       "      <td>4.5</td>\n",
       "      <td>114</td>\n",
       "      <td>Varies with device</td>\n",
       "      <td>1,000+</td>\n",
       "      <td>Free</td>\n",
       "      <td>0</td>\n",
       "      <td>Mature 17+</td>\n",
       "      <td>Books &amp; Reference</td>\n",
       "      <td>January 19, 2015</td>\n",
       "      <td>Varies with device</td>\n",
       "      <td>Varies with device</td>\n",
       "    </tr>\n",
       "    <tr>\n",
       "      <th>10840</th>\n",
       "      <td>iHoroscope - 2018 Daily Horoscope &amp; Astrology</td>\n",
       "      <td>LIFESTYLE</td>\n",
       "      <td>4.5</td>\n",
       "      <td>398307</td>\n",
       "      <td>19M</td>\n",
       "      <td>10,000,000+</td>\n",
       "      <td>Free</td>\n",
       "      <td>0</td>\n",
       "      <td>Everyone</td>\n",
       "      <td>Lifestyle</td>\n",
       "      <td>July 25, 2018</td>\n",
       "      <td>Varies with device</td>\n",
       "      <td>Varies with device</td>\n",
       "    </tr>\n",
       "  </tbody>\n",
       "</table>\n",
       "</div>"
      ],
      "text/plain": [
       "                                                 App             Category  \\\n",
       "10836                               Sya9a Maroc - FR               FAMILY   \n",
       "10837               Fr. Mike Schmitz Audio Teachings               FAMILY   \n",
       "10838                         Parkinson Exercices FR              MEDICAL   \n",
       "10839                  The SCP Foundation DB fr nn5n  BOOKS_AND_REFERENCE   \n",
       "10840  iHoroscope - 2018 Daily Horoscope & Astrology            LIFESTYLE   \n",
       "\n",
       "       Rating Reviews                Size     Installs  Type Price  \\\n",
       "10836     4.5      38                 53M       5,000+  Free     0   \n",
       "10837     5.0       4                3.6M         100+  Free     0   \n",
       "10838     NaN       3                9.5M       1,000+  Free     0   \n",
       "10839     4.5     114  Varies with device       1,000+  Free     0   \n",
       "10840     4.5  398307                 19M  10,000,000+  Free     0   \n",
       "\n",
       "      Content Rating             Genres      Last Updated         Current Ver  \\\n",
       "10836       Everyone          Education     July 25, 2017                1.48   \n",
       "10837       Everyone          Education      July 6, 2018                 1.0   \n",
       "10838       Everyone            Medical  January 20, 2017                 1.0   \n",
       "10839     Mature 17+  Books & Reference  January 19, 2015  Varies with device   \n",
       "10840       Everyone          Lifestyle     July 25, 2018  Varies with device   \n",
       "\n",
       "              Android Ver  \n",
       "10836          4.1 and up  \n",
       "10837          4.1 and up  \n",
       "10838          2.2 and up  \n",
       "10839  Varies with device  \n",
       "10840  Varies with device  "
      ]
     },
     "execution_count": 10,
     "metadata": {},
     "output_type": "execute_result"
    }
   ],
   "source": [
    "csv_data.tail(5)"
   ]
  },
  {
   "cell_type": "code",
   "execution_count": 11,
   "metadata": {},
   "outputs": [
    {
     "data": {
      "text/html": [
       "<div>\n",
       "<style scoped>\n",
       "    .dataframe tbody tr th:only-of-type {\n",
       "        vertical-align: middle;\n",
       "    }\n",
       "\n",
       "    .dataframe tbody tr th {\n",
       "        vertical-align: top;\n",
       "    }\n",
       "\n",
       "    .dataframe thead th {\n",
       "        text-align: right;\n",
       "    }\n",
       "</style>\n",
       "<table border=\"1\" class=\"dataframe\">\n",
       "  <thead>\n",
       "    <tr style=\"text-align: right;\">\n",
       "      <th></th>\n",
       "      <th>0</th>\n",
       "      <th>1</th>\n",
       "      <th>2</th>\n",
       "    </tr>\n",
       "  </thead>\n",
       "  <tbody>\n",
       "    <tr>\n",
       "      <th>0</th>\n",
       "      <td>1</td>\n",
       "      <td>2</td>\n",
       "      <td>3</td>\n",
       "    </tr>\n",
       "    <tr>\n",
       "      <th>1</th>\n",
       "      <td>1</td>\n",
       "      <td>2</td>\n",
       "      <td>3</td>\n",
       "    </tr>\n",
       "    <tr>\n",
       "      <th>2</th>\n",
       "      <td>a</td>\n",
       "      <td>b</td>\n",
       "      <td>c</td>\n",
       "    </tr>\n",
       "  </tbody>\n",
       "</table>\n",
       "</div>"
      ],
      "text/plain": [
       "   0  1  2\n",
       "0  1  2  3\n",
       "1  1  2  3\n",
       "2  a  b  c"
      ]
     },
     "execution_count": 11,
     "metadata": {},
     "output_type": "execute_result"
    }
   ],
   "source": [
    "d1 = pd.DataFrame([[1,2,3], [1,2,3], ['a','b','c']])\n",
    "d1"
   ]
  },
  {
   "cell_type": "markdown",
   "metadata": {},
   "source": [
    "## filling values with sklearn imputer"
   ]
  },
  {
   "cell_type": "code",
   "execution_count": 13,
   "metadata": {},
   "outputs": [
    {
     "name": "stdout",
     "output_type": "stream",
     "text": [
      "   Country   Age   Salary Purchased\n",
      "0   France  44.0  72000.0       Yes\n",
      "1    Spain  27.0  48000.0       Yes\n",
      "2      NaN  30.0  54000.0       NaN\n",
      "3    Spain  38.0  61000.0        No\n",
      "4  Germany  40.0      NaN       Yes\n",
      "5   France  35.0  58000.0       Yes\n",
      "6    Spain   NaN  52000.0        No\n",
      "7   France  48.0  79000.0       Yes\n",
      "8  Germany  50.0  83000.0        No\n",
      "9   France  37.0  67000.0       Yes\n"
     ]
    }
   ],
   "source": [
    "country_csv = pd.read_csv('rawdata\\csv\\country.csv')\n",
    "print(country_csv)"
   ]
  },
  {
   "cell_type": "code",
   "execution_count": 14,
   "metadata": {},
   "outputs": [
    {
     "data": {
      "text/plain": [
       "Country      1\n",
       "Age          1\n",
       "Salary       1\n",
       "Purchased    1\n",
       "dtype: int64"
      ]
     },
     "execution_count": 14,
     "metadata": {},
     "output_type": "execute_result"
    }
   ],
   "source": [
    "#check isnull from above data set\n",
    "country_csv.isnull().sum()"
   ]
  },
  {
   "cell_type": "code",
   "execution_count": 15,
   "metadata": {},
   "outputs": [
    {
     "data": {
      "text/html": [
       "<div>\n",
       "<style scoped>\n",
       "    .dataframe tbody tr th:only-of-type {\n",
       "        vertical-align: middle;\n",
       "    }\n",
       "\n",
       "    .dataframe tbody tr th {\n",
       "        vertical-align: top;\n",
       "    }\n",
       "\n",
       "    .dataframe thead th {\n",
       "        text-align: right;\n",
       "    }\n",
       "</style>\n",
       "<table border=\"1\" class=\"dataframe\">\n",
       "  <thead>\n",
       "    <tr style=\"text-align: right;\">\n",
       "      <th></th>\n",
       "      <th>Age</th>\n",
       "    </tr>\n",
       "  </thead>\n",
       "  <tbody>\n",
       "    <tr>\n",
       "      <th>0</th>\n",
       "      <td>44.0</td>\n",
       "    </tr>\n",
       "    <tr>\n",
       "      <th>1</th>\n",
       "      <td>27.0</td>\n",
       "    </tr>\n",
       "    <tr>\n",
       "      <th>2</th>\n",
       "      <td>30.0</td>\n",
       "    </tr>\n",
       "    <tr>\n",
       "      <th>3</th>\n",
       "      <td>38.0</td>\n",
       "    </tr>\n",
       "    <tr>\n",
       "      <th>4</th>\n",
       "      <td>40.0</td>\n",
       "    </tr>\n",
       "    <tr>\n",
       "      <th>5</th>\n",
       "      <td>35.0</td>\n",
       "    </tr>\n",
       "    <tr>\n",
       "      <th>6</th>\n",
       "      <td>NaN</td>\n",
       "    </tr>\n",
       "    <tr>\n",
       "      <th>7</th>\n",
       "      <td>48.0</td>\n",
       "    </tr>\n",
       "    <tr>\n",
       "      <th>8</th>\n",
       "      <td>50.0</td>\n",
       "    </tr>\n",
       "    <tr>\n",
       "      <th>9</th>\n",
       "      <td>37.0</td>\n",
       "    </tr>\n",
       "  </tbody>\n",
       "</table>\n",
       "</div>"
      ],
      "text/plain": [
       "    Age\n",
       "0  44.0\n",
       "1  27.0\n",
       "2  30.0\n",
       "3  38.0\n",
       "4  40.0\n",
       "5  35.0\n",
       "6   NaN\n",
       "7  48.0\n",
       "8  50.0\n",
       "9  37.0"
      ]
     },
     "execution_count": 15,
     "metadata": {},
     "output_type": "execute_result"
    }
   ],
   "source": [
    "#iloc slicing - very similar to slicing \n",
    "# df.iloc[start_row : end_row, start_col : end:col]\n",
    "country_csv.iloc[:,1:2]"
   ]
  },
  {
   "cell_type": "code",
   "execution_count": 16,
   "metadata": {},
   "outputs": [
    {
     "data": {
      "text/html": [
       "<div>\n",
       "<style scoped>\n",
       "    .dataframe tbody tr th:only-of-type {\n",
       "        vertical-align: middle;\n",
       "    }\n",
       "\n",
       "    .dataframe tbody tr th {\n",
       "        vertical-align: top;\n",
       "    }\n",
       "\n",
       "    .dataframe thead th {\n",
       "        text-align: right;\n",
       "    }\n",
       "</style>\n",
       "<table border=\"1\" class=\"dataframe\">\n",
       "  <thead>\n",
       "    <tr style=\"text-align: right;\">\n",
       "      <th></th>\n",
       "      <th>Country</th>\n",
       "      <th>Age</th>\n",
       "      <th>Salary</th>\n",
       "      <th>Purchased</th>\n",
       "    </tr>\n",
       "  </thead>\n",
       "  <tbody>\n",
       "    <tr>\n",
       "      <th>0</th>\n",
       "      <td>France</td>\n",
       "      <td>44.000000</td>\n",
       "      <td>72000.000000</td>\n",
       "      <td>Yes</td>\n",
       "    </tr>\n",
       "    <tr>\n",
       "      <th>1</th>\n",
       "      <td>Spain</td>\n",
       "      <td>27.000000</td>\n",
       "      <td>48000.000000</td>\n",
       "      <td>Yes</td>\n",
       "    </tr>\n",
       "    <tr>\n",
       "      <th>2</th>\n",
       "      <td>France</td>\n",
       "      <td>30.000000</td>\n",
       "      <td>54000.000000</td>\n",
       "      <td>Yes</td>\n",
       "    </tr>\n",
       "    <tr>\n",
       "      <th>3</th>\n",
       "      <td>Spain</td>\n",
       "      <td>38.000000</td>\n",
       "      <td>61000.000000</td>\n",
       "      <td>No</td>\n",
       "    </tr>\n",
       "    <tr>\n",
       "      <th>4</th>\n",
       "      <td>Germany</td>\n",
       "      <td>40.000000</td>\n",
       "      <td>63777.777778</td>\n",
       "      <td>Yes</td>\n",
       "    </tr>\n",
       "    <tr>\n",
       "      <th>5</th>\n",
       "      <td>France</td>\n",
       "      <td>35.000000</td>\n",
       "      <td>58000.000000</td>\n",
       "      <td>Yes</td>\n",
       "    </tr>\n",
       "    <tr>\n",
       "      <th>6</th>\n",
       "      <td>Spain</td>\n",
       "      <td>38.777778</td>\n",
       "      <td>52000.000000</td>\n",
       "      <td>No</td>\n",
       "    </tr>\n",
       "    <tr>\n",
       "      <th>7</th>\n",
       "      <td>France</td>\n",
       "      <td>48.000000</td>\n",
       "      <td>79000.000000</td>\n",
       "      <td>Yes</td>\n",
       "    </tr>\n",
       "    <tr>\n",
       "      <th>8</th>\n",
       "      <td>Germany</td>\n",
       "      <td>50.000000</td>\n",
       "      <td>83000.000000</td>\n",
       "      <td>No</td>\n",
       "    </tr>\n",
       "    <tr>\n",
       "      <th>9</th>\n",
       "      <td>France</td>\n",
       "      <td>37.000000</td>\n",
       "      <td>67000.000000</td>\n",
       "      <td>Yes</td>\n",
       "    </tr>\n",
       "  </tbody>\n",
       "</table>\n",
       "</div>"
      ],
      "text/plain": [
       "   Country        Age        Salary Purchased\n",
       "0   France  44.000000  72000.000000       Yes\n",
       "1    Spain  27.000000  48000.000000       Yes\n",
       "2   France  30.000000  54000.000000       Yes\n",
       "3    Spain  38.000000  61000.000000        No\n",
       "4  Germany  40.000000  63777.777778       Yes\n",
       "5   France  35.000000  58000.000000       Yes\n",
       "6    Spain  38.777778  52000.000000        No\n",
       "7   France  48.000000  79000.000000       Yes\n",
       "8  Germany  50.000000  83000.000000        No\n",
       "9   France  37.000000  67000.000000       Yes"
      ]
     },
     "execution_count": 16,
     "metadata": {},
     "output_type": "execute_result"
    }
   ],
   "source": [
    "# updating age column from above date frame\n",
    "\n",
    "imp_mean = SimpleImputer(missing_values= np.nan, strategy= 'mean')\n",
    "imp_mean.fit(country_csv.iloc[:,1:2])\n",
    "\n",
    "#receiveing transformed values\n",
    "country_csv.iloc[:,1:2] = imp_mean.transform(country_csv.iloc[:,1:2])\n",
    "\n",
    "# now updated salary column with same mean strategy \n",
    "imp_mean.fit(country_csv.iloc[:,2:3])\n",
    "country_csv.iloc[:,2:3] = imp_mean.transform(country_csv.iloc[:,2:3])\n",
    "\n",
    "# updating nan in categorical data using most frequent\n",
    "imp_mostfreq = SimpleImputer(missing_values= np.nan, strategy='most_frequent')\n",
    "country_csv.iloc[:,:1] = imp_mostfreq.fit_transform(country_csv.iloc[:,:1])\n",
    "# same strategy for purchased\n",
    "country_csv.iloc[:,3:4] = imp_mostfreq.fit_transform(country_csv.iloc[:,3:4])\n",
    "country_csv"
   ]
  },
  {
   "cell_type": "code",
   "execution_count": 17,
   "metadata": {},
   "outputs": [
    {
     "data": {
      "text/plain": [
       "Country      0\n",
       "Age          0\n",
       "Salary       0\n",
       "Purchased    0\n",
       "dtype: int64"
      ]
     },
     "execution_count": 17,
     "metadata": {},
     "output_type": "execute_result"
    }
   ],
   "source": [
    "country_csv.isnull().sum()"
   ]
  },
  {
   "cell_type": "code",
   "execution_count": 18,
   "metadata": {},
   "outputs": [
    {
     "data": {
      "text/plain": [
       "App                  0\n",
       "Category             0\n",
       "Rating            1474\n",
       "Reviews              0\n",
       "Size                 0\n",
       "Installs             0\n",
       "Type                 1\n",
       "Price                0\n",
       "Content Rating       1\n",
       "Genres               0\n",
       "Last Updated         0\n",
       "Current Ver          8\n",
       "Android Ver          3\n",
       "dtype: int64"
      ]
     },
     "execution_count": 18,
     "metadata": {},
     "output_type": "execute_result"
    }
   ],
   "source": [
    "csv_data.isnull().sum()"
   ]
  },
  {
   "cell_type": "code",
   "execution_count": 19,
   "metadata": {},
   "outputs": [],
   "source": [
    "csv_data.iloc[:, 2:3] = imp_mean.fit_transform(csv_data.iloc[:, 2:3])"
   ]
  },
  {
   "cell_type": "code",
   "execution_count": 20,
   "metadata": {},
   "outputs": [
    {
     "name": "stdout",
     "output_type": "stream",
     "text": [
      "App               0\n",
      "Category          0\n",
      "Rating            0\n",
      "Reviews           0\n",
      "Size              0\n",
      "Installs          0\n",
      "Type              0\n",
      "Price             0\n",
      "Content Rating    0\n",
      "Genres            0\n",
      "Last Updated      0\n",
      "Current Ver       0\n",
      "Android Ver       0\n",
      "dtype: int64\n"
     ]
    }
   ],
   "source": [
    "# after rating is converted with nan to mean \n",
    "# lets drop some rows these are not much weightage so we can drop\n",
    "csv_data = csv_data.dropna()   #<-- drops nan rows and updates the dataframe \n",
    "\n",
    "print(csv_data.isnull().sum())"
   ]
  },
  {
   "cell_type": "code",
   "execution_count": 21,
   "metadata": {},
   "outputs": [
    {
     "name": "stdout",
     "output_type": "stream",
     "text": [
      "                               App            Category    Rating Reviews  \\\n",
      "7472                     CK SKILLZ  HEALTH_AND_FITNESS  4.193338       0   \n",
      "5866  iMediaShare – Photos & Music       VIDEO_PLAYERS  4.200000  104551   \n",
      "7482                    Tic Tac CK              FAMILY  5.000000       3   \n",
      "1816                Merge Dragons!                GAME  4.500000  214777   \n",
      "7063                TFO BZ Lessons              FAMILY  4.400000      75   \n",
      "\n",
      "      Size     Installs  Type Price Content Rating                   Genres  \\\n",
      "7472  8.6M          50+  Free     0       Everyone         Health & Fitness   \n",
      "5866   18M  10,000,000+  Free     0       Everyone  Video Players & Editors   \n",
      "7482   13M          10+  Free     0       Everyone                   Puzzle   \n",
      "1816   91M   5,000,000+  Free     0       Everyone                   Puzzle   \n",
      "7063  3.7M         500+  Free     0       Everyone                Education   \n",
      "\n",
      "           Last Updated Current Ver   Android Ver  \n",
      "7472       May 15, 2018       1.1.7    4.1 and up  \n",
      "5866  December 19, 2017      1.0.10    2.2 and up  \n",
      "7482       July 3, 2018         1.0  4.0.3 and up  \n",
      "1816      July 30, 2018       3.6.0    4.1 and up  \n",
      "7063     April 28, 2017       2.1.1    4.1 and up  \n",
      "______________________________df.info() gives column types  ___________________________________________\n",
      "<class 'pandas.core.frame.DataFrame'>\n",
      "Index: 10829 entries, 0 to 10840\n",
      "Data columns (total 13 columns):\n",
      " #   Column          Non-Null Count  Dtype  \n",
      "---  ------          --------------  -----  \n",
      " 0   App             10829 non-null  object \n",
      " 1   Category        10829 non-null  object \n",
      " 2   Rating          10829 non-null  float64\n",
      " 3   Reviews         10829 non-null  object \n",
      " 4   Size            10829 non-null  object \n",
      " 5   Installs        10829 non-null  object \n",
      " 6   Type            10829 non-null  object \n",
      " 7   Price           10829 non-null  object \n",
      " 8   Content Rating  10829 non-null  object \n",
      " 9   Genres          10829 non-null  object \n",
      " 10  Last Updated    10829 non-null  object \n",
      " 11  Current Ver     10829 non-null  object \n",
      " 12  Android Ver     10829 non-null  object \n",
      "dtypes: float64(1), object(12)\n",
      "memory usage: 1.2+ MB\n",
      "None\n",
      "<class 'pandas.core.frame.DataFrame'>\n",
      "RangeIndex: 10 entries, 0 to 9\n",
      "Data columns (total 4 columns):\n",
      " #   Column     Non-Null Count  Dtype  \n",
      "---  ------     --------------  -----  \n",
      " 0   Country    10 non-null     object \n",
      " 1   Age        10 non-null     float64\n",
      " 2   Salary     10 non-null     float64\n",
      " 3   Purchased  10 non-null     object \n",
      "dtypes: float64(2), object(2)\n",
      "memory usage: 448.0+ bytes\n",
      "None\n",
      "_______________shape gives no of rows and columns __________________________\n",
      "no of rows and cols in country (10, 4)\n",
      "no of rows and cols in csv data dataframe  (10829, 13)\n",
      "____________________df.describe()___________________________________________\n",
      "             Age        Salary\n",
      "count  10.000000     10.000000\n",
      "mean   38.777778  63777.777778\n",
      "std     7.253777  11564.099406\n",
      "min    27.000000  48000.000000\n",
      "25%    35.500000  55000.000000\n",
      "50%    38.388889  62388.888889\n",
      "75%    43.000000  70750.000000\n",
      "max    50.000000  83000.000000\n",
      "             Rating\n",
      "count  10829.000000\n",
      "mean       4.192041\n",
      "std        0.479038\n",
      "min        1.000000\n",
      "25%        4.100000\n",
      "50%        4.200000\n",
      "75%        4.500000\n",
      "max        5.000000\n"
     ]
    }
   ],
   "source": [
    "# df.sample() give random samples from whole df, we shoud use instead of df.head(), df.tail() gives 5 rows\n",
    "print(csv_data.sample(5))\n",
    "print('______________________________df.info() gives column types  ___________________________________________')\n",
    "print(csv_data.info())\n",
    "print(country_csv.info())\n",
    "print(\"_______________shape gives no of rows and columns __________________________\")\n",
    "print('no of rows and cols in country', country_csv.shape)\n",
    "print('no of rows and cols in csv data dataframe ', csv_data.shape)\n",
    "print('____________________df.describe()___________________________________________')\n",
    "# Description: Computes summary statistics (count, mean, std, min, 25%, 50%, 75%, max) for numerical columns in DataFrame df.\n",
    "print(country_csv.describe())\n",
    "print(csv_data.describe())"
   ]
  },
  {
   "cell_type": "code",
   "execution_count": null,
   "metadata": {},
   "outputs": [],
   "source": []
  }
 ],
 "metadata": {
  "kernelspec": {
   "display_name": "pr-venv",
   "language": "python",
   "name": "python3"
  },
  "language_info": {
   "codemirror_mode": {
    "name": "ipython",
    "version": 3
   },
   "file_extension": ".py",
   "mimetype": "text/x-python",
   "name": "python",
   "nbconvert_exporter": "python",
   "pygments_lexer": "ipython3",
   "version": "3.9.11"
  }
 },
 "nbformat": 4,
 "nbformat_minor": 2
}
