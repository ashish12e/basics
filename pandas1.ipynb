{
 "cells": [
  {
   "cell_type": "code",
   "execution_count": 1,
   "metadata": {},
   "outputs": [],
   "source": [
    "import pandas"
   ]
  },
  {
   "cell_type": "code",
   "execution_count": 2,
   "metadata": {},
   "outputs": [
    {
     "name": "stdout",
     "output_type": "stream",
     "text": [
      "Requirement already satisfied: pandas in c:\\users\\ashpi\\dataengmain\\projects\\basics\\pr-venv\\lib\\site-packages (2.2.3)\n",
      "Requirement already satisfied: numpy>=1.22.4 in c:\\users\\ashpi\\dataengmain\\projects\\basics\\pr-venv\\lib\\site-packages (from pandas) (2.0.2)\n",
      "Requirement already satisfied: tzdata>=2022.7 in c:\\users\\ashpi\\dataengmain\\projects\\basics\\pr-venv\\lib\\site-packages (from pandas) (2024.2)\n",
      "Requirement already satisfied: pytz>=2020.1 in c:\\users\\ashpi\\dataengmain\\projects\\basics\\pr-venv\\lib\\site-packages (from pandas) (2024.2)\n",
      "Requirement already satisfied: python-dateutil>=2.8.2 in c:\\users\\ashpi\\dataengmain\\projects\\basics\\pr-venv\\lib\\site-packages (from pandas) (2.9.0.post0)\n",
      "Requirement already satisfied: six>=1.5 in c:\\users\\ashpi\\dataengmain\\projects\\basics\\pr-venv\\lib\\site-packages (from python-dateutil>=2.8.2->pandas) (1.17.0)\n"
     ]
    },
    {
     "name": "stderr",
     "output_type": "stream",
     "text": [
      "WARNING: You are using pip version 22.0.4; however, version 25.0 is available.\n",
      "You should consider upgrading via the 'C:\\Users\\ashpi\\DataEngMain\\projects\\basics\\pr-venv\\Scripts\\python.exe -m pip install --upgrade pip' command.\n"
     ]
    }
   ],
   "source": [
    "! pip install pandas"
   ]
  },
  {
   "cell_type": "code",
   "execution_count": 3,
   "metadata": {},
   "outputs": [
    {
     "name": "stdout",
     "output_type": "stream",
     "text": [
      "Requirement already satisfied: scikit-learn in c:\\users\\ashpi\\dataengmain\\projects\\basics\\pr-venv\\lib\\site-packages (1.6.1)\n",
      "Requirement already satisfied: scipy>=1.6.0 in c:\\users\\ashpi\\dataengmain\\projects\\basics\\pr-venv\\lib\\site-packages (from scikit-learn) (1.13.1)\n",
      "Requirement already satisfied: joblib>=1.2.0 in c:\\users\\ashpi\\dataengmain\\projects\\basics\\pr-venv\\lib\\site-packages (from scikit-learn) (1.4.2)\n",
      "Requirement already satisfied: numpy>=1.19.5 in c:\\users\\ashpi\\dataengmain\\projects\\basics\\pr-venv\\lib\\site-packages (from scikit-learn) (2.0.2)\n",
      "Requirement already satisfied: threadpoolctl>=3.1.0 in c:\\users\\ashpi\\dataengmain\\projects\\basics\\pr-venv\\lib\\site-packages (from scikit-learn) (3.5.0)\n"
     ]
    },
    {
     "name": "stderr",
     "output_type": "stream",
     "text": [
      "WARNING: You are using pip version 22.0.4; however, version 25.0 is available.\n",
      "You should consider upgrading via the 'C:\\Users\\ashpi\\DataEngMain\\projects\\basics\\pr-venv\\Scripts\\python.exe -m pip install --upgrade pip' command.\n"
     ]
    }
   ],
   "source": [
    "! pip install scikit-learn"
   ]
  },
  {
   "cell_type": "markdown",
   "metadata": {},
   "source": [
    "## imports"
   ]
  },
  {
   "cell_type": "code",
   "execution_count": 4,
   "metadata": {},
   "outputs": [],
   "source": [
    "import numpy as np\n",
    "import pandas as pd\n",
    "from sklearn.impute import SimpleImputer"
   ]
  },
  {
   "cell_type": "markdown",
   "metadata": {},
   "source": [
    "## numpy udemy"
   ]
  },
  {
   "cell_type": "code",
   "execution_count": 13,
   "metadata": {},
   "outputs": [
    {
     "name": "stdout",
     "output_type": "stream",
     "text": [
      "[1 3 5 7 9]\n",
      "[['a' 's' 'h' 'i' 's' 'h' 'k' 'u' 'm' 'a' 'r']\n",
      " ['a' 's' 'h' 'i' 's' 'h' 'k' 'u' 'm' 'a' 'r']\n",
      " ['d' 'w' 'i' 'v' 'e' 'd' 'i' 'a' 'k' 'd' '1']]\n",
      "________________________CREATE SAMPLE NP ARRAYS_______________________________________________\n",
      "[1. 1. 1. 1. 1.]\n",
      "[[1. 1. 1.]\n",
      " [1. 1. 1.]]\n"
     ]
    },
    {
     "data": {
      "text/plain": [
       "array([9, 6, 8, 8, 9], dtype=int32)"
      ]
     },
     "execution_count": 13,
     "metadata": {},
     "output_type": "execute_result"
    }
   ],
   "source": [
    "# similar to range function in normal python\n",
    "print(np.arange(1,11,2))                         #<-- one dimensional array\n",
    "lst = [i for i in 'ashishkumar']\n",
    "lst2= [i for i in 'dwivediakd1']\n",
    "\n",
    "data = np.array([lst, lst, lst2])                #<-- passing list of list in array , will give 2-d array\n",
    "print(data)                                      # two brackets\n",
    "\n",
    "print('________________________CREATE SAMPLE NP ARRAYS_______________________________________________')\n",
    "ones = np.ones((2,3))                              # takes no of rows and cols i tuple, put one argument will give \n",
    "ones_1d = np.ones(5)                               # 1d array\n",
    "print(ones_1d)\n",
    "print(ones)\n",
    "\n",
    "np.random.randint(1,10,5)            # 5 is no of elements that i want to generate randomly"
   ]
  },
  {
   "cell_type": "code",
   "execution_count": 14,
   "metadata": {},
   "outputs": [
    {
     "name": "stdout",
     "output_type": "stream",
     "text": [
      "  c10 c2 c3 c4 c5 c6 c7 c88 c9 c10 c11\n",
      "0   a  s  h  i  s  h  k   u  m   a   r\n",
      "1   a  s  h  i  s  h  k   u  m   a   r\n",
      "2   d  w  i  v  e  d  i   a  k   d   1\n"
     ]
    }
   ],
   "source": [
    "df = pd.DataFrame(data, columns=['c10', 'c2', 'c3', 'c4', 'c5', 'c6', 'c7', 'c88', 'c9', 'c10', 'c11'])\n",
    "print(df)"
   ]
  },
  {
   "cell_type": "markdown",
   "metadata": {},
   "source": [
    "The linspace() method of the NumPy library is a useful tool to generate sequences of data points. It is also used in data visualization.\n",
    "The NumPy.linspace() function returns an array of evenly spaced values within the specified interval [start, stop].\n",
    "\n",
    "It is similar to NumPy.arange() function but instead of a step, it uses a sample number. "
   ]
  },
  {
   "cell_type": "code",
   "execution_count": 15,
   "metadata": {},
   "outputs": [
    {
     "name": "stdout",
     "output_type": "stream",
     "text": [
      "[ 1.          1.31034483  1.62068966  1.93103448  2.24137931  2.55172414\n",
      "  2.86206897  3.17241379  3.48275862  3.79310345  4.10344828  4.4137931\n",
      "  4.72413793  5.03448276  5.34482759  5.65517241  5.96551724  6.27586207\n",
      "  6.5862069   6.89655172  7.20689655  7.51724138  7.82758621  8.13793103\n",
      "  8.44827586  8.75862069  9.06896552  9.37931034  9.68965517 10.        ]\n",
      "[  1.   4.   9.  16.  25.  36.  49.  64.  81. 100.]\n",
      "[[0.91965284 0.48541211 0.75444517 0.46069903 0.23185077]\n",
      " [0.28809111 0.99412392 0.59423428 0.08676406 0.92007139]\n",
      " [0.86398347 0.10343525 0.89742704 0.23270419 0.70857021]\n",
      " [0.11980928 0.38323345 0.53848251 0.53498801 0.71053123]\n",
      " [0.91567971 0.70930462 0.75605011 0.65248938 0.49811726]]\n",
      "\n",
      "\n",
      "[[-0.49371342 -1.22224322  1.14785215  0.26988539 -0.70051202]\n",
      " [-0.85691584  0.43761453 -0.64894703 -1.38143967 -2.6811911 ]\n",
      " [ 1.81358401 -0.00354719 -0.11861283  1.50093753  3.45789189]\n",
      " [-1.77625148  0.82410132  0.23419733  0.98061864  0.72586802]\n",
      " [ 0.63632947 -1.64690227 -0.18366174  0.06351597 -1.15713539]]\n",
      "\n",
      "\n",
      "4\n",
      "[87 55 17 70 26 18 41 13 16 93]\n"
     ]
    },
    {
     "data": {
      "text/plain": [
       "np.int32(56)"
      ]
     },
     "execution_count": 15,
     "metadata": {},
     "output_type": "execute_result"
    }
   ],
   "source": [
    "# start , stop, no of elements\n",
    "print(np.linspace(1,10,30))\n",
    "# during analysis we can use generated np array to do some mathematical operation\n",
    "print(np.square(np.linspace(1,10,10)))\n",
    "\n",
    "#other ways to genarate random array between 0 to 1\n",
    "print(np.random.rand(5,5))\n",
    "print('\\n')\n",
    "print(np.random.randn(5,5))\n",
    "#to get single random between low and high\n",
    "print('\\n')\n",
    "print(np.random.randint(1,5))\n",
    "\n",
    "# to get multiple nos between low and high\n",
    "rand_int_ary = np.random.randint(1,100,20)\n",
    "print(np.random.randint(1,100,10))\n",
    "# for i in rand_int_ary:\n",
    "#     print(i)\n",
    "rand_int_ary[2]"
   ]
  },
  {
   "cell_type": "code",
   "execution_count": 16,
   "metadata": {},
   "outputs": [
    {
     "name": "stdout",
     "output_type": "stream",
     "text": [
      "shape of rand_int_ary is : (20,)\n",
      "shape of data array is : (3, 11)\n",
      "max value of array is :  93 index of max value is :  3\n",
      "\n",
      "\n",
      "[60 25 56 93 11 79 90 70 74 12 28  3 18 27 12  4 71 56 71 11]\n",
      "[[60 25 56 93 11 79 90 70 74 12]\n",
      " [28  3 18 27 12  4 71 56 71 11]]\n",
      "[[60 25 56 93 11]\n",
      " [79 90 70 74 12]\n",
      " [28  3 18 27 12]\n",
      " [ 4 71 56 71 11]]\n"
     ]
    }
   ],
   "source": [
    "# to know the shape of an array use shape \n",
    "# shape is an attribute not function \n",
    "print('shape of rand_int_ary is :', rand_int_ary.shape)\n",
    "print('shape of data array is :', data.shape)\n",
    "print('max value of array is : ', rand_int_ary.max(), 'index of max value is : ',rand_int_ary.argmax())\n",
    "# reshaping of array\n",
    "# we can reshapre from 1d to 2d but rows * cols must be equal to no of all elements of array\n",
    "print('\\n')\n",
    "print(rand_int_ary)\n",
    "print(rand_int_ary.reshape(2,10))\n",
    "print(rand_int_ary.reshape(4,5))"
   ]
  },
  {
   "cell_type": "code",
   "execution_count": 9,
   "metadata": {},
   "outputs": [
    {
     "name": "stdout",
     "output_type": "stream",
     "text": [
      "     0\n",
      "0   59\n",
      "1   32\n",
      "2   47\n",
      "3   45\n",
      "4   75\n",
      "5    4\n",
      "6   26\n",
      "7   72\n",
      "8    8\n",
      "9   70\n",
      "10  38\n",
      "11  18\n",
      "12  35\n",
      "13  22\n",
      "14   9\n",
      "15  82\n",
      "16  68\n",
      "17  96\n",
      "18   9\n",
      "19  95\n",
      "\n",
      "\n",
      "    0   1   2   3   4   5   6   7  8   9\n",
      "0  59  32  47  45  75   4  26  72  8  70\n",
      "1  38  18  35  22   9  82  68  96  9  95\n",
      "\n",
      "\n",
      "    0   1   2   3   4\n",
      "0  59  32  47  45  75\n",
      "1   4  26  72   8  70\n",
      "2  38  18  35  22   9\n",
      "3  82  68  96   9  95\n",
      "\n",
      "\n",
      "   c1  c2  c3  c4  c5\n",
      "a  59  32  47  45  75\n",
      "b   4  26  72   8  70\n",
      "c  38  18  35  22   9\n",
      "d  82  68  96   9  95\n"
     ]
    }
   ],
   "source": [
    "print(pd.DataFrame(rand_int_ary))\n",
    "print('\\n')\n",
    "print(pd.DataFrame(rand_int_ary.reshape(2,10)))\n",
    "print('\\n')\n",
    "print(pd.DataFrame(rand_int_ary.reshape(4,5)))\n",
    "print('\\n')\n",
    "print(pd.DataFrame(rand_int_ary.reshape(4,5), index=['a', 'b', 'c', 'd'], columns={'c1': 'A', 'c2': 'B', 'c3': 'C', 'c4': 'D', 'c5': 'E'}))"
   ]
  },
  {
   "cell_type": "code",
   "execution_count": 17,
   "metadata": {},
   "outputs": [
    {
     "name": "stdout",
     "output_type": "stream",
     "text": [
      "                       Name               Age                     Namee  \\\n",
      "0  [Tom, nick, krish, jack]  [20, 21, 19, 24]                       NaN   \n",
      "1  [Tom, nick, krish, jack]  [20, 21, 19, 24]                       NaN   \n",
      "2  [Ashish, Piyush, AD, PD]  [20, 21, 19, 24]                       NaN   \n",
      "3                       NaN               NaN  [Tom, nick, krish, jack]   \n",
      "\n",
      "              Ageee  \n",
      "0               NaN  \n",
      "1               NaN  \n",
      "2               NaN  \n",
      "3  [20, 21, 19, 24]  \n",
      "________________________________________________________________\n"
     ]
    }
   ],
   "source": [
    "# data = {'Name':['Tom', 'nick', 'krish', 'jack'],\n",
    "#         'Age':[20, 21, 19]}\n",
    "# above dict data will throw error due to mismatch or array\n",
    "# --> ValueError: All arrays must be of the same length\n",
    "data = [{'Name':['Tom', 'nick', 'krish', 'jack'],\n",
    "        'Age':[20, 21, 19,24]},\n",
    "        {'Name':['Tom', 'nick', 'krish', 'jack'],\n",
    "        'Age':[20, 21, 19,24]},\n",
    "        {'Name':['Ashish', 'Piyush', 'AD', 'PD'],\n",
    "        'Age':[20, 21, 19,24]},\n",
    "        {'Namee':['Tom', 'nick', 'krish', 'jack'], #dataframe will insert NaN when any key is missing from dict of list\n",
    "        'Ageee':[20, 21, 19,24]}]\n",
    "df = pd.DataFrame(data)\n",
    "print(df)\n",
    "print('________________________________________________________________')\n",
    "# data1 = {{'Name':['Tom', 'nick', 'krish', 'jack'],\n",
    "#         'Age':[20, 21, 19,24]},\n",
    "#         {'Name':['Tom', 'nick', 'krish', 'jack'],\n",
    "#         'Age':[20, 21, 19,24]},\n",
    "#         {'Name':['Ashish', 'Ramesh', 'Ram', 'AD'],\n",
    "#         'Age':[20, 21, 19,24]},\n",
    "#         {'Name':['Tom', 'nick', 'krish', 'jack'], \n",
    "#         'Age':[20, 21, 19,24]}}\n",
    "# df = pd.DataFrame(data1)\n",
    "# print(df)"
   ]
  },
  {
   "cell_type": "markdown",
   "metadata": {},
   "source": [
    "## Reading a CSV File"
   ]
  },
  {
   "cell_type": "code",
   "execution_count": 19,
   "metadata": {},
   "outputs": [
    {
     "name": "stdout",
     "output_type": "stream",
     "text": [
      "Index(['App', 'Category', 'Rating', 'Reviews', 'Size', 'Installs', 'Type',\n",
      "       'Price', 'Content Rating', 'Genres', 'Last Updated', 'Current Ver',\n",
      "       'Android Ver'],\n",
      "      dtype='object')\n",
      "______________________________________________________________________________________________\n",
      "0       Photo Editor & Candy Camera & Grid & ScrapBook\n",
      "1                                  Coloring book moana\n",
      "2    U Launcher Lite – FREE Live Cool Themes, Hide ...\n",
      "3                                Sketch - Draw & Paint\n",
      "4                Pixel Draw - Number Art Coloring Book\n",
      "5                           Paper flowers instructions\n",
      "6              Smoke Effect Photo Maker - Smoke Editor\n",
      "7                                     Infinite Painter\n",
      "8                                 Garden Coloring Book\n",
      "9                        Kids Paint Free - Drawing Fun\n",
      "Name: App, dtype: object\n",
      "length of top 10 data frame --> 10\n",
      "______________________________________________________________________________________________\n",
      "10841\n"
     ]
    }
   ],
   "source": [
    "\n",
    "#csv_data = pd.read_csv(r'C:\\Users\\ashpi\\DataEngMain\\projects\\basics\\rawdata\\csv\\googleplaystore.csv')\n",
    "\n",
    "#above is full path read , below is relative path\n",
    "csv_data = pd.read_csv('rawdata\\csv\\googleplaystore.csv')\n",
    "## get top 5 data\n",
    "top_10 = csv_data.head(10)\n",
    "\n",
    "print(csv_data.columns)\n",
    "print('______________________________________________________________________________________________')\n",
    "\n",
    "# to get any column data specify the index name\n",
    "print(top_10['App'])\n",
    "print('length of top 10 data frame -->', len(top_10['App']))\n",
    "print('______________________________________________________________________________________________')\n",
    "print(len(csv_data['Rating']))"
   ]
  },
  {
   "cell_type": "code",
   "execution_count": 20,
   "metadata": {},
   "outputs": [
    {
     "name": "stdout",
     "output_type": "stream",
     "text": [
      "to check total field if having --> App                  0\n",
      "Category             0\n",
      "Rating            1474\n",
      "Reviews              0\n",
      "Size                 0\n",
      "Installs             0\n",
      "Type                 1\n",
      "Price                0\n",
      "Content Rating       1\n",
      "Genres               0\n",
      "Last Updated         0\n",
      "Current Ver          8\n",
      "Android Ver          3\n",
      "dtype: int64\n",
      "to check any particular column --> 8\n",
      "                                                   App             Category  \\\n",
      "164                                       Ebook Reader  BOOKS_AND_REFERENCE   \n",
      "192                      Docs To Go™ Free Office Suite             BUSINESS   \n",
      "193                                 Google My Business             BUSINESS   \n",
      "204                                                Box             BUSINESS   \n",
      "213                                ZOOM Cloud Meetings             BUSINESS   \n",
      "...                                                ...                  ...   \n",
      "8643                    Wunderlist: To-Do List & Tasks         PRODUCTIVITY   \n",
      "8654   TickTick: To Do List with Reminder, Day Planner         PRODUCTIVITY   \n",
      "8658                           ColorNote Notepad Notes         PRODUCTIVITY   \n",
      "10049        Airway Ex - Intubate. Anesthetize. Train.              MEDICAL   \n",
      "10768                                             AAFP              MEDICAL   \n",
      "\n",
      "       Rating  Reviews                Size      Installs  Type Price  \\\n",
      "164       4.1    85842                 37M    5,000,000+  Free     0   \n",
      "192       4.1   217730  Varies with device   50,000,000+  Free     0   \n",
      "193       4.4    70991  Varies with device    5,000,000+  Free     0   \n",
      "204       4.2   159872  Varies with device   10,000,000+  Free     0   \n",
      "213       4.4    31614                 37M   10,000,000+  Free     0   \n",
      "...       ...      ...                 ...           ...   ...   ...   \n",
      "8643      4.6   404610  Varies with device   10,000,000+  Free     0   \n",
      "8654      4.6    25370  Varies with device    1,000,000+  Free     0   \n",
      "8658      4.6  2401017  Varies with device  100,000,000+  Free     0   \n",
      "10049     4.3      123                 86M       10,000+  Free     0   \n",
      "10768     3.8       63                 24M       10,000+  Free     0   \n",
      "\n",
      "      Content Rating             Genres    Last Updated         Current Ver  \\\n",
      "164         Everyone  Books & Reference   June 25, 2018               5.0.6   \n",
      "192         Everyone           Business   April 2, 2018  Varies with device   \n",
      "193         Everyone           Business   July 24, 2018    2.19.0.204537701   \n",
      "204         Everyone           Business   July 31, 2018  Varies with device   \n",
      "213         Everyone           Business   July 20, 2018      4.1.28165.0716   \n",
      "...              ...                ...             ...                 ...   \n",
      "8643        Everyone       Productivity   April 6, 2018  Varies with device   \n",
      "8654        Everyone       Productivity  August 6, 2018  Varies with device   \n",
      "8658        Everyone       Productivity   June 27, 2018  Varies with device   \n",
      "10049       Everyone            Medical    June 1, 2018              0.6.88   \n",
      "10768       Everyone            Medical   June 22, 2018               2.3.1   \n",
      "\n",
      "              Android Ver  \n",
      "164            4.0 and up  \n",
      "192    Varies with device  \n",
      "193            4.4 and up  \n",
      "204    Varies with device  \n",
      "213            4.0 and up  \n",
      "...                   ...  \n",
      "8643   Varies with device  \n",
      "8654   Varies with device  \n",
      "8658   Varies with device  \n",
      "10049          5.0 and up  \n",
      "10768          5.0 and up  \n",
      "\n",
      "[893 rows x 13 columns]\n",
      "\n",
      "\n",
      "ART_AND_DESIGN\n",
      "AUTO_AND_VEHICLES\n",
      "BEAUTY\n",
      "BOOKS_AND_REFERENCE\n",
      "BUSINESS\n",
      "COMICS\n",
      "COMMUNICATION\n",
      "DATING\n",
      "EDUCATION\n",
      "ENTERTAINMENT\n",
      "EVENTS\n",
      "FINANCE\n",
      "FOOD_AND_DRINK\n",
      "HEALTH_AND_FITNESS\n",
      "HOUSE_AND_HOME\n",
      "LIBRARIES_AND_DEMO\n",
      "LIFESTYLE\n",
      "GAME\n",
      "FAMILY\n",
      "MEDICAL\n",
      "SOCIAL\n",
      "SHOPPING\n",
      "PHOTOGRAPHY\n",
      "SPORTS\n",
      "TRAVEL_AND_LOCAL\n",
      "TOOLS\n",
      "PERSONALIZATION\n",
      "PRODUCTIVITY\n",
      "PARENTING\n",
      "WEATHER\n",
      "VIDEO_PLAYERS\n",
      "NEWS_AND_MAGAZINES\n",
      "MAPS_AND_NAVIGATION\n",
      "1.9\n"
     ]
    }
   ],
   "source": [
    "print('to check total field if having -->', csv_data.isnull().sum())\n",
    "\n",
    "# to check if column 'current Ver' has any null values or not \n",
    "print('to check any particular column -->',csv_data['Current Ver'].isnull().sum())\n",
    "\n",
    "# to check if any duplicates is there in any column, multiple columns can also be given\n",
    "csv_data['App'].duplicated()\n",
    "print(csv_data[csv_data.duplicated(keep=False)])     # keep false gives all duplicate ocurance\n",
    "print('\\n')\n",
    "\n",
    "# to get unique values from a column\n",
    "type(csv_data['Category'].unique())\n",
    "for i in csv_data['Category'].unique():\n",
    "    print(i)"
   ]
  },
  {
   "cell_type": "code",
   "execution_count": 21,
   "metadata": {},
   "outputs": [
    {
     "name": "stdout",
     "output_type": "stream",
     "text": [
      "App               0\n",
      "Category          0\n",
      "Rating            0\n",
      "Reviews           0\n",
      "Size              0\n",
      "Installs          0\n",
      "Type              1\n",
      "Price             0\n",
      "Content Rating    1\n",
      "Genres            0\n",
      "Last Updated      0\n",
      "Current Ver       8\n",
      "Android Ver       3\n",
      "dtype: int64\n",
      "_____________________________________________________________________________________________________\n",
      "count      10841\n",
      "unique        34\n",
      "top       FAMILY\n",
      "freq        1972\n",
      "Name: Category, dtype: object\n",
      "1972\n",
      "1972\n",
      "______________occurnace of each value in a column_______________\n",
      "ART_AND_DESIGN : 65\n",
      "AUTO_AND_VEHICLES : 85\n",
      "BEAUTY : 53\n",
      "BOOKS_AND_REFERENCE : 231\n",
      "BUSINESS : 460\n",
      "COMICS : 60\n",
      "COMMUNICATION : 387\n",
      "DATING : 234\n",
      "EDUCATION : 156\n",
      "ENTERTAINMENT : 149\n",
      "EVENTS : 64\n",
      "FINANCE : 366\n",
      "FOOD_AND_DRINK : 127\n",
      "HEALTH_AND_FITNESS : 341\n",
      "HOUSE_AND_HOME : 88\n",
      "LIBRARIES_AND_DEMO : 85\n",
      "LIFESTYLE : 382\n",
      "GAME : 1144\n",
      "FAMILY : 1972\n",
      "MEDICAL : 463\n",
      "SOCIAL : 295\n",
      "SHOPPING : 260\n",
      "PHOTOGRAPHY : 335\n",
      "SPORTS : 384\n",
      "TRAVEL_AND_LOCAL : 258\n",
      "TOOLS : 843\n",
      "PERSONALIZATION : 392\n",
      "PRODUCTIVITY : 424\n",
      "PARENTING : 60\n",
      "WEATHER : 82\n",
      "VIDEO_PLAYERS : 175\n",
      "NEWS_AND_MAGAZINES : 283\n",
      "MAPS_AND_NAVIGATION : 137\n",
      "1.9 : 1\n"
     ]
    }
   ],
   "source": [
    "# dropping rows from dataframe which having NaN\n",
    "csv_data.dropna()\n",
    "\n",
    "# to fill values having NaN with some default value , since we can not remove whole data if a single column\n",
    "# entry is null\n",
    "\n",
    "fillna_csv_data = csv_data.fillna(4.5)\n",
    "fillna_csv_data.isnull().sum()  #<-- sum of nan  values by each column\n",
    "# we should always fill data based on column names , since every column has some different value\n",
    "# so fill data based on column values\n",
    "fill_rating = csv_data.fillna({'Rating': 4.5})\n",
    "## above command only fills rating column , to add more columns we can add multiple dict column value pairs\n",
    "print(fill_rating.isnull().sum())\n",
    "\n",
    "## describe tells us about column details\n",
    "print('_____________________________________________________________________________________________________')\n",
    "print(csv_data['Category'].describe())\n",
    "\n",
    "#Counting occurance of a value in table\n",
    "print(csv_data['Category'].value_counts().get('FAMILY', 0))\n",
    "\n",
    "print((csv_data['Category'] == 'FAMILY').sum())\n",
    "\n",
    "print('______________occurnace of each value in a column_______________')\n",
    "for cat in csv_data['Category'].unique():\n",
    "    print(cat , \":\", csv_data['Category'].value_counts().get(cat, 0))"
   ]
  },
  {
   "cell_type": "code",
   "execution_count": 22,
   "metadata": {},
   "outputs": [
    {
     "data": {
      "text/html": [
       "<div>\n",
       "<style scoped>\n",
       "    .dataframe tbody tr th:only-of-type {\n",
       "        vertical-align: middle;\n",
       "    }\n",
       "\n",
       "    .dataframe tbody tr th {\n",
       "        vertical-align: top;\n",
       "    }\n",
       "\n",
       "    .dataframe thead th {\n",
       "        text-align: right;\n",
       "    }\n",
       "</style>\n",
       "<table border=\"1\" class=\"dataframe\">\n",
       "  <thead>\n",
       "    <tr style=\"text-align: right;\">\n",
       "      <th></th>\n",
       "      <th>App</th>\n",
       "      <th>Category</th>\n",
       "      <th>Rating</th>\n",
       "      <th>Reviews</th>\n",
       "      <th>Size</th>\n",
       "      <th>Installs</th>\n",
       "      <th>Type</th>\n",
       "      <th>Price</th>\n",
       "      <th>Content Rating</th>\n",
       "      <th>Genres</th>\n",
       "      <th>Last Updated</th>\n",
       "      <th>Current Ver</th>\n",
       "      <th>Android Ver</th>\n",
       "    </tr>\n",
       "  </thead>\n",
       "  <tbody>\n",
       "    <tr>\n",
       "      <th>10836</th>\n",
       "      <td>Sya9a Maroc - FR</td>\n",
       "      <td>FAMILY</td>\n",
       "      <td>4.5</td>\n",
       "      <td>38</td>\n",
       "      <td>53M</td>\n",
       "      <td>5,000+</td>\n",
       "      <td>Free</td>\n",
       "      <td>0</td>\n",
       "      <td>Everyone</td>\n",
       "      <td>Education</td>\n",
       "      <td>July 25, 2017</td>\n",
       "      <td>1.48</td>\n",
       "      <td>4.1 and up</td>\n",
       "    </tr>\n",
       "    <tr>\n",
       "      <th>10837</th>\n",
       "      <td>Fr. Mike Schmitz Audio Teachings</td>\n",
       "      <td>FAMILY</td>\n",
       "      <td>5.0</td>\n",
       "      <td>4</td>\n",
       "      <td>3.6M</td>\n",
       "      <td>100+</td>\n",
       "      <td>Free</td>\n",
       "      <td>0</td>\n",
       "      <td>Everyone</td>\n",
       "      <td>Education</td>\n",
       "      <td>July 6, 2018</td>\n",
       "      <td>1.0</td>\n",
       "      <td>4.1 and up</td>\n",
       "    </tr>\n",
       "    <tr>\n",
       "      <th>10838</th>\n",
       "      <td>Parkinson Exercices FR</td>\n",
       "      <td>MEDICAL</td>\n",
       "      <td>NaN</td>\n",
       "      <td>3</td>\n",
       "      <td>9.5M</td>\n",
       "      <td>1,000+</td>\n",
       "      <td>Free</td>\n",
       "      <td>0</td>\n",
       "      <td>Everyone</td>\n",
       "      <td>Medical</td>\n",
       "      <td>January 20, 2017</td>\n",
       "      <td>1.0</td>\n",
       "      <td>2.2 and up</td>\n",
       "    </tr>\n",
       "    <tr>\n",
       "      <th>10839</th>\n",
       "      <td>The SCP Foundation DB fr nn5n</td>\n",
       "      <td>BOOKS_AND_REFERENCE</td>\n",
       "      <td>4.5</td>\n",
       "      <td>114</td>\n",
       "      <td>Varies with device</td>\n",
       "      <td>1,000+</td>\n",
       "      <td>Free</td>\n",
       "      <td>0</td>\n",
       "      <td>Mature 17+</td>\n",
       "      <td>Books &amp; Reference</td>\n",
       "      <td>January 19, 2015</td>\n",
       "      <td>Varies with device</td>\n",
       "      <td>Varies with device</td>\n",
       "    </tr>\n",
       "    <tr>\n",
       "      <th>10840</th>\n",
       "      <td>iHoroscope - 2018 Daily Horoscope &amp; Astrology</td>\n",
       "      <td>LIFESTYLE</td>\n",
       "      <td>4.5</td>\n",
       "      <td>398307</td>\n",
       "      <td>19M</td>\n",
       "      <td>10,000,000+</td>\n",
       "      <td>Free</td>\n",
       "      <td>0</td>\n",
       "      <td>Everyone</td>\n",
       "      <td>Lifestyle</td>\n",
       "      <td>July 25, 2018</td>\n",
       "      <td>Varies with device</td>\n",
       "      <td>Varies with device</td>\n",
       "    </tr>\n",
       "  </tbody>\n",
       "</table>\n",
       "</div>"
      ],
      "text/plain": [
       "                                                 App             Category  \\\n",
       "10836                               Sya9a Maroc - FR               FAMILY   \n",
       "10837               Fr. Mike Schmitz Audio Teachings               FAMILY   \n",
       "10838                         Parkinson Exercices FR              MEDICAL   \n",
       "10839                  The SCP Foundation DB fr nn5n  BOOKS_AND_REFERENCE   \n",
       "10840  iHoroscope - 2018 Daily Horoscope & Astrology            LIFESTYLE   \n",
       "\n",
       "       Rating Reviews                Size     Installs  Type Price  \\\n",
       "10836     4.5      38                 53M       5,000+  Free     0   \n",
       "10837     5.0       4                3.6M         100+  Free     0   \n",
       "10838     NaN       3                9.5M       1,000+  Free     0   \n",
       "10839     4.5     114  Varies with device       1,000+  Free     0   \n",
       "10840     4.5  398307                 19M  10,000,000+  Free     0   \n",
       "\n",
       "      Content Rating             Genres      Last Updated         Current Ver  \\\n",
       "10836       Everyone          Education     July 25, 2017                1.48   \n",
       "10837       Everyone          Education      July 6, 2018                 1.0   \n",
       "10838       Everyone            Medical  January 20, 2017                 1.0   \n",
       "10839     Mature 17+  Books & Reference  January 19, 2015  Varies with device   \n",
       "10840       Everyone          Lifestyle     July 25, 2018  Varies with device   \n",
       "\n",
       "              Android Ver  \n",
       "10836          4.1 and up  \n",
       "10837          4.1 and up  \n",
       "10838          2.2 and up  \n",
       "10839  Varies with device  \n",
       "10840  Varies with device  "
      ]
     },
     "execution_count": 22,
     "metadata": {},
     "output_type": "execute_result"
    }
   ],
   "source": [
    "csv_data.tail(5)"
   ]
  },
  {
   "cell_type": "markdown",
   "metadata": {},
   "source": [
    "DataFrames are the workhorse of pandas and are directly inspired by the R programming language. We can think of a DataFrame as a bunch of Series objects put together to share the same index. Let's use pandas to explore this topic!"
   ]
  },
  {
   "cell_type": "code",
   "execution_count": 29,
   "metadata": {},
   "outputs": [
    {
     "name": "stdout",
     "output_type": "stream",
     "text": [
      "   0  1  2\n",
      "0  1  2  3\n",
      "1  1  2  3\n",
      "2  a  b  c\n",
      "\n",
      "\n",
      "   c1 c2 c3\n",
      "r1  1  2  3\n",
      "r2  1  2  3\n",
      "r3  a  b  c\n",
      "<class 'pandas.core.series.Series'>\n"
     ]
    },
    {
     "data": {
      "text/plain": [
       "pandas.core.series.Series"
      ]
     },
     "execution_count": 29,
     "metadata": {},
     "output_type": "execute_result"
    }
   ],
   "source": [
    "d1 = pd.DataFrame([[1,2,3], [1,2,3], ['a','b','c']])\n",
    "print(d1)\n",
    "print('\\n')\n",
    "d2 = pd.DataFrame([[1,2,3], [1,2,3], ['a','b','c']],['r1', 'r2', 'r3'], ['c1','c2','c3'])\n",
    "print(d2)\n",
    "\n",
    "# each individual row or col type of a dataframe is actually a np series\n",
    "print(type(d2['c1']))\n",
    "type(d2.loc['r1'])"
   ]
  },
  {
   "cell_type": "markdown",
   "metadata": {},
   "source": [
    "## filling values with sklearn imputer"
   ]
  },
  {
   "cell_type": "code",
   "execution_count": null,
   "metadata": {},
   "outputs": [
    {
     "name": "stdout",
     "output_type": "stream",
     "text": [
      "   Country   Age   Salary Purchased\n",
      "0   France  44.0  72000.0       Yes\n",
      "1    Spain  27.0  48000.0       Yes\n",
      "2      NaN  30.0  54000.0       NaN\n",
      "3    Spain  38.0  61000.0        No\n",
      "4  Germany  40.0      NaN       Yes\n",
      "5   France  35.0  58000.0       Yes\n",
      "6    Spain   NaN  52000.0        No\n",
      "7   France  48.0  79000.0       Yes\n",
      "8  Germany  50.0  83000.0        No\n",
      "9   France  37.0  67000.0       Yes\n"
     ]
    }
   ],
   "source": [
    "country_csv = pd.read_csv('rawdata\\csv\\country.csv')\n",
    "print(country_csv)"
   ]
  },
  {
   "cell_type": "code",
   "execution_count": 17,
   "metadata": {},
   "outputs": [
    {
     "data": {
      "text/plain": [
       "Country      1\n",
       "Age          1\n",
       "Salary       1\n",
       "Purchased    1\n",
       "dtype: int64"
      ]
     },
     "execution_count": 17,
     "metadata": {},
     "output_type": "execute_result"
    }
   ],
   "source": [
    "#check isnull from above data set\n",
    "country_csv.isnull().sum()"
   ]
  },
  {
   "cell_type": "code",
   "execution_count": null,
   "metadata": {},
   "outputs": [
    {
     "data": {
      "text/html": [
       "<div>\n",
       "<style scoped>\n",
       "    .dataframe tbody tr th:only-of-type {\n",
       "        vertical-align: middle;\n",
       "    }\n",
       "\n",
       "    .dataframe tbody tr th {\n",
       "        vertical-align: top;\n",
       "    }\n",
       "\n",
       "    .dataframe thead th {\n",
       "        text-align: right;\n",
       "    }\n",
       "</style>\n",
       "<table border=\"1\" class=\"dataframe\">\n",
       "  <thead>\n",
       "    <tr style=\"text-align: right;\">\n",
       "      <th></th>\n",
       "      <th>Age</th>\n",
       "    </tr>\n",
       "  </thead>\n",
       "  <tbody>\n",
       "    <tr>\n",
       "      <th>0</th>\n",
       "      <td>44.0</td>\n",
       "    </tr>\n",
       "    <tr>\n",
       "      <th>1</th>\n",
       "      <td>27.0</td>\n",
       "    </tr>\n",
       "    <tr>\n",
       "      <th>2</th>\n",
       "      <td>30.0</td>\n",
       "    </tr>\n",
       "    <tr>\n",
       "      <th>3</th>\n",
       "      <td>38.0</td>\n",
       "    </tr>\n",
       "    <tr>\n",
       "      <th>4</th>\n",
       "      <td>40.0</td>\n",
       "    </tr>\n",
       "    <tr>\n",
       "      <th>5</th>\n",
       "      <td>35.0</td>\n",
       "    </tr>\n",
       "    <tr>\n",
       "      <th>6</th>\n",
       "      <td>NaN</td>\n",
       "    </tr>\n",
       "    <tr>\n",
       "      <th>7</th>\n",
       "      <td>48.0</td>\n",
       "    </tr>\n",
       "    <tr>\n",
       "      <th>8</th>\n",
       "      <td>50.0</td>\n",
       "    </tr>\n",
       "    <tr>\n",
       "      <th>9</th>\n",
       "      <td>37.0</td>\n",
       "    </tr>\n",
       "  </tbody>\n",
       "</table>\n",
       "</div>"
      ],
      "text/plain": [
       "    Age\n",
       "0  44.0\n",
       "1  27.0\n",
       "2  30.0\n",
       "3  38.0\n",
       "4  40.0\n",
       "5  35.0\n",
       "6   NaN\n",
       "7  48.0\n",
       "8  50.0\n",
       "9  37.0"
      ]
     },
     "execution_count": 18,
     "metadata": {},
     "output_type": "execute_result"
    }
   ],
   "source": [
    "#iloc slicing - very similar to slicing \n",
    "# df.iloc[start_row : end_row, start_col : end:col]\n",
    "country_csv.iloc[:,1:2]"
   ]
  },
  {
   "cell_type": "code",
   "execution_count": 19,
   "metadata": {},
   "outputs": [
    {
     "data": {
      "text/html": [
       "<div>\n",
       "<style scoped>\n",
       "    .dataframe tbody tr th:only-of-type {\n",
       "        vertical-align: middle;\n",
       "    }\n",
       "\n",
       "    .dataframe tbody tr th {\n",
       "        vertical-align: top;\n",
       "    }\n",
       "\n",
       "    .dataframe thead th {\n",
       "        text-align: right;\n",
       "    }\n",
       "</style>\n",
       "<table border=\"1\" class=\"dataframe\">\n",
       "  <thead>\n",
       "    <tr style=\"text-align: right;\">\n",
       "      <th></th>\n",
       "      <th>Country</th>\n",
       "      <th>Age</th>\n",
       "      <th>Salary</th>\n",
       "      <th>Purchased</th>\n",
       "    </tr>\n",
       "  </thead>\n",
       "  <tbody>\n",
       "    <tr>\n",
       "      <th>0</th>\n",
       "      <td>France</td>\n",
       "      <td>44.000000</td>\n",
       "      <td>72000.000000</td>\n",
       "      <td>Yes</td>\n",
       "    </tr>\n",
       "    <tr>\n",
       "      <th>1</th>\n",
       "      <td>Spain</td>\n",
       "      <td>27.000000</td>\n",
       "      <td>48000.000000</td>\n",
       "      <td>Yes</td>\n",
       "    </tr>\n",
       "    <tr>\n",
       "      <th>2</th>\n",
       "      <td>France</td>\n",
       "      <td>30.000000</td>\n",
       "      <td>54000.000000</td>\n",
       "      <td>Yes</td>\n",
       "    </tr>\n",
       "    <tr>\n",
       "      <th>3</th>\n",
       "      <td>Spain</td>\n",
       "      <td>38.000000</td>\n",
       "      <td>61000.000000</td>\n",
       "      <td>No</td>\n",
       "    </tr>\n",
       "    <tr>\n",
       "      <th>4</th>\n",
       "      <td>Germany</td>\n",
       "      <td>40.000000</td>\n",
       "      <td>63777.777778</td>\n",
       "      <td>Yes</td>\n",
       "    </tr>\n",
       "    <tr>\n",
       "      <th>5</th>\n",
       "      <td>France</td>\n",
       "      <td>35.000000</td>\n",
       "      <td>58000.000000</td>\n",
       "      <td>Yes</td>\n",
       "    </tr>\n",
       "    <tr>\n",
       "      <th>6</th>\n",
       "      <td>Spain</td>\n",
       "      <td>38.777778</td>\n",
       "      <td>52000.000000</td>\n",
       "      <td>No</td>\n",
       "    </tr>\n",
       "    <tr>\n",
       "      <th>7</th>\n",
       "      <td>France</td>\n",
       "      <td>48.000000</td>\n",
       "      <td>79000.000000</td>\n",
       "      <td>Yes</td>\n",
       "    </tr>\n",
       "    <tr>\n",
       "      <th>8</th>\n",
       "      <td>Germany</td>\n",
       "      <td>50.000000</td>\n",
       "      <td>83000.000000</td>\n",
       "      <td>No</td>\n",
       "    </tr>\n",
       "    <tr>\n",
       "      <th>9</th>\n",
       "      <td>France</td>\n",
       "      <td>37.000000</td>\n",
       "      <td>67000.000000</td>\n",
       "      <td>Yes</td>\n",
       "    </tr>\n",
       "  </tbody>\n",
       "</table>\n",
       "</div>"
      ],
      "text/plain": [
       "   Country        Age        Salary Purchased\n",
       "0   France  44.000000  72000.000000       Yes\n",
       "1    Spain  27.000000  48000.000000       Yes\n",
       "2   France  30.000000  54000.000000       Yes\n",
       "3    Spain  38.000000  61000.000000        No\n",
       "4  Germany  40.000000  63777.777778       Yes\n",
       "5   France  35.000000  58000.000000       Yes\n",
       "6    Spain  38.777778  52000.000000        No\n",
       "7   France  48.000000  79000.000000       Yes\n",
       "8  Germany  50.000000  83000.000000        No\n",
       "9   France  37.000000  67000.000000       Yes"
      ]
     },
     "execution_count": 19,
     "metadata": {},
     "output_type": "execute_result"
    }
   ],
   "source": [
    "# updating age column from above date frame\n",
    "\n",
    "imp_mean = SimpleImputer(missing_values= np.nan, strategy= 'mean')\n",
    "imp_mean.fit(country_csv.iloc[:,1:2])\n",
    "\n",
    "#receiveing transformed values\n",
    "country_csv.iloc[:,1:2] = imp_mean.transform(country_csv.iloc[:,1:2])\n",
    "\n",
    "# now updated salary column with same mean strategy \n",
    "imp_mean.fit(country_csv.iloc[:,2:3])\n",
    "country_csv.iloc[:,2:3] = imp_mean.transform(country_csv.iloc[:,2:3])\n",
    "\n",
    "# updating nan in categorical data using most frequent\n",
    "imp_mostfreq = SimpleImputer(missing_values= np.nan, strategy='most_frequent')\n",
    "country_csv.iloc[:,:1] = imp_mostfreq.fit_transform(country_csv.iloc[:,:1])\n",
    "# same strategy for purchased\n",
    "country_csv.iloc[:,3:4] = imp_mostfreq.fit_transform(country_csv.iloc[:,3:4])\n",
    "country_csv"
   ]
  },
  {
   "cell_type": "code",
   "execution_count": 20,
   "metadata": {},
   "outputs": [
    {
     "data": {
      "text/plain": [
       "Country      0\n",
       "Age          0\n",
       "Salary       0\n",
       "Purchased    0\n",
       "dtype: int64"
      ]
     },
     "execution_count": 20,
     "metadata": {},
     "output_type": "execute_result"
    }
   ],
   "source": [
    "country_csv.isnull().sum()"
   ]
  },
  {
   "cell_type": "code",
   "execution_count": null,
   "metadata": {},
   "outputs": [
    {
     "data": {
      "text/plain": [
       "App                  0\n",
       "Category             0\n",
       "Rating            1474\n",
       "Reviews              0\n",
       "Size                 0\n",
       "Installs             0\n",
       "Type                 1\n",
       "Price                0\n",
       "Content Rating       1\n",
       "Genres               0\n",
       "Last Updated         0\n",
       "Current Ver          8\n",
       "Android Ver          3\n",
       "dtype: int64"
      ]
     },
     "execution_count": 21,
     "metadata": {},
     "output_type": "execute_result"
    }
   ],
   "source": [
    "csv_data.isnull().sum()"
   ]
  },
  {
   "cell_type": "code",
   "execution_count": 22,
   "metadata": {},
   "outputs": [],
   "source": [
    "csv_data.iloc[:, 2:3] = imp_mean.fit_transform(csv_data.iloc[:, 2:3])"
   ]
  },
  {
   "cell_type": "code",
   "execution_count": null,
   "metadata": {},
   "outputs": [
    {
     "name": "stdout",
     "output_type": "stream",
     "text": [
      "App               0\n",
      "Category          0\n",
      "Rating            0\n",
      "Reviews           0\n",
      "Size              0\n",
      "Installs          0\n",
      "Type              0\n",
      "Price             0\n",
      "Content Rating    0\n",
      "Genres            0\n",
      "Last Updated      0\n",
      "Current Ver       0\n",
      "Android Ver       0\n",
      "dtype: int64\n"
     ]
    }
   ],
   "source": [
    "# after rating is converted with nan to mean \n",
    "# lets drop some rows these are not much weightage so we can drop\n",
    "csv_data = csv_data.dropna()   #<-- drops nan rows and updates the dataframe \n",
    "\n",
    "print(csv_data.isnull().sum())"
   ]
  },
  {
   "cell_type": "code",
   "execution_count": null,
   "metadata": {},
   "outputs": [
    {
     "name": "stdout",
     "output_type": "stream",
     "text": [
      "                                 App       Category    Rating Reviews  \\\n",
      "940                           The CW  ENTERTAINMENT  4.400000  288150   \n",
      "7329                     Chrome Beta   PRODUCTIVITY  4.400000  228755   \n",
      "10555                      FK Jonava         SPORTS  4.193338       1   \n",
      "9613   LocaToWeb - Live GPS tracking         SPORTS  4.600000     200   \n",
      "695         iPair-Meet, Chat, Dating         DATING  4.500000  182986   \n",
      "\n",
      "                     Size     Installs  Type  Price Content Rating  \\\n",
      "940                   21M   5,000,000+  Free      0           Teen   \n",
      "7329   Varies with device  10,000,000+  Free      0       Everyone   \n",
      "10555                 26M           5+  Free      0       Everyone   \n",
      "9613                 3.0M       1,000+  Paid  $2.49       Everyone   \n",
      "695                   77M   5,000,000+  Free      0     Mature 17+   \n",
      "\n",
      "              Genres       Last Updated   Current Ver         Android Ver  \n",
      "940    Entertainment      July 23, 2018          2.17          4.4 and up  \n",
      "7329    Productivity      July 19, 2018  68.0.3440.70  Varies with device  \n",
      "10555         Sports  February 21, 2018           1.0          4.1 and up  \n",
      "9613          Sports     August 2, 2018         3.9.1          5.0 and up  \n",
      "695           Dating     August 2, 2018         5.0.8          4.1 and up  \n",
      "______________________________df.info() gives column types  ___________________________________________\n",
      "<class 'pandas.core.frame.DataFrame'>\n",
      "Index: 10829 entries, 0 to 10840\n",
      "Data columns (total 13 columns):\n",
      " #   Column          Non-Null Count  Dtype  \n",
      "---  ------          --------------  -----  \n",
      " 0   App             10829 non-null  object \n",
      " 1   Category        10829 non-null  object \n",
      " 2   Rating          10829 non-null  float64\n",
      " 3   Reviews         10829 non-null  object \n",
      " 4   Size            10829 non-null  object \n",
      " 5   Installs        10829 non-null  object \n",
      " 6   Type            10829 non-null  object \n",
      " 7   Price           10829 non-null  object \n",
      " 8   Content Rating  10829 non-null  object \n",
      " 9   Genres          10829 non-null  object \n",
      " 10  Last Updated    10829 non-null  object \n",
      " 11  Current Ver     10829 non-null  object \n",
      " 12  Android Ver     10829 non-null  object \n",
      "dtypes: float64(1), object(12)\n",
      "memory usage: 1.2+ MB\n",
      "None\n",
      "<class 'pandas.core.frame.DataFrame'>\n",
      "RangeIndex: 10 entries, 0 to 9\n",
      "Data columns (total 4 columns):\n",
      " #   Column     Non-Null Count  Dtype  \n",
      "---  ------     --------------  -----  \n",
      " 0   Country    10 non-null     object \n",
      " 1   Age        10 non-null     float64\n",
      " 2   Salary     10 non-null     float64\n",
      " 3   Purchased  10 non-null     object \n",
      "dtypes: float64(2), object(2)\n",
      "memory usage: 448.0+ bytes\n",
      "None\n",
      "_______________shape gives no of rows and columns __________________________\n",
      "no of rows and cols in country (10, 4)\n",
      "no of rows and cols in csv data dataframe  (10829, 13)\n",
      "____________________df.describe()___________________________________________\n",
      "             Age        Salary\n",
      "count  10.000000     10.000000\n",
      "mean   38.777778  63777.777778\n",
      "std     7.253777  11564.099406\n",
      "min    27.000000  48000.000000\n",
      "25%    35.500000  55000.000000\n",
      "50%    38.388889  62388.888889\n",
      "75%    43.000000  70750.000000\n",
      "max    50.000000  83000.000000\n",
      "             Rating\n",
      "count  10829.000000\n",
      "mean       4.192041\n",
      "std        0.479038\n",
      "min        1.000000\n",
      "25%        4.100000\n",
      "50%        4.200000\n",
      "75%        4.500000\n",
      "max        5.000000\n"
     ]
    }
   ],
   "source": [
    "# df.sample() give random samples from whole df, we shoud use instead of df.head(), df.tail() gives 5 rows\n",
    "print(csv_data.sample(5))\n",
    "print('______________________________df.info() gives column types  ___________________________________________')\n",
    "print(csv_data.info())\n",
    "print(country_csv.info())\n",
    "print(\"_______________shape gives no of rows and columns __________________________\")\n",
    "print('no of rows and cols in country', country_csv.shape)\n",
    "print('no of rows and cols in csv data dataframe ', csv_data.shape)\n",
    "print('____________________df.describe()___________________________________________')\n",
    "# Description: Computes summary statistics (count, mean, std, min, 25%, 50%, 75%, max) for numerical columns in DataFrame df.\n",
    "print(country_csv.describe())\n",
    "print(csv_data.describe())"
   ]
  },
  {
   "cell_type": "markdown",
   "metadata": {},
   "source": [
    "## Handling Missing Values \n",
    "delete the affected row | \n",
    "delete the affected columns  |\n",
    "filling missing values ( using imputation methods )  |\n",
    "advance imputation"
   ]
  },
  {
   "cell_type": "code",
   "execution_count": 45,
   "metadata": {},
   "outputs": [
    {
     "name": "stdout",
     "output_type": "stream",
     "text": [
      "             Rating\n",
      "count  10829.000000\n",
      "mean       4.192041\n",
      "std        0.479038\n",
      "min        1.000000\n",
      "25%        4.100000\n",
      "50%        4.200000\n",
      "75%        4.500000\n",
      "max        5.000000\n",
      "\n",
      "\n",
      "<bound method NDFrame.describe of                                                      App             Category  \\\n",
      "0         Photo Editor & Candy Camera & Grid & ScrapBook       ART_AND_DESIGN   \n",
      "1                                    Coloring book moana       ART_AND_DESIGN   \n",
      "2      U Launcher Lite – FREE Live Cool Themes, Hide ...       ART_AND_DESIGN   \n",
      "3                                  Sketch - Draw & Paint       ART_AND_DESIGN   \n",
      "4                  Pixel Draw - Number Art Coloring Book       ART_AND_DESIGN   \n",
      "...                                                  ...                  ...   \n",
      "10836                                   Sya9a Maroc - FR               FAMILY   \n",
      "10837                   Fr. Mike Schmitz Audio Teachings               FAMILY   \n",
      "10838                             Parkinson Exercices FR              MEDICAL   \n",
      "10839                      The SCP Foundation DB fr nn5n  BOOKS_AND_REFERENCE   \n",
      "10840      iHoroscope - 2018 Daily Horoscope & Astrology            LIFESTYLE   \n",
      "\n",
      "         Rating Reviews                Size     Installs  Type Price  \\\n",
      "0      4.100000     159                 19M      10,000+  Free     0   \n",
      "1      3.900000     967                 14M     500,000+  Free     0   \n",
      "2      4.700000   87510                8.7M   5,000,000+  Free     0   \n",
      "3      4.500000  215644                 25M  50,000,000+  Free     0   \n",
      "4      4.300000     967                2.8M     100,000+  Free     0   \n",
      "...         ...     ...                 ...          ...   ...   ...   \n",
      "10836  4.500000      38                 53M       5,000+  Free     0   \n",
      "10837  5.000000       4                3.6M         100+  Free     0   \n",
      "10838  4.193338       3                9.5M       1,000+  Free     0   \n",
      "10839  4.500000     114  Varies with device       1,000+  Free     0   \n",
      "10840  4.500000  398307                 19M  10,000,000+  Free     0   \n",
      "\n",
      "      Content Rating                     Genres      Last Updated  \\\n",
      "0           Everyone               Art & Design   January 7, 2018   \n",
      "1           Everyone  Art & Design;Pretend Play  January 15, 2018   \n",
      "2           Everyone               Art & Design    August 1, 2018   \n",
      "3               Teen               Art & Design      June 8, 2018   \n",
      "4           Everyone    Art & Design;Creativity     June 20, 2018   \n",
      "...              ...                        ...               ...   \n",
      "10836       Everyone                  Education     July 25, 2017   \n",
      "10837       Everyone                  Education      July 6, 2018   \n",
      "10838       Everyone                    Medical  January 20, 2017   \n",
      "10839     Mature 17+          Books & Reference  January 19, 2015   \n",
      "10840       Everyone                  Lifestyle     July 25, 2018   \n",
      "\n",
      "              Current Ver         Android Ver  \n",
      "0                   1.0.0        4.0.3 and up  \n",
      "1                   2.0.0        4.0.3 and up  \n",
      "2                   1.2.4        4.0.3 and up  \n",
      "3      Varies with device          4.2 and up  \n",
      "4                     1.1          4.4 and up  \n",
      "...                   ...                 ...  \n",
      "10836                1.48          4.1 and up  \n",
      "10837                 1.0          4.1 and up  \n",
      "10838                 1.0          2.2 and up  \n",
      "10839  Varies with device  Varies with device  \n",
      "10840  Varies with device  Varies with device  \n",
      "\n",
      "[10829 rows x 13 columns]>\n"
     ]
    }
   ],
   "source": [
    "print(csv_data.describe())\n",
    "print('\\n')\n",
    "print(csv_data.describe)"
   ]
  },
  {
   "cell_type": "markdown",
   "metadata": {},
   "source": [
    "## new data set"
   ]
  },
  {
   "cell_type": "code",
   "execution_count": 60,
   "metadata": {},
   "outputs": [
    {
     "name": "stdout",
     "output_type": "stream",
     "text": [
      "id                                  int64\n",
      "name                               object\n",
      "host_id                             int64\n",
      "host_name                          object\n",
      "neighbourhood_group                object\n",
      "neighbourhood                      object\n",
      "latitude                          float64\n",
      "longitude                         float64\n",
      "room_type                          object\n",
      "price                               int64\n",
      "minimum_nights                      int64\n",
      "number_of_reviews                   int64\n",
      "last_review                        object\n",
      "reviews_per_month                 float64\n",
      "calculated_host_listings_count      int64\n",
      "availability_365                    int64\n",
      "dtype: object\n",
      "\n",
      "\n",
      "(48906, 16)\n"
     ]
    }
   ],
   "source": [
    "df = pd.read_csv('rawdata\\csv\\AB_NYC_2019.csv')\n",
    "print(df.dtypes)\n",
    "print('\\n')\n",
    "print(df.shape)"
   ]
  },
  {
   "cell_type": "code",
   "execution_count": 61,
   "metadata": {},
   "outputs": [
    {
     "name": "stdout",
     "output_type": "stream",
     "text": [
      "id                                    0\n",
      "name                                 16\n",
      "host_id                               0\n",
      "host_name                            21\n",
      "neighbourhood_group                   0\n",
      "neighbourhood                         0\n",
      "latitude                              0\n",
      "longitude                             0\n",
      "room_type                             0\n",
      "price                                 0\n",
      "minimum_nights                        0\n",
      "number_of_reviews                     0\n",
      "last_review                       10052\n",
      "reviews_per_month                 10052\n",
      "calculated_host_listings_count        0\n",
      "availability_365                      0\n",
      "dtype: int64\n"
     ]
    }
   ],
   "source": [
    "df1 = df.copy()\n",
    "print(df1.isna().sum())     #  to check which columns having empty nan values"
   ]
  },
  {
   "cell_type": "code",
   "execution_count": 66,
   "metadata": {},
   "outputs": [],
   "source": [
    "# here reviews per month does have int data type so we can use mean method to fill missing values\n",
    "df1['reviews_per_month'].sample(10)\n",
    "\n",
    "# first calculate the mean of column \n",
    "mean_value = df1['reviews_per_month'].mean()\n",
    "df1.fillna(mean_value, inplace=True)       # be carefull while doing thsi command \n",
    "                                           # if column name is not specified in df the this will update whole Df\n",
    "                                           # data['column_name'].fillna(data['column_name'].mean(), inplace=True)\n",
    "                                           # use above"
   ]
  },
  {
   "cell_type": "code",
   "execution_count": 65,
   "metadata": {},
   "outputs": [
    {
     "data": {
      "text/plain": [
       "id                                0\n",
       "name                              0\n",
       "host_id                           0\n",
       "host_name                         0\n",
       "neighbourhood_group               0\n",
       "neighbourhood                     0\n",
       "latitude                          0\n",
       "longitude                         0\n",
       "room_type                         0\n",
       "price                             0\n",
       "minimum_nights                    0\n",
       "number_of_reviews                 0\n",
       "last_review                       0\n",
       "reviews_per_month                 0\n",
       "calculated_host_listings_count    0\n",
       "availability_365                  0\n",
       "dtype: int64"
      ]
     },
     "execution_count": 65,
     "metadata": {},
     "output_type": "execute_result"
    }
   ],
   "source": [
    "df1.isna().sum()"
   ]
  },
  {
   "cell_type": "code",
   "execution_count": 76,
   "metadata": {},
   "outputs": [
    {
     "name": "stdout",
     "output_type": "stream",
     "text": [
      "id                                    0\n",
      "name                                 16\n",
      "host_id                               0\n",
      "host_name                            21\n",
      "neighbourhood_group                   0\n",
      "neighbourhood                         0\n",
      "latitude                              0\n",
      "longitude                             0\n",
      "room_type                             0\n",
      "price                                 0\n",
      "minimum_nights                        0\n",
      "number_of_reviews                     0\n",
      "last_review                       10052\n",
      "reviews_per_month                 10052\n",
      "calculated_host_listings_count        0\n",
      "availability_365                      0\n",
      "dtype: int64\n",
      "\n",
      "\n",
      "id                                    0\n",
      "name                                 16\n",
      "host_id                               0\n",
      "host_name                            21\n",
      "neighbourhood_group                   0\n",
      "neighbourhood                         0\n",
      "latitude                              0\n",
      "longitude                             0\n",
      "room_type                             0\n",
      "price                                 0\n",
      "minimum_nights                        0\n",
      "number_of_reviews                     0\n",
      "last_review                       10052\n",
      "reviews_per_month                     0\n",
      "calculated_host_listings_count        0\n",
      "availability_365                      0\n",
      "dtype: int64\n"
     ]
    },
    {
     "name": "stderr",
     "output_type": "stream",
     "text": [
      "C:\\Users\\ashpi\\AppData\\Local\\Temp\\ipykernel_9496\\3031390880.py:7: FutureWarning: A value is trying to be set on a copy of a DataFrame or Series through chained assignment using an inplace method.\n",
      "The behavior will change in pandas 3.0. This inplace method will never work because the intermediate object on which we are setting values always behaves as a copy.\n",
      "\n",
      "For example, when doing 'df[col].method(value, inplace=True)', try using 'df.method({col: value}, inplace=True)' or df[col] = df[col].method(value) instead, to perform the operation inplace on the original object.\n",
      "\n",
      "\n",
      "  df2['reviews_per_month'].interpolate(inplace=True)\n"
     ]
    }
   ],
   "source": [
    "# interpoltae function is way to fill nan values\n",
    "df2 = df.copy()\n",
    "# check nan values again\n",
    "print(df2.isna().sum())\n",
    "\n",
    "# to remove nan values from reviews per month\n",
    "df2['reviews_per_month'].interpolate(inplace=True)\n",
    "print('\\n')\n",
    "print(df2.isna().sum())\n"
   ]
  },
  {
   "cell_type": "code",
   "execution_count": 78,
   "metadata": {},
   "outputs": [
    {
     "name": "stdout",
     "output_type": "stream",
     "text": [
      "id                                 0\n",
      "name                              16\n",
      "host_id                            0\n",
      "host_name                         21\n",
      "neighbourhood_group                0\n",
      "neighbourhood                      0\n",
      "latitude                           0\n",
      "longitude                          0\n",
      "room_type                          0\n",
      "price                              0\n",
      "minimum_nights                     0\n",
      "number_of_reviews                  0\n",
      "last_review                        0\n",
      "reviews_per_month                  0\n",
      "calculated_host_listings_count     0\n",
      "availability_365                   0\n",
      "dtype: int64\n",
      "\n",
      "\n",
      "             id                                               name    host_id  \\\n",
      "19451  15517755           Huge Bedroom w/direct access to backyard   30047867   \n",
      "7769    5891777                  Cozy 1BD side apartment w/parking   18014128   \n",
      "48763  36421390                     House feeling in Caroll Garden    3827238   \n",
      "16743  13379511                Charming Brownstone in Clinton Hill   76037379   \n",
      "4225    2771877                              Central Park Treasure   14174901   \n",
      "9691    7454426                  Private room in WILLIAMSBURG LOFT   38944275   \n",
      "11565   8994025          Sunny & Spacious Room w/ Private Bathroom   12774739   \n",
      "34334  27237512  *NO GUEST SERVICE FEE* Studio Suite with Free ...  205031545   \n",
      "7205    5270589                 Large, Furnished East Village Room   26732630   \n",
      "23165  18752307                              The Regal Crash Suite  130461656   \n",
      "\n",
      "        host_name neighbourhood_group       neighbourhood  latitude  \\\n",
      "19451      Camila            Brooklyn  Bedford-Stuyvesant  40.68707   \n",
      "7769       Inessa       Staten Island         Great Kills  40.55170   \n",
      "48763       Tarek            Brooklyn     Carroll Gardens  40.67666   \n",
      "16743  Josh+Emily            Brooklyn        Clinton Hill  40.68594   \n",
      "4225       Anasha           Manhattan     Upper West Side  40.78694   \n",
      "9691       Hilary            Brooklyn        Williamsburg  40.71380   \n",
      "11565      Stefan            Brooklyn  Bedford-Stuyvesant  40.68654   \n",
      "34334  Red Awning           Manhattan             Midtown  40.75239   \n",
      "7205      Bennett           Manhattan        East Village  40.72787   \n",
      "23165        King           Manhattan              Harlem  40.81372   \n",
      "\n",
      "       longitude        room_type  price  minimum_nights  number_of_reviews  \\\n",
      "19451  -73.94437     Private room     50               2                  3   \n",
      "7769   -74.14636  Entire home/apt     65               5                 62   \n",
      "48763  -73.99981  Entire home/apt    170              30                  0   \n",
      "16743  -73.96293  Entire home/apt    120               3                  2   \n",
      "4225   -73.97384  Entire home/apt    150              20                  0   \n",
      "9691   -73.96798     Private room    100               1                 12   \n",
      "11565  -73.95044     Private room     40               5                 12   \n",
      "34334  -73.96684  Entire home/apt    699               3                  1   \n",
      "7205   -73.98969     Private room    115               1                  0   \n",
      "23165  -73.95612  Entire home/apt    195               1                 51   \n",
      "\n",
      "      last_review  reviews_per_month  calculated_host_listings_count  \\\n",
      "19451  05-01-2017              0.090                               1   \n",
      "7769   21-05-2019              1.220                               1   \n",
      "48763  not_filled              1.000                               1   \n",
      "16743  28-11-2016              0.050                               1   \n",
      "4225   not_filled              0.145                               1   \n",
      "9691   27-10-2018              0.260                               1   \n",
      "11565  10-03-2019              0.280                               1   \n",
      "34334  31-03-2019              0.300                              49   \n",
      "7205   not_filled              1.295                               1   \n",
      "23165  22-05-2019              1.960                               1   \n",
      "\n",
      "       availability_365  \n",
      "19451                 0  \n",
      "7769                336  \n",
      "48763                64  \n",
      "16743                 0  \n",
      "4225                  0  \n",
      "9691                 89  \n",
      "11565                 0  \n",
      "34334               204  \n",
      "7205                  0  \n",
      "23165                67  \n"
     ]
    },
    {
     "name": "stderr",
     "output_type": "stream",
     "text": [
      "C:\\Users\\ashpi\\AppData\\Local\\Temp\\ipykernel_9496\\1268516539.py:1: FutureWarning: A value is trying to be set on a copy of a DataFrame or Series through chained assignment using an inplace method.\n",
      "The behavior will change in pandas 3.0. This inplace method will never work because the intermediate object on which we are setting values always behaves as a copy.\n",
      "\n",
      "For example, when doing 'df[col].method(value, inplace=True)', try using 'df.method({col: value}, inplace=True)' or df[col] = df[col].method(value) instead, to perform the operation inplace on the original object.\n",
      "\n",
      "\n",
      "  df2['last_review'].fillna('not_filled',inplace=True)\n"
     ]
    }
   ],
   "source": [
    "df2['last_review'].fillna('not_filled',inplace=True)\n",
    "print(df2.isna().sum())\n",
    "print('\\n')\n",
    "print(df2.sample(10))"
   ]
  },
  {
   "cell_type": "code",
   "execution_count": 87,
   "metadata": {},
   "outputs": [
    {
     "name": "stdout",
     "output_type": "stream",
     "text": [
      "0        False\n",
      "1        False\n",
      "2        False\n",
      "3        False\n",
      "4        False\n",
      "         ...  \n",
      "48890    False\n",
      "48891    False\n",
      "48892    False\n",
      "48893    False\n",
      "48894    False\n",
      "Length: 48895, dtype: bool\n",
      "0\n",
      "\n",
      "\n",
      "Empty DataFrame\n",
      "Columns: [id, name, host_id, host_name, neighbourhood_group, neighbourhood, latitude, longitude, room_type, price, minimum_nights, number_of_reviews, last_review, reviews_per_month, calculated_host_listings_count, availability_365]\n",
      "Index: []\n",
      "\n",
      "\n",
      "0\n",
      "     id                                              name  host_id  \\\n",
      "0  2539                Clean & quiet apt home by the park     2787   \n",
      "1  2595                             Skylit Midtown Castle     2845   \n",
      "2  3647               THE VILLAGE OF HARLEM....NEW YORK !     4632   \n",
      "3  3831                   Cozy Entire Floor of Brownstone     4869   \n",
      "4  5022  Entire Apt: Spacious Studio/Loft by central park     7192   \n",
      "5  5099         Large Cozy 1 BR Apartment In Midtown East     7322   \n",
      "6  5121                                   BlissArtsSpace!     7356   \n",
      "7  5178                  Large Furnished Room Near B'way      8967   \n",
      "8  5203                Cozy Clean Guest Room - Family Apt     7490   \n",
      "9  5238                Cute & Cozy Lower East Side 1 bdrm     7549   \n",
      "\n",
      "     host_name neighbourhood_group       neighbourhood  latitude  longitude  \\\n",
      "0         John            Brooklyn          Kensington  40.64749  -73.97237   \n",
      "1     Jennifer           Manhattan             Midtown  40.75362  -73.98377   \n",
      "2    Elisabeth           Manhattan              Harlem  40.80902  -73.94190   \n",
      "3  LisaRoxanne            Brooklyn        Clinton Hill  40.68514  -73.95976   \n",
      "4        Laura           Manhattan         East Harlem  40.79851  -73.94399   \n",
      "5        Chris           Manhattan         Murray Hill  40.74767  -73.97500   \n",
      "6        Garon            Brooklyn  Bedford-Stuyvesant  40.68688  -73.95596   \n",
      "7     Shunichi           Manhattan      Hell's Kitchen  40.76489  -73.98493   \n",
      "8    MaryEllen           Manhattan     Upper West Side  40.80178  -73.96723   \n",
      "9          Ben           Manhattan           Chinatown  40.71344  -73.99037   \n",
      "\n",
      "         room_type  price  minimum_nights  number_of_reviews last_review  \\\n",
      "0     Private room    149               1                  9  19-10-2018   \n",
      "1  Entire home/apt    225               1                 45  21-05-2019   \n",
      "2     Private room    150               3                  0         NaN   \n",
      "3  Entire home/apt     89               1                270  05-07-2019   \n",
      "4  Entire home/apt     80              10                  9  19-11-2018   \n",
      "5  Entire home/apt    200               3                 74  22-06-2019   \n",
      "6     Private room     60              45                 49  05-10-2017   \n",
      "7     Private room     79               2                430  24-06-2019   \n",
      "8     Private room     79               2                118  21-07-2017   \n",
      "9  Entire home/apt    150               1                160  09-06-2019   \n",
      "\n",
      "   reviews_per_month  calculated_host_listings_count  availability_365  \n",
      "0               0.21                               6               365  \n",
      "1               0.38                               2               355  \n",
      "2                NaN                               1               365  \n",
      "3               4.64                               1               194  \n",
      "4               0.10                               1                 0  \n",
      "5               0.59                               1               129  \n",
      "6               0.40                               1                 0  \n",
      "7               3.47                               1               220  \n",
      "8               0.99                               1                 0  \n",
      "9               1.33                               4               188  \n"
     ]
    }
   ],
   "source": [
    "print(df.duplicated())\n",
    "# above command gives True/False values if a row is duplicated it shows \n",
    "\n",
    "#sums up all True values from dataframe\n",
    "print(df.duplicated().sum())  \n",
    "\n",
    "# to get rows that are duplicated pass true values\n",
    "print('\\n')\n",
    "# keep = false --> will give all the occurance of rows which are duplicate\n",
    "# keep = first(default) --> will give last occurance of dup rows will keep first with dataframe\n",
    "# keep = last\n",
    "\n",
    "print(df[df.duplicated(keep=False)])              \n",
    "print('\\n')\n",
    "# lets drop last occurance , keep first will keep\n",
    "df.drop_duplicates(keep='first', inplace=True)\n",
    "\n",
    "print(df.duplicated().sum())\n",
    "print(df.head(10))"
   ]
  },
  {
   "cell_type": "code",
   "execution_count": 98,
   "metadata": {},
   "outputs": [
    {
     "name": "stdout",
     "output_type": "stream",
     "text": [
      "998\n",
      "____________________________________________________________________________________\n",
      "             id                                               name    host_id  \\\n",
      "73        17693                    HARLEM, NEW YORK WELCOMES YOU!!      68428   \n",
      "123       27883                             East Village Sanctuary     120223   \n",
      "171       44096                                   Room with a View     190409   \n",
      "267       64015                       Prime East Village 1 Bedroom     146944   \n",
      "321       77765                               Superior @ Box House     417504   \n",
      "...         ...                                                ...        ...   \n",
      "48684  36382847                                       Comfort home  266211707   \n",
      "48735  36412461  Sunny, Cozy, Private Room In The Heart of Bush...  147515897   \n",
      "48759  36420404                                    Home Sweet Home  273656890   \n",
      "48791  36427922                                Home away from home  238163900   \n",
      "48826  36449743                                  Brooklyn's finest   66084717   \n",
      "\n",
      "                 host_name neighbourhood_group       neighbourhood  latitude  \\\n",
      "73         Tye And Etienne           Manhattan  Washington Heights  40.83139   \n",
      "123                    Jen           Manhattan        East Village  40.72245   \n",
      "171               Waundell               Bronx          Highbridge  40.83232   \n",
      "267                  David           Manhattan        East Village  40.72807   \n",
      "321    The Box House Hotel            Brooklyn          Greenpoint  40.73749   \n",
      "...                    ...                 ...                 ...       ...   \n",
      "48684                  Yan            Brooklyn         Sunset Park  40.64439   \n",
      "48735               Flávia            Brooklyn            Bushwick  40.70366   \n",
      "48759                Liana           Manhattan         East Harlem  40.79266   \n",
      "48791                 Lucy              Queens     Cambria Heights  40.68557   \n",
      "48826                  Tim            Brooklyn       East Flatbush  40.65170   \n",
      "\n",
      "       longitude        room_type  price  minimum_nights  number_of_reviews  \\\n",
      "73     -73.94095     Private room     65               2                 49   \n",
      "123    -73.98527  Entire home/apt    100               4                 25   \n",
      "171    -73.93184     Private room     40               1                219   \n",
      "267    -73.98594  Entire home/apt    200               3                  0   \n",
      "321    -73.95292     Private room    179               3                 36   \n",
      "...          ...              ...    ...             ...                ...   \n",
      "48684  -74.01816     Private room    185               1                  0   \n",
      "48735  -73.92728     Private room     84               3                  0   \n",
      "48759  -73.94740     Private room     50               1                  0   \n",
      "48791  -73.72731     Private room     50               3                  0   \n",
      "48826  -73.92580  Entire home/apt    200               3                  0   \n",
      "\n",
      "      last_review  reviews_per_month  calculated_host_listings_count  \\\n",
      "73     18-06-2019               1.60                               2   \n",
      "123    10-12-2011               0.23                               1   \n",
      "171    04-07-2019               2.04                               3   \n",
      "267           NaN                NaN                               1   \n",
      "321    01-07-2019               0.36                              28   \n",
      "...           ...                ...                             ...   \n",
      "48684         NaN                NaN                               2   \n",
      "48735         NaN                NaN                               1   \n",
      "48759         NaN                NaN                               1   \n",
      "48791         NaN                NaN                               1   \n",
      "48826         NaN                NaN                               2   \n",
      "\n",
      "       availability_365  \n",
      "73                  336  \n",
      "123                   0  \n",
      "171                 353  \n",
      "267                   0  \n",
      "321                  79  \n",
      "...                 ...  \n",
      "48684               177  \n",
      "48735                28  \n",
      "48759                81  \n",
      "48791               176  \n",
      "48826               206  \n",
      "\n",
      "[1645 rows x 16 columns]\n"
     ]
    }
   ],
   "source": [
    "# to check if any col name or set of col name having duplicates\n",
    "print(df.duplicated('name').sum())\n",
    "print('____________________________________________________________________________________')\n",
    "print(df[df.duplicated('name', keep=False)])"
   ]
  },
  {
   "cell_type": "code",
   "execution_count": 103,
   "metadata": {},
   "outputs": [
    {
     "data": {
      "text/plain": [
       "np.int64(0)"
      ]
     },
     "execution_count": 103,
     "metadata": {},
     "output_type": "execute_result"
    }
   ],
   "source": [
    "df.duplicated(['id', 'name']).sum()\n",
    "\n",
    "# to get duplicated based on column names"
   ]
  },
  {
   "cell_type": "markdown",
   "metadata": {},
   "source": [
    "## handling outliers"
   ]
  },
  {
   "cell_type": "code",
   "execution_count": null,
   "metadata": {},
   "outputs": [],
   "source": []
  }
 ],
 "metadata": {
  "kernelspec": {
   "display_name": "pr-venv",
   "language": "python",
   "name": "python3"
  },
  "language_info": {
   "codemirror_mode": {
    "name": "ipython",
    "version": 3
   },
   "file_extension": ".py",
   "mimetype": "text/x-python",
   "name": "python",
   "nbconvert_exporter": "python",
   "pygments_lexer": "ipython3",
   "version": "3.9.11"
  }
 },
 "nbformat": 4,
 "nbformat_minor": 2
}
