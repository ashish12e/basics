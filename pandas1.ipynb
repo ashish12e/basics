{
 "cells": [
  {
   "cell_type": "code",
   "execution_count": 1,
   "metadata": {},
   "outputs": [
    {
     "ename": "ModuleNotFoundError",
     "evalue": "No module named 'pandas'",
     "output_type": "error",
     "traceback": [
      "\u001b[1;31m---------------------------------------------------------------------------\u001b[0m",
      "\u001b[1;31mModuleNotFoundError\u001b[0m                       Traceback (most recent call last)",
      "Cell \u001b[1;32mIn[1], line 1\u001b[0m\n\u001b[1;32m----> 1\u001b[0m \u001b[38;5;28;01mimport\u001b[39;00m \u001b[38;5;21;01mpandas\u001b[39;00m\n",
      "\u001b[1;31mModuleNotFoundError\u001b[0m: No module named 'pandas'"
     ]
    }
   ],
   "source": [
    "import pandas"
   ]
  },
  {
   "cell_type": "code",
   "execution_count": 2,
   "metadata": {},
   "outputs": [
    {
     "name": "stdout",
     "output_type": "stream",
     "text": [
      "Collecting pandas\n",
      "  Downloading pandas-2.2.3-cp39-cp39-win_amd64.whl (11.6 MB)\n",
      "     ---------------------------------------- 11.6/11.6 MB 3.7 MB/s eta 0:00:00\n",
      "Collecting numpy>=1.22.4\n",
      "  Downloading numpy-2.0.2-cp39-cp39-win_amd64.whl (15.9 MB)\n",
      "     ---------------------------------------- 15.9/15.9 MB 3.2 MB/s eta 0:00:00\n",
      "Collecting pytz>=2020.1\n",
      "  Downloading pytz-2024.2-py2.py3-none-any.whl (508 kB)\n",
      "     -------------------------------------- 508.0/508.0 KB 3.2 MB/s eta 0:00:00\n",
      "Requirement already satisfied: python-dateutil>=2.8.2 in c:\\users\\ashpi\\dataengmain\\projects\\basics\\pr-venv\\lib\\site-packages (from pandas) (2.9.0.post0)\n",
      "Collecting tzdata>=2022.7\n",
      "  Downloading tzdata-2024.2-py2.py3-none-any.whl (346 kB)\n",
      "     -------------------------------------- 346.6/346.6 KB 3.1 MB/s eta 0:00:00\n",
      "Requirement already satisfied: six>=1.5 in c:\\users\\ashpi\\dataengmain\\projects\\basics\\pr-venv\\lib\\site-packages (from python-dateutil>=2.8.2->pandas) (1.17.0)\n",
      "Installing collected packages: pytz, tzdata, numpy, pandas\n",
      "Successfully installed numpy-2.0.2 pandas-2.2.3 pytz-2024.2 tzdata-2024.2\n"
     ]
    },
    {
     "name": "stderr",
     "output_type": "stream",
     "text": [
      "WARNING: You are using pip version 22.0.4; however, version 24.3.1 is available.\n",
      "You should consider upgrading via the 'C:\\Users\\ashpi\\DataEngMain\\projects\\basics\\pr-venv\\Scripts\\python.exe -m pip install --upgrade pip' command.\n"
     ]
    }
   ],
   "source": [
    "! pip install pandas"
   ]
  },
  {
   "cell_type": "code",
   "execution_count": 2,
   "metadata": {},
   "outputs": [],
   "source": [
    "import numpy as np\n",
    "import pandas as pd"
   ]
  },
  {
   "cell_type": "code",
   "execution_count": 16,
   "metadata": {},
   "outputs": [
    {
     "name": "stdout",
     "output_type": "stream",
     "text": [
      "  0  1  2  3  4  5  6  7  8  9  10\n",
      "0  a  s  h  i  s  h  k  u  m  a  r\n",
      "1  a  s  h  i  s  h  k  u  m  a  r\n",
      "2  d  w  i  v  e  d  i  a  k  d  1\n"
     ]
    }
   ],
   "source": [
    "lst = [i for i in 'ashishkumar']\n",
    "lst2= [i for i in 'dwivediakd1']\n",
    "data = np.array([lst, lst, lst2])\n",
    "\n",
    "df = pd.DataFrame(data)\n",
    "print(df)"
   ]
  },
  {
   "cell_type": "code",
   "execution_count": 33,
   "metadata": {},
   "outputs": [
    {
     "name": "stdout",
     "output_type": "stream",
     "text": [
      "                       Name               Age                     Namee  \\\n",
      "0  [Tom, nick, krish, jack]  [20, 21, 19, 24]                       NaN   \n",
      "1  [Tom, nick, krish, jack]  [20, 21, 19, 24]                       NaN   \n",
      "2  [Ashish, Piyush, AD, PD]  [20, 21, 19, 24]                       NaN   \n",
      "3                       NaN               NaN  [Tom, nick, krish, jack]   \n",
      "\n",
      "              Ageee  \n",
      "0               NaN  \n",
      "1               NaN  \n",
      "2               NaN  \n",
      "3  [20, 21, 19, 24]  \n",
      "________________________________________________________________\n"
     ]
    },
    {
     "ename": "TypeError",
     "evalue": "unhashable type: 'dict'",
     "output_type": "error",
     "traceback": [
      "\u001b[1;31m---------------------------------------------------------------------------\u001b[0m",
      "\u001b[1;31mTypeError\u001b[0m                                 Traceback (most recent call last)",
      "Cell \u001b[1;32mIn[33], line 16\u001b[0m\n\u001b[0;32m     14\u001b[0m \u001b[38;5;28mprint\u001b[39m(df)\n\u001b[0;32m     15\u001b[0m \u001b[38;5;28mprint\u001b[39m(\u001b[38;5;124m'\u001b[39m\u001b[38;5;124m________________________________________________________________\u001b[39m\u001b[38;5;124m'\u001b[39m)\n\u001b[1;32m---> 16\u001b[0m data1 \u001b[38;5;241m=\u001b[39m {{\u001b[38;5;124m'\u001b[39m\u001b[38;5;124mName\u001b[39m\u001b[38;5;124m'\u001b[39m:[\u001b[38;5;124m'\u001b[39m\u001b[38;5;124mTom\u001b[39m\u001b[38;5;124m'\u001b[39m, \u001b[38;5;124m'\u001b[39m\u001b[38;5;124mnick\u001b[39m\u001b[38;5;124m'\u001b[39m, \u001b[38;5;124m'\u001b[39m\u001b[38;5;124mkrish\u001b[39m\u001b[38;5;124m'\u001b[39m, \u001b[38;5;124m'\u001b[39m\u001b[38;5;124mjack\u001b[39m\u001b[38;5;124m'\u001b[39m],\n\u001b[0;32m     17\u001b[0m         \u001b[38;5;124m'\u001b[39m\u001b[38;5;124mAge\u001b[39m\u001b[38;5;124m'\u001b[39m:[\u001b[38;5;241m20\u001b[39m, \u001b[38;5;241m21\u001b[39m, \u001b[38;5;241m19\u001b[39m,\u001b[38;5;241m24\u001b[39m]},\n\u001b[0;32m     18\u001b[0m         {\u001b[38;5;124m'\u001b[39m\u001b[38;5;124mName\u001b[39m\u001b[38;5;124m'\u001b[39m:[\u001b[38;5;124m'\u001b[39m\u001b[38;5;124mTom\u001b[39m\u001b[38;5;124m'\u001b[39m, \u001b[38;5;124m'\u001b[39m\u001b[38;5;124mnick\u001b[39m\u001b[38;5;124m'\u001b[39m, \u001b[38;5;124m'\u001b[39m\u001b[38;5;124mkrish\u001b[39m\u001b[38;5;124m'\u001b[39m, \u001b[38;5;124m'\u001b[39m\u001b[38;5;124mjack\u001b[39m\u001b[38;5;124m'\u001b[39m],\n\u001b[0;32m     19\u001b[0m         \u001b[38;5;124m'\u001b[39m\u001b[38;5;124mAge\u001b[39m\u001b[38;5;124m'\u001b[39m:[\u001b[38;5;241m20\u001b[39m, \u001b[38;5;241m21\u001b[39m, \u001b[38;5;241m19\u001b[39m,\u001b[38;5;241m24\u001b[39m]},\n\u001b[0;32m     20\u001b[0m         {\u001b[38;5;124m'\u001b[39m\u001b[38;5;124mName\u001b[39m\u001b[38;5;124m'\u001b[39m:[\u001b[38;5;124m'\u001b[39m\u001b[38;5;124mAshish\u001b[39m\u001b[38;5;124m'\u001b[39m, \u001b[38;5;124m'\u001b[39m\u001b[38;5;124mRamesh\u001b[39m\u001b[38;5;124m'\u001b[39m, \u001b[38;5;124m'\u001b[39m\u001b[38;5;124mRam\u001b[39m\u001b[38;5;124m'\u001b[39m, \u001b[38;5;124m'\u001b[39m\u001b[38;5;124mAD\u001b[39m\u001b[38;5;124m'\u001b[39m],\n\u001b[0;32m     21\u001b[0m         \u001b[38;5;124m'\u001b[39m\u001b[38;5;124mAge\u001b[39m\u001b[38;5;124m'\u001b[39m:[\u001b[38;5;241m20\u001b[39m, \u001b[38;5;241m21\u001b[39m, \u001b[38;5;241m19\u001b[39m,\u001b[38;5;241m24\u001b[39m]},\n\u001b[0;32m     22\u001b[0m         {\u001b[38;5;124m'\u001b[39m\u001b[38;5;124mName\u001b[39m\u001b[38;5;124m'\u001b[39m:[\u001b[38;5;124m'\u001b[39m\u001b[38;5;124mTom\u001b[39m\u001b[38;5;124m'\u001b[39m, \u001b[38;5;124m'\u001b[39m\u001b[38;5;124mnick\u001b[39m\u001b[38;5;124m'\u001b[39m, \u001b[38;5;124m'\u001b[39m\u001b[38;5;124mkrish\u001b[39m\u001b[38;5;124m'\u001b[39m, \u001b[38;5;124m'\u001b[39m\u001b[38;5;124mjack\u001b[39m\u001b[38;5;124m'\u001b[39m], \n\u001b[0;32m     23\u001b[0m         \u001b[38;5;124m'\u001b[39m\u001b[38;5;124mAge\u001b[39m\u001b[38;5;124m'\u001b[39m:[\u001b[38;5;241m20\u001b[39m, \u001b[38;5;241m21\u001b[39m, \u001b[38;5;241m19\u001b[39m,\u001b[38;5;241m24\u001b[39m]}}\n\u001b[0;32m     24\u001b[0m df \u001b[38;5;241m=\u001b[39m pd\u001b[38;5;241m.\u001b[39mDataFrame(data1)\n\u001b[0;32m     25\u001b[0m \u001b[38;5;28mprint\u001b[39m(df)\n",
      "\u001b[1;31mTypeError\u001b[0m: unhashable type: 'dict'"
     ]
    }
   ],
   "source": [
    "# data = {'Name':['Tom', 'nick', 'krish', 'jack'],\n",
    "#         'Age':[20, 21, 19]}\n",
    "# above dict data will throw error due to mismatch or array\n",
    "# --> ValueError: All arrays must be of the same length\n",
    "data = [{'Name':['Tom', 'nick', 'krish', 'jack'],\n",
    "        'Age':[20, 21, 19,24]},\n",
    "        {'Name':['Tom', 'nick', 'krish', 'jack'],\n",
    "        'Age':[20, 21, 19,24]},\n",
    "        {'Name':['Ashish', 'Piyush', 'AD', 'PD'],\n",
    "        'Age':[20, 21, 19,24]},\n",
    "        {'Namee':['Tom', 'nick', 'krish', 'jack'], #dataframe will insert NaN when any key is missing from dict of list\n",
    "        'Ageee':[20, 21, 19,24]}]\n",
    "df = pd.DataFrame(data)\n",
    "print(df)\n",
    "print('________________________________________________________________')\n",
    "data1 = {{'Name':['Tom', 'nick', 'krish', 'jack'],\n",
    "        'Age':[20, 21, 19,24]},\n",
    "        {'Name':['Tom', 'nick', 'krish', 'jack'],\n",
    "        'Age':[20, 21, 19,24]},\n",
    "        {'Name':['Ashish', 'Ramesh', 'Ram', 'AD'],\n",
    "        'Age':[20, 21, 19,24]},\n",
    "        {'Name':['Tom', 'nick', 'krish', 'jack'], \n",
    "        'Age':[20, 21, 19,24]}}\n",
    "df = pd.DataFrame(data1)\n",
    "print(df)"
   ]
  },
  {
   "cell_type": "markdown",
   "metadata": {},
   "source": [
    "## Reading a CSV File"
   ]
  },
  {
   "cell_type": "code",
   "execution_count": 64,
   "metadata": {},
   "outputs": [
    {
     "name": "stdout",
     "output_type": "stream",
     "text": [
      "Index(['App', 'Category', 'Rating', 'Reviews', 'Size', 'Installs', 'Type',\n",
      "       'Price', 'Content Rating', 'Genres', 'Last Updated', 'Current Ver',\n",
      "       'Android Ver'],\n",
      "      dtype='object')\n",
      "______________________________________________________________________________________________\n",
      "0       Photo Editor & Candy Camera & Grid & ScrapBook\n",
      "1                                  Coloring book moana\n",
      "2    U Launcher Lite – FREE Live Cool Themes, Hide ...\n",
      "3                                Sketch - Draw & Paint\n",
      "4                Pixel Draw - Number Art Coloring Book\n",
      "5                           Paper flowers instructions\n",
      "6              Smoke Effect Photo Maker - Smoke Editor\n",
      "7                                     Infinite Painter\n",
      "8                                 Garden Coloring Book\n",
      "9                        Kids Paint Free - Drawing Fun\n",
      "Name: App, dtype: object\n",
      "length of top 10 data frame --> 10\n",
      "______________________________________________________________________________________________\n",
      "10841\n"
     ]
    }
   ],
   "source": [
    "\n",
    "#csv_data = pd.read_csv(r'C:\\Users\\ashpi\\DataEngMain\\projects\\basics\\rawdata\\csv\\googleplaystore.csv')\n",
    "\n",
    "#above is full path read , below is relative path\n",
    "csv_data = pd.read_csv('rawdata\\csv\\googleplaystore.csv')\n",
    "## get top 5 data\n",
    "top_10 = csv_data.head(10)\n",
    "\n",
    "print(csv_data.columns)\n",
    "print('______________________________________________________________________________________________')\n",
    "\n",
    "# to get any column data specify the index name\n",
    "print(top_10['App'])\n",
    "print('length of top 10 data frame -->', len(top_10['App']))\n",
    "print('______________________________________________________________________________________________')\n",
    "print(len(csv_data['Rating']))"
   ]
  },
  {
   "cell_type": "code",
   "execution_count": 96,
   "metadata": {},
   "outputs": [
    {
     "name": "stdout",
     "output_type": "stream",
     "text": [
      "to check total field if having --> App                  0\n",
      "Category             0\n",
      "Rating            1474\n",
      "Reviews              0\n",
      "Size                 0\n",
      "Installs             0\n",
      "Type                 1\n",
      "Price                0\n",
      "Content Rating       1\n",
      "Genres               0\n",
      "Last Updated         0\n",
      "Current Ver          8\n",
      "Android Ver          3\n",
      "dtype: int64\n",
      "to check any particular column --> 8\n",
      "ART_AND_DESIGN\n",
      "AUTO_AND_VEHICLES\n",
      "BEAUTY\n",
      "BOOKS_AND_REFERENCE\n",
      "BUSINESS\n",
      "COMICS\n",
      "COMMUNICATION\n",
      "DATING\n",
      "EDUCATION\n",
      "ENTERTAINMENT\n",
      "EVENTS\n",
      "FINANCE\n",
      "FOOD_AND_DRINK\n",
      "HEALTH_AND_FITNESS\n",
      "HOUSE_AND_HOME\n",
      "LIBRARIES_AND_DEMO\n",
      "LIFESTYLE\n",
      "GAME\n",
      "FAMILY\n",
      "MEDICAL\n",
      "SOCIAL\n",
      "SHOPPING\n",
      "PHOTOGRAPHY\n",
      "SPORTS\n",
      "TRAVEL_AND_LOCAL\n",
      "TOOLS\n",
      "PERSONALIZATION\n",
      "PRODUCTIVITY\n",
      "PARENTING\n",
      "WEATHER\n",
      "VIDEO_PLAYERS\n",
      "NEWS_AND_MAGAZINES\n",
      "MAPS_AND_NAVIGATION\n",
      "1.9\n"
     ]
    }
   ],
   "source": [
    "print('to check total field if having -->', csv_data.isnull().sum())\n",
    "\n",
    "# to check if column 'current Ver' has any null values or not \n",
    "print('to check any particular column -->',csv_data['Current Ver'].isnull().sum())\n",
    "\n",
    "# to check if any duplicates is there in any column, multiple columns can also be given\n",
    "csv_data['App'].duplicated()\n",
    "\n",
    "# to get unique values from a column\n",
    "type(csv_data['Category'].unique())\n",
    "for i in csv_data['Category'].unique():\n",
    "    print(i)"
   ]
  },
  {
   "cell_type": "code",
   "execution_count": 116,
   "metadata": {},
   "outputs": [
    {
     "name": "stdout",
     "output_type": "stream",
     "text": [
      "App               0\n",
      "Category          0\n",
      "Rating            0\n",
      "Reviews           0\n",
      "Size              0\n",
      "Installs          0\n",
      "Type              1\n",
      "Price             0\n",
      "Content Rating    1\n",
      "Genres            0\n",
      "Last Updated      0\n",
      "Current Ver       8\n",
      "Android Ver       3\n",
      "dtype: int64\n",
      "_____________________________________________________________________________________________________\n",
      "count      10841\n",
      "unique        34\n",
      "top       FAMILY\n",
      "freq        1972\n",
      "Name: Category, dtype: object\n",
      "1972\n",
      "1972\n",
      "______________occurnace of each value in a column_______________\n",
      "ART_AND_DESIGN : 65\n",
      "AUTO_AND_VEHICLES : 85\n",
      "BEAUTY : 53\n",
      "BOOKS_AND_REFERENCE : 231\n",
      "BUSINESS : 460\n",
      "COMICS : 60\n",
      "COMMUNICATION : 387\n",
      "DATING : 234\n",
      "EDUCATION : 156\n",
      "ENTERTAINMENT : 149\n",
      "EVENTS : 64\n",
      "FINANCE : 366\n",
      "FOOD_AND_DRINK : 127\n",
      "HEALTH_AND_FITNESS : 341\n",
      "HOUSE_AND_HOME : 88\n",
      "LIBRARIES_AND_DEMO : 85\n",
      "LIFESTYLE : 382\n",
      "GAME : 1144\n",
      "FAMILY : 1972\n",
      "MEDICAL : 463\n",
      "SOCIAL : 295\n",
      "SHOPPING : 260\n",
      "PHOTOGRAPHY : 335\n",
      "SPORTS : 384\n",
      "TRAVEL_AND_LOCAL : 258\n",
      "TOOLS : 843\n",
      "PERSONALIZATION : 392\n",
      "PRODUCTIVITY : 424\n",
      "PARENTING : 60\n",
      "WEATHER : 82\n",
      "VIDEO_PLAYERS : 175\n",
      "NEWS_AND_MAGAZINES : 283\n",
      "MAPS_AND_NAVIGATION : 137\n",
      "1.9 : 1\n"
     ]
    }
   ],
   "source": [
    "# dropping rows from dataframe which having NaN\n",
    "csv_data.dropna()\n",
    "\n",
    "# to fill values having NaN with some default value , since we can not remove whole data if a single column\n",
    "# entry is null\n",
    "\n",
    "fillna_csv_data = csv_data.fillna(4.5)\n",
    "fillna_csv_data.isnull().sum()  #<-- sum of nan  values by each column\n",
    "# we should always fill data based on column names , since every column has some different value\n",
    "# so fill data based on column values\n",
    "fill_rating = csv_data.fillna({'Rating': 4.5})\n",
    "## above command only fills rating column , to add more columns we can add multiple dict column value pairs\n",
    "print(fill_rating.isnull().sum())\n",
    "\n",
    "## describe tells us about column details\n",
    "print('_____________________________________________________________________________________________________')\n",
    "print(csv_data['Category'].describe())\n",
    "\n",
    "#Counting occurance of a value in table\n",
    "print(csv_data['Category'].value_counts().get('FAMILY', 0))\n",
    "\n",
    "print((csv_data['Category'] == 'FAMILY').sum())\n",
    "\n",
    "print('______________occurnace of each value in a column_______________')\n",
    "for cat in csv_data['Category'].unique():\n",
    "    print(cat , \":\", csv_data['Category'].value_counts().get(cat, 0))"
   ]
  },
  {
   "cell_type": "code",
   "execution_count": null,
   "metadata": {},
   "outputs": [],
   "source": []
  }
 ],
 "metadata": {
  "kernelspec": {
   "display_name": "pr-venv",
   "language": "python",
   "name": "python3"
  },
  "language_info": {
   "codemirror_mode": {
    "name": "ipython",
    "version": 3
   },
   "file_extension": ".py",
   "mimetype": "text/x-python",
   "name": "python",
   "nbconvert_exporter": "python",
   "pygments_lexer": "ipython3",
   "version": "3.9.11"
  }
 },
 "nbformat": 4,
 "nbformat_minor": 2
}
